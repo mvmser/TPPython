{
 "cells": [
  {
   "cell_type": "markdown",
   "metadata": {
    "_uuid": "fdb0a9b3640bb8e12c6ce9ab2b9b64f9b0fbff65"
   },
   "source": [
    "# **Pandas Tutorial** <a id=\"0\"></a>\n",
    "<hr>\n",
    "1. [Overview](#1)\n",
    "2. [Pandas Library About](#2)\n",
    "3. [Import Library](#3)\n",
    "4. [Pandas Data Structure](#4)\n",
    "    * [Series](#5)\n",
    "    * [DataFrame](#6)\n",
    "5. [Import Data](#7)\n",
    "    * [CSV](#8)\n",
    "    * [Excel](#9)\n",
    "    * [Others(json, SQL, html)](#10)\n",
    "6. [Exporting Data](#11)\n",
    "7. [Create Test Objects](#12)\n",
    "8. [Summariza Data](#13)\n",
    "    * [df.info()](#14)\n",
    "    * [df.shape()](#15)\n",
    "    * [df.index](#16)\n",
    "    * [df.columns](#17)\n",
    "    * [df.count()](#18)\n",
    "    * [df.sum()](#19)\n",
    "    * [df.cumsum()](#20)\n",
    "    * [df.min()](#21)\n",
    "    * [df.max()](#22)\n",
    "    * [idxmin()](#23)\n",
    "    * [idxmax()](#24)\n",
    "    * [df.describe()](#25)\n",
    "    * [df.mean()](#26)\n",
    "    * [df.median()](#27)\n",
    "    * [df.quantile([0.25,0.75])](#28)\n",
    "    * [df.var()](#29)\n",
    "    * [df.std()](#30)\n",
    "    * [df.cummax()](#31)\n",
    "    * [df.cummin()](#32)\n",
    "    * [df['columnName'].cumproad()](#33)\n",
    "    * [len(df)](#34)\n",
    "    * [df.isnull()](#35)\n",
    "    * [df.corr()](#81)\n",
    "9. [Pandas with Selection & Filtering](#36)\n",
    "    * [series['index']](#37)\n",
    "    * [df[n:n]](#38)\n",
    "    * [df.iloc[[0],[5]]](#39)\n",
    "    * [df.loc[n:n]](#40)\n",
    "    * [df['columnName']](#41)\n",
    "    * [df['columnName][n]](#42)\n",
    "    * [df['columnName'].nunique()](#43)\n",
    "    * [df['columnName'].unique()](#44)\n",
    "    * [df.columnName](#45)\n",
    "    * [df['columnName'].value_counts(dropna =False)](#46)\n",
    "    * [df.head(n)](#47)\n",
    "    * [df.tail(n)](#48)\n",
    "    * [df.sample(n)](#49)\n",
    "    * [df.sample(frac=0.5)](#50)\n",
    "    * [df.nlargest(n,'columnName')](#51)\n",
    "    * [df.nsmallest(n,'columnName')](#52)\n",
    "    * [df[df.columnName < n]](#53)\n",
    "    * [df[['columnName','columnName']] ](#54)\n",
    "    * [df.loc[:,\"columnName1\":\"columnName2\"]](#55)\n",
    "    * [Create Filter](#56)\n",
    "    * [df.filter(regex = 'code')](#57)\n",
    "    * [np.logical_and](#58)\n",
    "    * [Filtering with &](#59)\n",
    "10. [Sort Data](#60)\n",
    "    * [df.sort_values('columnName')](#61)\n",
    "    * [df.sort_values('columnName', ascending=False)](#62)\n",
    "    * [df.sort_index()](#63)\n",
    "11. [Rename & Defining New & Change Columns](#64)\n",
    "    * [df.rename(columns= {'columnName' : 'newColumnName'})](#65)\n",
    "    * [Defining New Column](#66)\n",
    "    * [Change Index Name](#67)\n",
    "    * [Make all columns lowercase](#68)\n",
    "    * [Make all columns uppercase](#69)\n",
    "12. [Drop Data](#70)\n",
    "    * [df.drop(columns=['columnName'])](#71)\n",
    "    * [Series.drop(['index'])](#72)\n",
    "    * [Drop an observation (row)](#82)\n",
    "    * [Drop a variable (column)](#83)\n",
    "13. [Convert Data Types](#73)\n",
    "    * [df.dtypes](#74)\n",
    "    * [df['columnName'] = df['columnName'].astype('dataType')](#75)\n",
    "    * [pd.melt(frame=dataFrameName,id_vars = 'columnName', value_vars= ['columnName'])](#76)\n",
    "14. [Apply Function](#77)\n",
    "    * [Method 1](#78)\n",
    "    * [Method 2](#79)\n",
    "15. [Utilities Code](#80)"
   ]
  },
  {
   "cell_type": "markdown",
   "metadata": {
    "_uuid": "cffb32e6054a2bfb615322322c108e19d8d69a69"
   },
   "source": [
    "# **Overview** <a id=\"1\"></a>\n",
    "<mark>[Return Contents](#0)\n",
    "<hr>\n",
    "\n",
    "Welcome to my Kernel! In this kernel, I show you Pandas functions and how to use pandas. Why do I this? Because everyone who's just starting out or who's a professional is using the pandas.\n",
    "\n",
    "If you have a question or feedback, do not hesitate to write and if you **like** this kernel, please do not forget to **UPVOTE**."
   ]
  },
  {
   "cell_type": "markdown",
   "metadata": {
    "_uuid": "8851575f447385ce4440ddb0247c64bca54fd46e"
   },
   "source": [
    "# **What is the pandas?** <a id=\"2\"></a>\n",
    "<mark>[Return Contents](#0)\n",
    "<hr>\n",
    "\n",
    "pandas is an open source, BSD-licensed library providing high-performance, easy-to-use data structures and data analysis tools for the Python programming language.\n",
    "\n",
    "pandas is a NumFOCUS sponsored project. This will help ensure the success of development of pandas as a world-class open-source project, and makes it possible to donate to the project."
   ]
  },
  {
   "cell_type": "markdown",
   "metadata": {
    "_uuid": "4f0d13801b0c7e0cac286cb5219ccf2d39047225"
   },
   "source": [
    "# **Import Library** <a id=\"3\"></a>\n",
    "<mark>[Return Contents](#0)\n",
    "<hr>"
   ]
  },
  {
   "cell_type": "code",
   "execution_count": 2,
   "metadata": {
    "_cell_guid": "b1076dfc-b9ad-4769-8c92-a6c4dae69d19",
    "_uuid": "8f2839f25d086af736a60e9eeb907d3b93b6e0e5"
   },
   "outputs": [
    {
     "name": "stdout",
     "output_type": "stream",
     "text": [
      "['combinedNewsExcel.xlsx', 'Combined_News_DJIA.csv', 'RedditNews.csv', 'RedditNewsExcel.xlsx', 'upload_DJIA_table.csv']\n"
     ]
    }
   ],
   "source": [
    "import numpy as np # linear algebra\n",
    "import pandas as pd # import in pandas\n",
    "\n",
    "import os\n",
    "print(os.listdir(\"./input\"))"
   ]
  },
  {
   "cell_type": "markdown",
   "metadata": {
    "_uuid": "a426ae53d18d45d00983d551db00a7467187d619"
   },
   "source": [
    "# **Pandas Data Structure** <a id=\"4\"></a>\n",
    "<mark>[Return Contents](#0)\n",
    "<hr>\n",
    "\n",
    "Pandas has two types of data structures. These are series and dataframe.\n",
    "\n",
    "### **Series** <a id=\"5\"></a>\n",
    "\n",
    "The series is a one-dimensional labeled array. It can accommodate any type of data in it."
   ]
  },
  {
   "cell_type": "code",
   "execution_count": 3,
   "metadata": {
    "_uuid": "1263fb3f8afa0fc2b233693bb8b14305be64a868"
   },
   "outputs": [
    {
     "data": {
      "text/plain": [
       "pandas.core.series.Series"
      ]
     },
     "execution_count": 3,
     "metadata": {},
     "output_type": "execute_result"
    }
   ],
   "source": [
    "mySeries = pd.Series([3,-5,7,4], index=['a','b','c','d'])\n",
    "type(mySeries)"
   ]
  },
  {
   "cell_type": "markdown",
   "metadata": {
    "_uuid": "2b73b3f939dde85b87b827c6ce48887598c5f206"
   },
   "source": [
    "### **DataFrame** <a id=\"6\"></a>\n",
    "\n",
    "The dataframe is a two-dimensional data structure. It contains columns."
   ]
  },
  {
   "cell_type": "code",
   "execution_count": 4,
   "metadata": {
    "_uuid": "5fe39122825e7b4ad3b51dd48fc265326343f289"
   },
   "outputs": [
    {
     "name": "stdout",
     "output_type": "stream",
     "text": [
      "<class 'dict'>\n",
      "<class 'pandas.core.frame.DataFrame'>\n",
      "{'Country': ['Belgium', 'India', 'Brazil'], 'Capital': ['Brussels', 'New Delhi', 'Brassilia'], 'Population': [1234, 1234, 1234]}\n"
     ]
    },
    {
     "data": {
      "text/html": [
       "<div>\n",
       "<style scoped>\n",
       "    .dataframe tbody tr th:only-of-type {\n",
       "        vertical-align: middle;\n",
       "    }\n",
       "\n",
       "    .dataframe tbody tr th {\n",
       "        vertical-align: top;\n",
       "    }\n",
       "\n",
       "    .dataframe thead th {\n",
       "        text-align: right;\n",
       "    }\n",
       "</style>\n",
       "<table border=\"1\" class=\"dataframe\">\n",
       "  <thead>\n",
       "    <tr style=\"text-align: right;\">\n",
       "      <th></th>\n",
       "      <th>Country</th>\n",
       "      <th>Capital</th>\n",
       "      <th>Population</th>\n",
       "    </tr>\n",
       "  </thead>\n",
       "  <tbody>\n",
       "    <tr>\n",
       "      <th>0</th>\n",
       "      <td>Belgium</td>\n",
       "      <td>Brussels</td>\n",
       "      <td>1234</td>\n",
       "    </tr>\n",
       "    <tr>\n",
       "      <th>1</th>\n",
       "      <td>India</td>\n",
       "      <td>New Delhi</td>\n",
       "      <td>1234</td>\n",
       "    </tr>\n",
       "    <tr>\n",
       "      <th>2</th>\n",
       "      <td>Brazil</td>\n",
       "      <td>Brassilia</td>\n",
       "      <td>1234</td>\n",
       "    </tr>\n",
       "  </tbody>\n",
       "</table>\n",
       "</div>"
      ],
      "text/plain": [
       "   Country    Capital  Population\n",
       "0  Belgium   Brussels        1234\n",
       "1    India  New Delhi        1234\n",
       "2   Brazil  Brassilia        1234"
      ]
     },
     "execution_count": 4,
     "metadata": {},
     "output_type": "execute_result"
    }
   ],
   "source": [
    "data = {'Country' : ['Belgium', 'India', 'Brazil' ],\n",
    "        'Capital': ['Brussels', 'New Delhi', 'Brassilia'],\n",
    "        'Population': [1234,1234,1234]}\n",
    "datas = pd.DataFrame(data, columns=['Country','Capital','Population'])\n",
    "print(type(data))\n",
    "print(type(datas))\n",
    "\n",
    "print(data)\n",
    "datas"
   ]
  },
  {
   "cell_type": "markdown",
   "metadata": {
    "_uuid": "1316f32ba568af226f868caf2b0e693130a5bb5f"
   },
   "source": [
    "# **Import Library** <a id=\"7\"></a>\n",
    "<mark>[Return Contents](#0)\n",
    "<hr>\n",
    "\n",
    "With pandas, we can open CSV, Excel and SQL databases. I will show you how to use this method for CSV and Excel files only.\n",
    "\n",
    "### **CSV(comma - separated values)** <a id=\"8\"></a>\n",
    "\n",
    "It is very easy to open and read CSV files and to overwrite the CSV file."
   ]
  },
  {
   "cell_type": "code",
   "execution_count": 5,
   "metadata": {
    "_uuid": "504c6eeb8668b0a46380e5e24f314269284e119d"
   },
   "outputs": [
    {
     "data": {
      "text/plain": [
       "pandas.core.frame.DataFrame"
      ]
     },
     "execution_count": 5,
     "metadata": {},
     "output_type": "execute_result"
    }
   ],
   "source": [
    "df_combined_news = pd.read_csv('./input/Combined_News_DJIA.csv')\n",
    "type(df_combined_news)\n",
    "# If your Python file is not in the same folder as your CSV file, you should do this as follows.\n",
    "# df = pd.read_csv('/home/desktop/Iris.csv')"
   ]
  },
  {
   "cell_type": "markdown",
   "metadata": {
    "_uuid": "644c4eceafba990426b635cd66cb49a4be34de0a"
   },
   "source": [
    "### **Excel** <a id=\"9\"></a>\n",
    "\n",
    "When we want to work with Excel files, we need to type the following code."
   ]
  },
  {
   "cell_type": "code",
   "execution_count": 6,
   "metadata": {
    "_uuid": "468b5105d9feffb1d54cb7752cc57a07687e61dc"
   },
   "outputs": [
    {
     "data": {
      "text/html": [
       "<div>\n",
       "<style scoped>\n",
       "    .dataframe tbody tr th:only-of-type {\n",
       "        vertical-align: middle;\n",
       "    }\n",
       "\n",
       "    .dataframe tbody tr th {\n",
       "        vertical-align: top;\n",
       "    }\n",
       "\n",
       "    .dataframe thead th {\n",
       "        text-align: right;\n",
       "    }\n",
       "</style>\n",
       "<table border=\"1\" class=\"dataframe\">\n",
       "  <thead>\n",
       "    <tr style=\"text-align: right;\">\n",
       "      <th></th>\n",
       "      <th>Date</th>\n",
       "      <th>News</th>\n",
       "    </tr>\n",
       "  </thead>\n",
       "  <tbody>\n",
       "    <tr>\n",
       "      <th>0</th>\n",
       "      <td>2016-07-01</td>\n",
       "      <td>A 117-year-old woman in Mexico City finally re...</td>\n",
       "    </tr>\n",
       "    <tr>\n",
       "      <th>1</th>\n",
       "      <td>2016-07-01</td>\n",
       "      <td>IMF chief backs Athens as permanent Olympic host</td>\n",
       "    </tr>\n",
       "    <tr>\n",
       "      <th>2</th>\n",
       "      <td>2016-07-01</td>\n",
       "      <td>The president of France says if Brexit won, so...</td>\n",
       "    </tr>\n",
       "    <tr>\n",
       "      <th>3</th>\n",
       "      <td>2016-07-01</td>\n",
       "      <td>British Man Who Must Give Police 24 Hours' Not...</td>\n",
       "    </tr>\n",
       "    <tr>\n",
       "      <th>4</th>\n",
       "      <td>2016-07-01</td>\n",
       "      <td>100+ Nobel laureates urge Greenpeace to stop o...</td>\n",
       "    </tr>\n",
       "    <tr>\n",
       "      <th>5</th>\n",
       "      <td>2016-07-01</td>\n",
       "      <td>Brazil: Huge spike in number of police killing...</td>\n",
       "    </tr>\n",
       "    <tr>\n",
       "      <th>6</th>\n",
       "      <td>2016-07-01</td>\n",
       "      <td>Austria's highest court annuls presidential el...</td>\n",
       "    </tr>\n",
       "    <tr>\n",
       "      <th>7</th>\n",
       "      <td>2016-07-01</td>\n",
       "      <td>Facebook wins privacy case, can track any Belg...</td>\n",
       "    </tr>\n",
       "    <tr>\n",
       "      <th>8</th>\n",
       "      <td>2016-07-01</td>\n",
       "      <td>Switzerland denies Muslim girls citizenship af...</td>\n",
       "    </tr>\n",
       "    <tr>\n",
       "      <th>9</th>\n",
       "      <td>2016-07-01</td>\n",
       "      <td>China kills millions of innocent meditators fo...</td>\n",
       "    </tr>\n",
       "    <tr>\n",
       "      <th>10</th>\n",
       "      <td>2016-07-01</td>\n",
       "      <td>France Cracks Down on Factory Farms - A viral ...</td>\n",
       "    </tr>\n",
       "    <tr>\n",
       "      <th>11</th>\n",
       "      <td>2016-07-01</td>\n",
       "      <td>Abbas PLO Faction Calls Killer of 13-Year-Old ...</td>\n",
       "    </tr>\n",
       "    <tr>\n",
       "      <th>12</th>\n",
       "      <td>2016-07-01</td>\n",
       "      <td>Taiwanese warship accidentally fires missile t...</td>\n",
       "    </tr>\n",
       "    <tr>\n",
       "      <th>13</th>\n",
       "      <td>2016-07-01</td>\n",
       "      <td>Iran celebrates American Human Rights Week, mo...</td>\n",
       "    </tr>\n",
       "    <tr>\n",
       "      <th>14</th>\n",
       "      <td>2016-07-01</td>\n",
       "      <td>U.N. panel moves to curb bias against L.G.B.T....</td>\n",
       "    </tr>\n",
       "    <tr>\n",
       "      <th>15</th>\n",
       "      <td>2016-07-01</td>\n",
       "      <td>The United States has placed Myanmar, Uzbekist...</td>\n",
       "    </tr>\n",
       "    <tr>\n",
       "      <th>16</th>\n",
       "      <td>2016-07-01</td>\n",
       "      <td>S&amp;amp;P revises European Union credit rating t...</td>\n",
       "    </tr>\n",
       "    <tr>\n",
       "      <th>17</th>\n",
       "      <td>2016-07-01</td>\n",
       "      <td>India gets $1 billion loan from World Bank for...</td>\n",
       "    </tr>\n",
       "    <tr>\n",
       "      <th>18</th>\n",
       "      <td>2016-07-01</td>\n",
       "      <td>U.S. sailors detained by Iran spoke too much u...</td>\n",
       "    </tr>\n",
       "    <tr>\n",
       "      <th>19</th>\n",
       "      <td>2016-07-01</td>\n",
       "      <td>Mass fish kill in Vietnam solved as Taiwan ste...</td>\n",
       "    </tr>\n",
       "    <tr>\n",
       "      <th>20</th>\n",
       "      <td>2016-07-01</td>\n",
       "      <td>Philippines president Rodrigo Duterte urges pe...</td>\n",
       "    </tr>\n",
       "    <tr>\n",
       "      <th>21</th>\n",
       "      <td>2016-07-01</td>\n",
       "      <td>Spain arrests three Pakistanis accused of prom...</td>\n",
       "    </tr>\n",
       "    <tr>\n",
       "      <th>22</th>\n",
       "      <td>2016-07-01</td>\n",
       "      <td>Venezuela, where anger over food shortages is ...</td>\n",
       "    </tr>\n",
       "    <tr>\n",
       "      <th>23</th>\n",
       "      <td>2016-07-01</td>\n",
       "      <td>A Hindu temple worker has been killed by three...</td>\n",
       "    </tr>\n",
       "    <tr>\n",
       "      <th>24</th>\n",
       "      <td>2016-07-01</td>\n",
       "      <td>Ozone layer hole seems to be healing - US &amp;amp...</td>\n",
       "    </tr>\n",
       "    <tr>\n",
       "      <th>25</th>\n",
       "      <td>2016-06-30</td>\n",
       "      <td>Jamaica proposes marijuana dispensers for tour...</td>\n",
       "    </tr>\n",
       "    <tr>\n",
       "      <th>26</th>\n",
       "      <td>2016-06-30</td>\n",
       "      <td>Stephen Hawking says pollution and 'stupidity'...</td>\n",
       "    </tr>\n",
       "    <tr>\n",
       "      <th>27</th>\n",
       "      <td>2016-06-30</td>\n",
       "      <td>Boris Johnson says he will not run for Tory pa...</td>\n",
       "    </tr>\n",
       "    <tr>\n",
       "      <th>28</th>\n",
       "      <td>2016-06-30</td>\n",
       "      <td>Six gay men in Ivory Coast were abused and for...</td>\n",
       "    </tr>\n",
       "    <tr>\n",
       "      <th>29</th>\n",
       "      <td>2016-06-30</td>\n",
       "      <td>Switzerland denies citizenship to Muslim immig...</td>\n",
       "    </tr>\n",
       "    <tr>\n",
       "      <th>...</th>\n",
       "      <td>...</td>\n",
       "      <td>...</td>\n",
       "    </tr>\n",
       "    <tr>\n",
       "      <th>76570</th>\n",
       "      <td>2008-06-09</td>\n",
       "      <td>b'Future of the United States of Europe in the...</td>\n",
       "    </tr>\n",
       "    <tr>\n",
       "      <th>76571</th>\n",
       "      <td>2008-06-09</td>\n",
       "      <td>b\"'Military coup' in Zimbabwe as Mugabe is for...</td>\n",
       "    </tr>\n",
       "    <tr>\n",
       "      <th>76572</th>\n",
       "      <td>2008-06-09</td>\n",
       "      <td>b'Rising Oil Prices Spark Strikes in Spain and...</td>\n",
       "    </tr>\n",
       "    <tr>\n",
       "      <th>76573</th>\n",
       "      <td>2008-06-09</td>\n",
       "      <td>b'Chvez to FARC: Asks to end armed strugle, \"T...</td>\n",
       "    </tr>\n",
       "    <tr>\n",
       "      <th>76574</th>\n",
       "      <td>2008-06-09</td>\n",
       "      <td>b'Fliers in for pain as airlines pack it in'</td>\n",
       "    </tr>\n",
       "    <tr>\n",
       "      <th>76575</th>\n",
       "      <td>2008-06-08</td>\n",
       "      <td>b'Nim Chimpsky: The tragedy of the chimp who t...</td>\n",
       "    </tr>\n",
       "    <tr>\n",
       "      <th>76576</th>\n",
       "      <td>2008-06-08</td>\n",
       "      <td>b\"Canada: Beware slippery slope' to censorship...</td>\n",
       "    </tr>\n",
       "    <tr>\n",
       "      <th>76577</th>\n",
       "      <td>2008-06-08</td>\n",
       "      <td>b'EU Vice-President Luisa Morgantini and the I...</td>\n",
       "    </tr>\n",
       "    <tr>\n",
       "      <th>76578</th>\n",
       "      <td>2008-06-08</td>\n",
       "      <td>b\"Israeli minister: Israel will attack Iran if...</td>\n",
       "    </tr>\n",
       "    <tr>\n",
       "      <th>76579</th>\n",
       "      <td>2008-06-08</td>\n",
       "      <td>b'Albino Killings in Tanzania. At least 19 alb...</td>\n",
       "    </tr>\n",
       "    <tr>\n",
       "      <th>76580</th>\n",
       "      <td>2008-06-08</td>\n",
       "      <td>b'Chiapas: army occupies Zapatista communities...</td>\n",
       "    </tr>\n",
       "    <tr>\n",
       "      <th>76581</th>\n",
       "      <td>2008-06-08</td>\n",
       "      <td>b'Polar bear swims 200 miles, is shot dead upo...</td>\n",
       "    </tr>\n",
       "    <tr>\n",
       "      <th>76582</th>\n",
       "      <td>2008-06-08</td>\n",
       "      <td>b'News is a contraband item in Pakistan now, a...</td>\n",
       "    </tr>\n",
       "    <tr>\n",
       "      <th>76583</th>\n",
       "      <td>2008-06-08</td>\n",
       "      <td>b'Albinos, Long Shunned, Face Threat in Tanzan...</td>\n",
       "    </tr>\n",
       "    <tr>\n",
       "      <th>76584</th>\n",
       "      <td>2008-06-08</td>\n",
       "      <td>b'Town in Britain Plans to Start its Own Curre...</td>\n",
       "    </tr>\n",
       "    <tr>\n",
       "      <th>76585</th>\n",
       "      <td>2008-06-08</td>\n",
       "      <td>b'BBC reporter among 16 dead in Afghanistan'</td>\n",
       "    </tr>\n",
       "    <tr>\n",
       "      <th>76586</th>\n",
       "      <td>2008-06-08</td>\n",
       "      <td>b'Lebanese women still vulnerable to violence:...</td>\n",
       "    </tr>\n",
       "    <tr>\n",
       "      <th>76587</th>\n",
       "      <td>2008-06-08</td>\n",
       "      <td>b'Police release chilling images of man left f...</td>\n",
       "    </tr>\n",
       "    <tr>\n",
       "      <th>76588</th>\n",
       "      <td>2008-06-08</td>\n",
       "      <td>b\"Iceland opens Europe's largest national park...</td>\n",
       "    </tr>\n",
       "    <tr>\n",
       "      <th>76589</th>\n",
       "      <td>2008-06-08</td>\n",
       "      <td>b'Citizens fighting Blackwater Potrero. Was th...</td>\n",
       "    </tr>\n",
       "    <tr>\n",
       "      <th>76590</th>\n",
       "      <td>2008-06-08</td>\n",
       "      <td>b\"S. Korean protesters, police clash in beef r...</td>\n",
       "    </tr>\n",
       "    <tr>\n",
       "      <th>76591</th>\n",
       "      <td>2008-06-08</td>\n",
       "      <td>b\"Oil reserves 'will last decades' - a BBC Sco...</td>\n",
       "    </tr>\n",
       "    <tr>\n",
       "      <th>76592</th>\n",
       "      <td>2008-06-08</td>\n",
       "      <td>b'Cameras designed to detect terrorist facial ...</td>\n",
       "    </tr>\n",
       "    <tr>\n",
       "      <th>76593</th>\n",
       "      <td>2008-06-08</td>\n",
       "      <td>b'Israeli peace activists protest 41 years of ...</td>\n",
       "    </tr>\n",
       "    <tr>\n",
       "      <th>76594</th>\n",
       "      <td>2008-06-08</td>\n",
       "      <td>b\"A 5.1 earthquake hits China's Southern Qingh...</td>\n",
       "    </tr>\n",
       "    <tr>\n",
       "      <th>76595</th>\n",
       "      <td>2008-06-08</td>\n",
       "      <td>b'Man goes berzerk in Akihabara and stabs ever...</td>\n",
       "    </tr>\n",
       "    <tr>\n",
       "      <th>76596</th>\n",
       "      <td>2008-06-08</td>\n",
       "      <td>b'Threat of world AIDS pandemic among heterose...</td>\n",
       "    </tr>\n",
       "    <tr>\n",
       "      <th>76597</th>\n",
       "      <td>2008-06-08</td>\n",
       "      <td>b'Angst in Ankara: Turkey Steers into a Danger...</td>\n",
       "    </tr>\n",
       "    <tr>\n",
       "      <th>76598</th>\n",
       "      <td>2008-06-08</td>\n",
       "      <td>b\"UK: Identity cards 'could be used to spy on ...</td>\n",
       "    </tr>\n",
       "    <tr>\n",
       "      <th>76599</th>\n",
       "      <td>2008-06-08</td>\n",
       "      <td>b'Marriage, they said, was reduced to the stat...</td>\n",
       "    </tr>\n",
       "  </tbody>\n",
       "</table>\n",
       "<p>76600 rows × 2 columns</p>\n",
       "</div>"
      ],
      "text/plain": [
       "             Date                                               News\n",
       "0      2016-07-01  A 117-year-old woman in Mexico City finally re...\n",
       "1      2016-07-01   IMF chief backs Athens as permanent Olympic host\n",
       "2      2016-07-01  The president of France says if Brexit won, so...\n",
       "3      2016-07-01  British Man Who Must Give Police 24 Hours' Not...\n",
       "4      2016-07-01  100+ Nobel laureates urge Greenpeace to stop o...\n",
       "5      2016-07-01  Brazil: Huge spike in number of police killing...\n",
       "6      2016-07-01  Austria's highest court annuls presidential el...\n",
       "7      2016-07-01  Facebook wins privacy case, can track any Belg...\n",
       "8      2016-07-01  Switzerland denies Muslim girls citizenship af...\n",
       "9      2016-07-01  China kills millions of innocent meditators fo...\n",
       "10     2016-07-01  France Cracks Down on Factory Farms - A viral ...\n",
       "11     2016-07-01  Abbas PLO Faction Calls Killer of 13-Year-Old ...\n",
       "12     2016-07-01  Taiwanese warship accidentally fires missile t...\n",
       "13     2016-07-01  Iran celebrates American Human Rights Week, mo...\n",
       "14     2016-07-01  U.N. panel moves to curb bias against L.G.B.T....\n",
       "15     2016-07-01  The United States has placed Myanmar, Uzbekist...\n",
       "16     2016-07-01  S&amp;P revises European Union credit rating t...\n",
       "17     2016-07-01  India gets $1 billion loan from World Bank for...\n",
       "18     2016-07-01  U.S. sailors detained by Iran spoke too much u...\n",
       "19     2016-07-01  Mass fish kill in Vietnam solved as Taiwan ste...\n",
       "20     2016-07-01  Philippines president Rodrigo Duterte urges pe...\n",
       "21     2016-07-01  Spain arrests three Pakistanis accused of prom...\n",
       "22     2016-07-01  Venezuela, where anger over food shortages is ...\n",
       "23     2016-07-01  A Hindu temple worker has been killed by three...\n",
       "24     2016-07-01  Ozone layer hole seems to be healing - US &amp...\n",
       "25     2016-06-30  Jamaica proposes marijuana dispensers for tour...\n",
       "26     2016-06-30  Stephen Hawking says pollution and 'stupidity'...\n",
       "27     2016-06-30  Boris Johnson says he will not run for Tory pa...\n",
       "28     2016-06-30  Six gay men in Ivory Coast were abused and for...\n",
       "29     2016-06-30  Switzerland denies citizenship to Muslim immig...\n",
       "...           ...                                                ...\n",
       "76570  2008-06-09  b'Future of the United States of Europe in the...\n",
       "76571  2008-06-09  b\"'Military coup' in Zimbabwe as Mugabe is for...\n",
       "76572  2008-06-09  b'Rising Oil Prices Spark Strikes in Spain and...\n",
       "76573  2008-06-09  b'Chvez to FARC: Asks to end armed strugle, \"T...\n",
       "76574  2008-06-09       b'Fliers in for pain as airlines pack it in'\n",
       "76575  2008-06-08  b'Nim Chimpsky: The tragedy of the chimp who t...\n",
       "76576  2008-06-08  b\"Canada: Beware slippery slope' to censorship...\n",
       "76577  2008-06-08  b'EU Vice-President Luisa Morgantini and the I...\n",
       "76578  2008-06-08  b\"Israeli minister: Israel will attack Iran if...\n",
       "76579  2008-06-08  b'Albino Killings in Tanzania. At least 19 alb...\n",
       "76580  2008-06-08  b'Chiapas: army occupies Zapatista communities...\n",
       "76581  2008-06-08  b'Polar bear swims 200 miles, is shot dead upo...\n",
       "76582  2008-06-08  b'News is a contraband item in Pakistan now, a...\n",
       "76583  2008-06-08  b'Albinos, Long Shunned, Face Threat in Tanzan...\n",
       "76584  2008-06-08  b'Town in Britain Plans to Start its Own Curre...\n",
       "76585  2008-06-08       b'BBC reporter among 16 dead in Afghanistan'\n",
       "76586  2008-06-08  b'Lebanese women still vulnerable to violence:...\n",
       "76587  2008-06-08  b'Police release chilling images of man left f...\n",
       "76588  2008-06-08  b\"Iceland opens Europe's largest national park...\n",
       "76589  2008-06-08  b'Citizens fighting Blackwater Potrero. Was th...\n",
       "76590  2008-06-08  b\"S. Korean protesters, police clash in beef r...\n",
       "76591  2008-06-08  b\"Oil reserves 'will last decades' - a BBC Sco...\n",
       "76592  2008-06-08  b'Cameras designed to detect terrorist facial ...\n",
       "76593  2008-06-08  b'Israeli peace activists protest 41 years of ...\n",
       "76594  2008-06-08  b\"A 5.1 earthquake hits China's Southern Qingh...\n",
       "76595  2008-06-08  b'Man goes berzerk in Akihabara and stabs ever...\n",
       "76596  2008-06-08  b'Threat of world AIDS pandemic among heterose...\n",
       "76597  2008-06-08  b'Angst in Ankara: Turkey Steers into a Danger...\n",
       "76598  2008-06-08  b\"UK: Identity cards 'could be used to spy on ...\n",
       "76599  2008-06-08  b'Marriage, they said, was reduced to the stat...\n",
       "\n",
       "[76600 rows x 2 columns]"
      ]
     },
     "execution_count": 6,
     "metadata": {},
     "output_type": "execute_result"
    }
   ],
   "source": [
    "# pd.read_excel('filename')\n",
    "# pd.to_excel('dir/dataFrame.xlsx', sheet_name='Sheet1')\n",
    "\n",
    "pd.read_excel('./input/RedditNewsExcel.xlsx')\n"
   ]
  },
  {
   "cell_type": "markdown",
   "metadata": {
    "_uuid": "91d6e54d29a522606c7c843ff0efc9fb0ddbf2ca"
   },
   "source": [
    "### **Others(json, SQL, table, html)** <a id=\"10\"></a>"
   ]
  },
  {
   "cell_type": "code",
   "execution_count": null,
   "metadata": {
    "_uuid": "5fb0849e539bc6afdfa70fcbcba38b869e74f195"
   },
   "outputs": [],
   "source": [
    "# pd.read_sql(query,connection_object) -> Reads from a SQL table/database\n",
    "# pd.read_table(filename) -> From a delimited text file(like TSV)\n",
    "# pd.read_json(json_string) -> Reads from a json formatted string, URL or file\n",
    "# pd.read_html(url) -> Parses an html URL, string or file and extracts tables to a list of dataframes\n",
    "# pd.read_clipboard() -> Takes the contentes of your clipboard and passes it to read_table()\n",
    "# pd.DataFrame(dict) -> From a dict, keys for columns names, values for data as lists"
   ]
  },
  {
   "cell_type": "markdown",
   "metadata": {
    "_uuid": "caaf40c4674f87d855900e5223f51e2a4dd07cfc"
   },
   "source": [
    "# **Exporting Data** <a id=\"11\"></a>\n",
    "<mark>[Return Contents](#0)\n",
    "<hr>"
   ]
  },
  {
   "cell_type": "code",
   "execution_count": 29,
   "metadata": {
    "_uuid": "91ef5e0bc13b063b95ae1e4424c303bd684c02ce"
   },
   "outputs": [
    {
     "name": "stdout",
     "output_type": "stream",
     "text": [
      "ok\n"
     ]
    }
   ],
   "source": [
    "# df.to_csv(filename) -> Writes to a CSV file\n",
    "# df.to_excel(filename) -> Writes on an Excel file\n",
    "# df.to_sql(table_name, connection_object) -> Writes to a SQL table\n",
    "# df.to_json(filename) -> Writes to a file in JSON format\n",
    "# df.to_html(filename) -> Saves as an HTML table\n",
    "# df.to_clipboard() -> Writes to the clipboard\n",
    "\n",
    "df_combined_news.to_excel('./input/combinedNewsExcel.xlsx')\n",
    "print('ok')"
   ]
  },
  {
   "cell_type": "markdown",
   "metadata": {
    "_uuid": "3b7d9b79a7b22a994648e4fe7cd7cd5622aae105"
   },
   "source": [
    "# **Create Test Objects** <a id=\"12\"></a>\n",
    "<mark>[Return Contents](#0)\n",
    "<hr>"
   ]
  },
  {
   "cell_type": "code",
   "execution_count": 8,
   "metadata": {
    "_uuid": "0cf5537b0c3930da09e825bdf5a0058456c10715"
   },
   "outputs": [
    {
     "data": {
      "text/html": [
       "<div>\n",
       "<style scoped>\n",
       "    .dataframe tbody tr th:only-of-type {\n",
       "        vertical-align: middle;\n",
       "    }\n",
       "\n",
       "    .dataframe tbody tr th {\n",
       "        vertical-align: top;\n",
       "    }\n",
       "\n",
       "    .dataframe thead th {\n",
       "        text-align: right;\n",
       "    }\n",
       "</style>\n",
       "<table border=\"1\" class=\"dataframe\">\n",
       "  <thead>\n",
       "    <tr style=\"text-align: right;\">\n",
       "      <th></th>\n",
       "      <th>0</th>\n",
       "      <th>1</th>\n",
       "      <th>2</th>\n",
       "      <th>3</th>\n",
       "      <th>4</th>\n",
       "    </tr>\n",
       "  </thead>\n",
       "  <tbody>\n",
       "    <tr>\n",
       "      <th>0</th>\n",
       "      <td>0.903277</td>\n",
       "      <td>0.249365</td>\n",
       "      <td>0.292620</td>\n",
       "      <td>0.841302</td>\n",
       "      <td>0.839731</td>\n",
       "    </tr>\n",
       "    <tr>\n",
       "      <th>1</th>\n",
       "      <td>0.483048</td>\n",
       "      <td>0.939915</td>\n",
       "      <td>0.306765</td>\n",
       "      <td>0.047191</td>\n",
       "      <td>0.404030</td>\n",
       "    </tr>\n",
       "    <tr>\n",
       "      <th>2</th>\n",
       "      <td>0.153219</td>\n",
       "      <td>0.325504</td>\n",
       "      <td>0.420761</td>\n",
       "      <td>0.283851</td>\n",
       "      <td>0.855962</td>\n",
       "    </tr>\n",
       "    <tr>\n",
       "      <th>3</th>\n",
       "      <td>0.274764</td>\n",
       "      <td>0.924069</td>\n",
       "      <td>0.369449</td>\n",
       "      <td>0.007781</td>\n",
       "      <td>0.709699</td>\n",
       "    </tr>\n",
       "    <tr>\n",
       "      <th>4</th>\n",
       "      <td>0.696609</td>\n",
       "      <td>0.790521</td>\n",
       "      <td>0.549056</td>\n",
       "      <td>0.227988</td>\n",
       "      <td>0.765110</td>\n",
       "    </tr>\n",
       "    <tr>\n",
       "      <th>5</th>\n",
       "      <td>0.894192</td>\n",
       "      <td>0.380425</td>\n",
       "      <td>0.169271</td>\n",
       "      <td>0.772660</td>\n",
       "      <td>0.846253</td>\n",
       "    </tr>\n",
       "    <tr>\n",
       "      <th>6</th>\n",
       "      <td>0.191670</td>\n",
       "      <td>0.994958</td>\n",
       "      <td>0.418455</td>\n",
       "      <td>0.453797</td>\n",
       "      <td>0.792212</td>\n",
       "    </tr>\n",
       "    <tr>\n",
       "      <th>7</th>\n",
       "      <td>0.372298</td>\n",
       "      <td>0.292011</td>\n",
       "      <td>0.673528</td>\n",
       "      <td>0.306446</td>\n",
       "      <td>0.046855</td>\n",
       "    </tr>\n",
       "    <tr>\n",
       "      <th>8</th>\n",
       "      <td>0.612927</td>\n",
       "      <td>0.749032</td>\n",
       "      <td>0.084790</td>\n",
       "      <td>0.122511</td>\n",
       "      <td>0.620499</td>\n",
       "    </tr>\n",
       "    <tr>\n",
       "      <th>9</th>\n",
       "      <td>0.923076</td>\n",
       "      <td>0.103213</td>\n",
       "      <td>0.634171</td>\n",
       "      <td>0.057230</td>\n",
       "      <td>0.617223</td>\n",
       "    </tr>\n",
       "    <tr>\n",
       "      <th>10</th>\n",
       "      <td>0.986693</td>\n",
       "      <td>0.719827</td>\n",
       "      <td>0.842982</td>\n",
       "      <td>0.321114</td>\n",
       "      <td>0.472636</td>\n",
       "    </tr>\n",
       "    <tr>\n",
       "      <th>11</th>\n",
       "      <td>0.738094</td>\n",
       "      <td>0.799398</td>\n",
       "      <td>0.831245</td>\n",
       "      <td>0.235559</td>\n",
       "      <td>0.222352</td>\n",
       "    </tr>\n",
       "    <tr>\n",
       "      <th>12</th>\n",
       "      <td>0.387476</td>\n",
       "      <td>0.750464</td>\n",
       "      <td>0.934208</td>\n",
       "      <td>0.721894</td>\n",
       "      <td>0.405898</td>\n",
       "    </tr>\n",
       "    <tr>\n",
       "      <th>13</th>\n",
       "      <td>0.622197</td>\n",
       "      <td>0.332024</td>\n",
       "      <td>0.710150</td>\n",
       "      <td>0.418964</td>\n",
       "      <td>0.067266</td>\n",
       "    </tr>\n",
       "    <tr>\n",
       "      <th>14</th>\n",
       "      <td>0.228232</td>\n",
       "      <td>0.743586</td>\n",
       "      <td>0.927934</td>\n",
       "      <td>0.339898</td>\n",
       "      <td>0.281057</td>\n",
       "    </tr>\n",
       "    <tr>\n",
       "      <th>15</th>\n",
       "      <td>0.915866</td>\n",
       "      <td>0.693298</td>\n",
       "      <td>0.738005</td>\n",
       "      <td>0.433678</td>\n",
       "      <td>0.764229</td>\n",
       "    </tr>\n",
       "    <tr>\n",
       "      <th>16</th>\n",
       "      <td>0.362988</td>\n",
       "      <td>0.154960</td>\n",
       "      <td>0.376215</td>\n",
       "      <td>0.879101</td>\n",
       "      <td>0.688818</td>\n",
       "    </tr>\n",
       "    <tr>\n",
       "      <th>17</th>\n",
       "      <td>0.054443</td>\n",
       "      <td>0.669508</td>\n",
       "      <td>0.388316</td>\n",
       "      <td>0.407757</td>\n",
       "      <td>0.357887</td>\n",
       "    </tr>\n",
       "    <tr>\n",
       "      <th>18</th>\n",
       "      <td>0.504569</td>\n",
       "      <td>0.475040</td>\n",
       "      <td>0.336973</td>\n",
       "      <td>0.351332</td>\n",
       "      <td>0.324727</td>\n",
       "    </tr>\n",
       "    <tr>\n",
       "      <th>19</th>\n",
       "      <td>0.069738</td>\n",
       "      <td>0.833832</td>\n",
       "      <td>0.817695</td>\n",
       "      <td>0.296957</td>\n",
       "      <td>0.234585</td>\n",
       "    </tr>\n",
       "  </tbody>\n",
       "</table>\n",
       "</div>"
      ],
      "text/plain": [
       "           0         1         2         3         4\n",
       "0   0.903277  0.249365  0.292620  0.841302  0.839731\n",
       "1   0.483048  0.939915  0.306765  0.047191  0.404030\n",
       "2   0.153219  0.325504  0.420761  0.283851  0.855962\n",
       "3   0.274764  0.924069  0.369449  0.007781  0.709699\n",
       "4   0.696609  0.790521  0.549056  0.227988  0.765110\n",
       "5   0.894192  0.380425  0.169271  0.772660  0.846253\n",
       "6   0.191670  0.994958  0.418455  0.453797  0.792212\n",
       "7   0.372298  0.292011  0.673528  0.306446  0.046855\n",
       "8   0.612927  0.749032  0.084790  0.122511  0.620499\n",
       "9   0.923076  0.103213  0.634171  0.057230  0.617223\n",
       "10  0.986693  0.719827  0.842982  0.321114  0.472636\n",
       "11  0.738094  0.799398  0.831245  0.235559  0.222352\n",
       "12  0.387476  0.750464  0.934208  0.721894  0.405898\n",
       "13  0.622197  0.332024  0.710150  0.418964  0.067266\n",
       "14  0.228232  0.743586  0.927934  0.339898  0.281057\n",
       "15  0.915866  0.693298  0.738005  0.433678  0.764229\n",
       "16  0.362988  0.154960  0.376215  0.879101  0.688818\n",
       "17  0.054443  0.669508  0.388316  0.407757  0.357887\n",
       "18  0.504569  0.475040  0.336973  0.351332  0.324727\n",
       "19  0.069738  0.833832  0.817695  0.296957  0.234585"
      ]
     },
     "execution_count": 8,
     "metadata": {},
     "output_type": "execute_result"
    }
   ],
   "source": [
    "df = pd.DataFrame(np.random.rand(20,5)) # 5 columns and 20 rows of random floats\n",
    "df"
   ]
  },
  {
   "cell_type": "markdown",
   "metadata": {
    "_uuid": "4b6898acc1f32bab20b37fe7b0dee8f47a321301"
   },
   "source": [
    "# **Summarize Data** <a id=\"13\"></a>\n",
    "<mark>[Return Contents](#0)\n",
    "<hr>\n",
    "\n",
    "It's easy to get information about data with pandas. It makes it easier for us. Let's examine the existing functions one by one"
   ]
  },
  {
   "cell_type": "markdown",
   "metadata": {
    "_uuid": "bd615451f4c5670bd4e8fa3f727d1c0f1d82dbed"
   },
   "source": [
    "### **df.info()** <a id=\"14\"></a>\n",
    "This Code provides detailed information about our data.\n",
    "\n",
    "* **RangeIndex:** Specifies how many data there is.\n",
    "* **Data Columns:** Specifies how many columns are found.\n",
    "* **Columns:** Gives information about Columns.\n",
    "* **dtypes:** It says what kind of data you have and how many of these data you have.\n",
    "* **Memory Usage:** It says how much memory usage is.\n",
    "\n",
    "<mark>[Return Contents](#0)\n",
    "<hr>"
   ]
  },
  {
   "cell_type": "code",
   "execution_count": 42,
   "metadata": {
    "_uuid": "10c546875a26f15d71ae9517d1f165b3e9a70781"
   },
   "outputs": [
    {
     "name": "stdout",
     "output_type": "stream",
     "text": [
      "<class 'pandas.core.frame.DataFrame'>\n",
      "RangeIndex: 73608 entries, 0 to 73607\n",
      "Data columns (total 2 columns):\n",
      "Date    73608 non-null object\n",
      "News    73608 non-null object\n",
      "dtypes: object(2)\n",
      "memory usage: 1.1+ MB\n"
     ]
    }
   ],
   "source": [
    "df2 = pd.read_csv('./input/RedditNews.csv')\n",
    "df2.info()\n"
   ]
  },
  {
   "cell_type": "markdown",
   "metadata": {
    "_uuid": "f885b5ef0f5cde44dc5fbdffac16695503b35fc6"
   },
   "source": [
    "### **df.shape()** <a id=\"15\"></a>\n",
    "This code shows us the number of rows and columns.\n",
    "\n",
    "<mark>[Return Contents](#0)\n",
    "<hr>"
   ]
  },
  {
   "cell_type": "code",
   "execution_count": 9,
   "metadata": {
    "_uuid": "6a2f6f6ef1d420c6ccdb2d52b1ab531fb1148d24"
   },
   "outputs": [
    {
     "data": {
      "text/plain": [
       "(20, 5)"
      ]
     },
     "execution_count": 9,
     "metadata": {},
     "output_type": "execute_result"
    }
   ],
   "source": [
    "df.shape"
   ]
  },
  {
   "cell_type": "markdown",
   "metadata": {
    "_uuid": "617ea072afc3ca84a35ccd9b451ea32ead59823f"
   },
   "source": [
    "### **df.index** <a id=\"16\"></a>\n",
    "This code shows the total number of index found.\n",
    "\n",
    "<mark>[Return Contents](#0)\n",
    "<hr>"
   ]
  },
  {
   "cell_type": "code",
   "execution_count": 10,
   "metadata": {
    "_uuid": "7faf88abf28731ab59c9838c665026b6348ce32d"
   },
   "outputs": [
    {
     "data": {
      "text/plain": [
       "RangeIndex(start=0, stop=20, step=1)"
      ]
     },
     "execution_count": 10,
     "metadata": {},
     "output_type": "execute_result"
    }
   ],
   "source": [
    "df.index"
   ]
  },
  {
   "cell_type": "markdown",
   "metadata": {
    "_uuid": "35bc3f0f534f3882d7462fa91d51f57e8361327b"
   },
   "source": [
    "### **df.columns** <a id=\"17\"></a>\n",
    "This code shows all the columns contained in the data we have examined.\n",
    "\n",
    "<mark>[Return Contents](#0)\n",
    "<hr>"
   ]
  },
  {
   "cell_type": "code",
   "execution_count": 11,
   "metadata": {
    "_uuid": "e31b26213b05a838e5376d370e14acba61790a2e"
   },
   "outputs": [
    {
     "data": {
      "text/plain": [
       "RangeIndex(start=0, stop=5, step=1)"
      ]
     },
     "execution_count": 11,
     "metadata": {},
     "output_type": "execute_result"
    }
   ],
   "source": [
    "df.columns"
   ]
  },
  {
   "cell_type": "markdown",
   "metadata": {
    "_uuid": "9c1b1229f876a1791c34337b13b789106d0bcfef"
   },
   "source": [
    "### **df.count()** <a id=\"18\"></a>\n",
    "This code shows us how many pieces of data are in each column.\n",
    "\n",
    "<mark>[Return Contents](#0)\n",
    "<hr>"
   ]
  },
  {
   "cell_type": "code",
   "execution_count": 12,
   "metadata": {
    "_uuid": "3509654c02ace990c098b9cdef6d43a4d35c2454"
   },
   "outputs": [
    {
     "data": {
      "text/plain": [
       "0    20\n",
       "1    20\n",
       "2    20\n",
       "3    20\n",
       "4    20\n",
       "dtype: int64"
      ]
     },
     "execution_count": 12,
     "metadata": {},
     "output_type": "execute_result"
    }
   ],
   "source": [
    "df.count()"
   ]
  },
  {
   "cell_type": "markdown",
   "metadata": {
    "_uuid": "4756f4d3ee72fd0d5a02ff0c48bc27ee0438854a"
   },
   "source": [
    "### **df.sum()** <a id=\"19\"></a>\n",
    "This code shows us the sum of the data in each column.\n",
    "\n",
    "<mark>[Return Contents](#0)\n",
    "<hr>"
   ]
  },
  {
   "cell_type": "code",
   "execution_count": 13,
   "metadata": {
    "_uuid": "01420020ad3f68adc9ae8000c26101d03009fbef"
   },
   "outputs": [
    {
     "data": {
      "text/plain": [
       "0    10.375375\n",
       "1    11.920951\n",
       "2    10.822592\n",
       "3     7.527012\n",
       "4    10.317029\n",
       "dtype: float64"
      ]
     },
     "execution_count": 13,
     "metadata": {},
     "output_type": "execute_result"
    }
   ],
   "source": [
    "df.sum()"
   ]
  },
  {
   "cell_type": "markdown",
   "metadata": {
    "_uuid": "b2695908688bf1ab5811768b35209483f6a14ae8"
   },
   "source": [
    "### **df.cumsum()** <a id=\"20\"></a>\n",
    "This code gives us cumulative sum of the data.\n",
    "\n",
    "<mark>[Return Contents](#0)\n",
    "<hr>"
   ]
  },
  {
   "cell_type": "code",
   "execution_count": 17,
   "metadata": {
    "_uuid": "82827d42ae7bb44b20a5c960135430e497391895"
   },
   "outputs": [
    {
     "data": {
      "text/html": [
       "<div>\n",
       "<style scoped>\n",
       "    .dataframe tbody tr th:only-of-type {\n",
       "        vertical-align: middle;\n",
       "    }\n",
       "\n",
       "    .dataframe tbody tr th {\n",
       "        vertical-align: top;\n",
       "    }\n",
       "\n",
       "    .dataframe thead th {\n",
       "        text-align: right;\n",
       "    }\n",
       "</style>\n",
       "<table border=\"1\" class=\"dataframe\">\n",
       "  <thead>\n",
       "    <tr style=\"text-align: right;\">\n",
       "      <th></th>\n",
       "      <th>0</th>\n",
       "      <th>1</th>\n",
       "      <th>2</th>\n",
       "      <th>3</th>\n",
       "      <th>4</th>\n",
       "    </tr>\n",
       "  </thead>\n",
       "  <tbody>\n",
       "    <tr>\n",
       "      <th>0</th>\n",
       "      <td>0.903277</td>\n",
       "      <td>0.249365</td>\n",
       "      <td>0.292620</td>\n",
       "      <td>0.841302</td>\n",
       "      <td>0.839731</td>\n",
       "    </tr>\n",
       "    <tr>\n",
       "      <th>1</th>\n",
       "      <td>1.386325</td>\n",
       "      <td>1.189280</td>\n",
       "      <td>0.599385</td>\n",
       "      <td>0.888493</td>\n",
       "      <td>1.243761</td>\n",
       "    </tr>\n",
       "    <tr>\n",
       "      <th>2</th>\n",
       "      <td>1.539544</td>\n",
       "      <td>1.514784</td>\n",
       "      <td>1.020146</td>\n",
       "      <td>1.172344</td>\n",
       "      <td>2.099723</td>\n",
       "    </tr>\n",
       "    <tr>\n",
       "      <th>3</th>\n",
       "      <td>1.814308</td>\n",
       "      <td>2.438853</td>\n",
       "      <td>1.389595</td>\n",
       "      <td>1.180125</td>\n",
       "      <td>2.809422</td>\n",
       "    </tr>\n",
       "    <tr>\n",
       "      <th>4</th>\n",
       "      <td>2.510917</td>\n",
       "      <td>3.229374</td>\n",
       "      <td>1.938652</td>\n",
       "      <td>1.408113</td>\n",
       "      <td>3.574531</td>\n",
       "    </tr>\n",
       "  </tbody>\n",
       "</table>\n",
       "</div>"
      ],
      "text/plain": [
       "          0         1         2         3         4\n",
       "0  0.903277  0.249365  0.292620  0.841302  0.839731\n",
       "1  1.386325  1.189280  0.599385  0.888493  1.243761\n",
       "2  1.539544  1.514784  1.020146  1.172344  2.099723\n",
       "3  1.814308  2.438853  1.389595  1.180125  2.809422\n",
       "4  2.510917  3.229374  1.938652  1.408113  3.574531"
      ]
     },
     "execution_count": 17,
     "metadata": {},
     "output_type": "execute_result"
    }
   ],
   "source": [
    "df.cumsum().head()\n"
   ]
  },
  {
   "cell_type": "markdown",
   "metadata": {
    "_uuid": "8a36d94e3e0d961dbd674c808dc14be1a0958371"
   },
   "source": [
    "### **df.min()** <a id=\"21\"></a>\n",
    "This code brings us the smallest of the data.\n",
    "\n",
    "<mark>[Return Contents](#0)\n",
    "<hr>"
   ]
  },
  {
   "cell_type": "code",
   "execution_count": 18,
   "metadata": {
    "_uuid": "dcef4961748e9eb2b0c1311265d5e2c69a8c8e4a"
   },
   "outputs": [
    {
     "data": {
      "text/plain": [
       "0    0.054443\n",
       "1    0.103213\n",
       "2    0.084790\n",
       "3    0.007781\n",
       "4    0.046855\n",
       "dtype: float64"
      ]
     },
     "execution_count": 18,
     "metadata": {},
     "output_type": "execute_result"
    }
   ],
   "source": [
    "df.min()"
   ]
  },
  {
   "cell_type": "markdown",
   "metadata": {
    "_uuid": "6387ac8877231eeb35e210275d9f0c4fe4bab90b"
   },
   "source": [
    "### **df.max()** <a id=\"22\"></a>\n",
    "This code brings up the largest among the data.\n",
    "\n",
    "<mark>[Return Contents](#0)\n",
    "<hr>"
   ]
  },
  {
   "cell_type": "code",
   "execution_count": 19,
   "metadata": {
    "_uuid": "bce741708b2a6387ccdf7bccf7bc44d37307ad31"
   },
   "outputs": [
    {
     "data": {
      "text/plain": [
       "0    0.986693\n",
       "1    0.994958\n",
       "2    0.934208\n",
       "3    0.879101\n",
       "4    0.855962\n",
       "dtype: float64"
      ]
     },
     "execution_count": 19,
     "metadata": {},
     "output_type": "execute_result"
    }
   ],
   "source": [
    "df.max()"
   ]
  },
  {
   "cell_type": "markdown",
   "metadata": {
    "_uuid": "88b7dea1b9cc468b0c4344cb6c7f3fb94f3c616e"
   },
   "source": [
    "### **idxmin()**  <a id=\"23\"></a>\n",
    "This code fetches the smallest value in the data. The use on series and dataframe is different.\n",
    "\n",
    "<mark>[Return Contents](#0)\n",
    "<hr>"
   ]
  },
  {
   "cell_type": "code",
   "execution_count": 51,
   "metadata": {
    "_uuid": "9096b7015c2259e4e4a67beb44d55914a59929a4"
   },
   "outputs": [
    {
     "ename": "KeyError",
     "evalue": "'0'",
     "output_type": "error",
     "traceback": [
      "\u001b[1;31m---------------------------------------------------------------------------\u001b[0m",
      "\u001b[1;31mKeyError\u001b[0m                                  Traceback (most recent call last)",
      "\u001b[1;32m~\\Anaconda3\\lib\\site-packages\\pandas\\core\\indexes\\base.py\u001b[0m in \u001b[0;36mget_loc\u001b[1;34m(self, key, method, tolerance)\u001b[0m\n\u001b[0;32m   2656\u001b[0m             \u001b[1;32mtry\u001b[0m\u001b[1;33m:\u001b[0m\u001b[1;33m\u001b[0m\u001b[1;33m\u001b[0m\u001b[0m\n\u001b[1;32m-> 2657\u001b[1;33m                 \u001b[1;32mreturn\u001b[0m \u001b[0mself\u001b[0m\u001b[1;33m.\u001b[0m\u001b[0m_engine\u001b[0m\u001b[1;33m.\u001b[0m\u001b[0mget_loc\u001b[0m\u001b[1;33m(\u001b[0m\u001b[0mkey\u001b[0m\u001b[1;33m)\u001b[0m\u001b[1;33m\u001b[0m\u001b[1;33m\u001b[0m\u001b[0m\n\u001b[0m\u001b[0;32m   2658\u001b[0m             \u001b[1;32mexcept\u001b[0m \u001b[0mKeyError\u001b[0m\u001b[1;33m:\u001b[0m\u001b[1;33m\u001b[0m\u001b[1;33m\u001b[0m\u001b[0m\n",
      "\u001b[1;32mpandas/_libs/index.pyx\u001b[0m in \u001b[0;36mpandas._libs.index.IndexEngine.get_loc\u001b[1;34m()\u001b[0m\n",
      "\u001b[1;32mpandas/_libs/index.pyx\u001b[0m in \u001b[0;36mpandas._libs.index.IndexEngine.get_loc\u001b[1;34m()\u001b[0m\n",
      "\u001b[1;32mpandas/_libs/index_class_helper.pxi\u001b[0m in \u001b[0;36mpandas._libs.index.Int64Engine._check_type\u001b[1;34m()\u001b[0m\n",
      "\u001b[1;31mKeyError\u001b[0m: '0'",
      "\nDuring handling of the above exception, another exception occurred:\n",
      "\u001b[1;31mKeyError\u001b[0m                                  Traceback (most recent call last)",
      "\u001b[1;32m<ipython-input-51-8054947c1de6>\u001b[0m in \u001b[0;36m<module>\u001b[1;34m\u001b[0m\n\u001b[1;32m----> 1\u001b[1;33m \u001b[0mprint\u001b[0m\u001b[1;33m(\u001b[0m\u001b[1;34m\"df: \"\u001b[0m\u001b[1;33m,\u001b[0m\u001b[0mdf\u001b[0m\u001b[1;33m[\u001b[0m\u001b[1;34m'0'\u001b[0m\u001b[1;33m]\u001b[0m\u001b[1;33m.\u001b[0m\u001b[0midxmin\u001b[0m\u001b[1;33m(\u001b[0m\u001b[1;33m)\u001b[0m\u001b[1;33m)\u001b[0m\u001b[1;33m\u001b[0m\u001b[1;33m\u001b[0m\u001b[0m\n\u001b[0m\u001b[0;32m      2\u001b[0m \u001b[0mprint\u001b[0m\u001b[1;33m(\u001b[0m\u001b[1;34m\"series\"\u001b[0m\u001b[1;33m,\u001b[0m \u001b[0mmySeries\u001b[0m\u001b[1;33m.\u001b[0m\u001b[0midxmin\u001b[0m\u001b[1;33m(\u001b[0m\u001b[1;33m)\u001b[0m\u001b[1;33m)\u001b[0m\u001b[1;33m\u001b[0m\u001b[1;33m\u001b[0m\u001b[0m\n",
      "\u001b[1;32m~\\Anaconda3\\lib\\site-packages\\pandas\\core\\frame.py\u001b[0m in \u001b[0;36m__getitem__\u001b[1;34m(self, key)\u001b[0m\n\u001b[0;32m   2925\u001b[0m             \u001b[1;32mif\u001b[0m \u001b[0mself\u001b[0m\u001b[1;33m.\u001b[0m\u001b[0mcolumns\u001b[0m\u001b[1;33m.\u001b[0m\u001b[0mnlevels\u001b[0m \u001b[1;33m>\u001b[0m \u001b[1;36m1\u001b[0m\u001b[1;33m:\u001b[0m\u001b[1;33m\u001b[0m\u001b[1;33m\u001b[0m\u001b[0m\n\u001b[0;32m   2926\u001b[0m                 \u001b[1;32mreturn\u001b[0m \u001b[0mself\u001b[0m\u001b[1;33m.\u001b[0m\u001b[0m_getitem_multilevel\u001b[0m\u001b[1;33m(\u001b[0m\u001b[0mkey\u001b[0m\u001b[1;33m)\u001b[0m\u001b[1;33m\u001b[0m\u001b[1;33m\u001b[0m\u001b[0m\n\u001b[1;32m-> 2927\u001b[1;33m             \u001b[0mindexer\u001b[0m \u001b[1;33m=\u001b[0m \u001b[0mself\u001b[0m\u001b[1;33m.\u001b[0m\u001b[0mcolumns\u001b[0m\u001b[1;33m.\u001b[0m\u001b[0mget_loc\u001b[0m\u001b[1;33m(\u001b[0m\u001b[0mkey\u001b[0m\u001b[1;33m)\u001b[0m\u001b[1;33m\u001b[0m\u001b[1;33m\u001b[0m\u001b[0m\n\u001b[0m\u001b[0;32m   2928\u001b[0m             \u001b[1;32mif\u001b[0m \u001b[0mis_integer\u001b[0m\u001b[1;33m(\u001b[0m\u001b[0mindexer\u001b[0m\u001b[1;33m)\u001b[0m\u001b[1;33m:\u001b[0m\u001b[1;33m\u001b[0m\u001b[1;33m\u001b[0m\u001b[0m\n\u001b[0;32m   2929\u001b[0m                 \u001b[0mindexer\u001b[0m \u001b[1;33m=\u001b[0m \u001b[1;33m[\u001b[0m\u001b[0mindexer\u001b[0m\u001b[1;33m]\u001b[0m\u001b[1;33m\u001b[0m\u001b[1;33m\u001b[0m\u001b[0m\n",
      "\u001b[1;32m~\\Anaconda3\\lib\\site-packages\\pandas\\core\\indexes\\base.py\u001b[0m in \u001b[0;36mget_loc\u001b[1;34m(self, key, method, tolerance)\u001b[0m\n\u001b[0;32m   2657\u001b[0m                 \u001b[1;32mreturn\u001b[0m \u001b[0mself\u001b[0m\u001b[1;33m.\u001b[0m\u001b[0m_engine\u001b[0m\u001b[1;33m.\u001b[0m\u001b[0mget_loc\u001b[0m\u001b[1;33m(\u001b[0m\u001b[0mkey\u001b[0m\u001b[1;33m)\u001b[0m\u001b[1;33m\u001b[0m\u001b[1;33m\u001b[0m\u001b[0m\n\u001b[0;32m   2658\u001b[0m             \u001b[1;32mexcept\u001b[0m \u001b[0mKeyError\u001b[0m\u001b[1;33m:\u001b[0m\u001b[1;33m\u001b[0m\u001b[1;33m\u001b[0m\u001b[0m\n\u001b[1;32m-> 2659\u001b[1;33m                 \u001b[1;32mreturn\u001b[0m \u001b[0mself\u001b[0m\u001b[1;33m.\u001b[0m\u001b[0m_engine\u001b[0m\u001b[1;33m.\u001b[0m\u001b[0mget_loc\u001b[0m\u001b[1;33m(\u001b[0m\u001b[0mself\u001b[0m\u001b[1;33m.\u001b[0m\u001b[0m_maybe_cast_indexer\u001b[0m\u001b[1;33m(\u001b[0m\u001b[0mkey\u001b[0m\u001b[1;33m)\u001b[0m\u001b[1;33m)\u001b[0m\u001b[1;33m\u001b[0m\u001b[1;33m\u001b[0m\u001b[0m\n\u001b[0m\u001b[0;32m   2660\u001b[0m         \u001b[0mindexer\u001b[0m \u001b[1;33m=\u001b[0m \u001b[0mself\u001b[0m\u001b[1;33m.\u001b[0m\u001b[0mget_indexer\u001b[0m\u001b[1;33m(\u001b[0m\u001b[1;33m[\u001b[0m\u001b[0mkey\u001b[0m\u001b[1;33m]\u001b[0m\u001b[1;33m,\u001b[0m \u001b[0mmethod\u001b[0m\u001b[1;33m=\u001b[0m\u001b[0mmethod\u001b[0m\u001b[1;33m,\u001b[0m \u001b[0mtolerance\u001b[0m\u001b[1;33m=\u001b[0m\u001b[0mtolerance\u001b[0m\u001b[1;33m)\u001b[0m\u001b[1;33m\u001b[0m\u001b[1;33m\u001b[0m\u001b[0m\n\u001b[0;32m   2661\u001b[0m         \u001b[1;32mif\u001b[0m \u001b[0mindexer\u001b[0m\u001b[1;33m.\u001b[0m\u001b[0mndim\u001b[0m \u001b[1;33m>\u001b[0m \u001b[1;36m1\u001b[0m \u001b[1;32mor\u001b[0m \u001b[0mindexer\u001b[0m\u001b[1;33m.\u001b[0m\u001b[0msize\u001b[0m \u001b[1;33m>\u001b[0m \u001b[1;36m1\u001b[0m\u001b[1;33m:\u001b[0m\u001b[1;33m\u001b[0m\u001b[1;33m\u001b[0m\u001b[0m\n",
      "\u001b[1;32mpandas/_libs/index.pyx\u001b[0m in \u001b[0;36mpandas._libs.index.IndexEngine.get_loc\u001b[1;34m()\u001b[0m\n",
      "\u001b[1;32mpandas/_libs/index.pyx\u001b[0m in \u001b[0;36mpandas._libs.index.IndexEngine.get_loc\u001b[1;34m()\u001b[0m\n",
      "\u001b[1;32mpandas/_libs/index_class_helper.pxi\u001b[0m in \u001b[0;36mpandas._libs.index.Int64Engine._check_type\u001b[1;34m()\u001b[0m\n",
      "\u001b[1;31mKeyError\u001b[0m: '0'"
     ]
    }
   ],
   "source": [
    "print(\"df: \",df['0'].idxmin())\n",
    "print(\"series\", mySeries.idxmin())"
   ]
  },
  {
   "cell_type": "markdown",
   "metadata": {
    "_uuid": "2ad1b3dac499ca9c5e26f1e0f303ef6ea2670e13"
   },
   "source": [
    "### **idxmax()**  <a id=\"24\"></a>\n",
    "This code returns the largest value in the data.\n",
    "\n",
    "<mark>[Return Contents](#0)\n",
    "<hr>"
   ]
  },
  {
   "cell_type": "code",
   "execution_count": 50,
   "metadata": {
    "_uuid": "607b8bea1225ccdaa76a2f70076d5fa438e859ab"
   },
   "outputs": [
    {
     "ename": "KeyError",
     "evalue": "'0'",
     "output_type": "error",
     "traceback": [
      "\u001b[1;31m---------------------------------------------------------------------------\u001b[0m",
      "\u001b[1;31mKeyError\u001b[0m                                  Traceback (most recent call last)",
      "\u001b[1;32m~\\Anaconda3\\lib\\site-packages\\pandas\\core\\indexes\\base.py\u001b[0m in \u001b[0;36mget_loc\u001b[1;34m(self, key, method, tolerance)\u001b[0m\n\u001b[0;32m   2656\u001b[0m             \u001b[1;32mtry\u001b[0m\u001b[1;33m:\u001b[0m\u001b[1;33m\u001b[0m\u001b[1;33m\u001b[0m\u001b[0m\n\u001b[1;32m-> 2657\u001b[1;33m                 \u001b[1;32mreturn\u001b[0m \u001b[0mself\u001b[0m\u001b[1;33m.\u001b[0m\u001b[0m_engine\u001b[0m\u001b[1;33m.\u001b[0m\u001b[0mget_loc\u001b[0m\u001b[1;33m(\u001b[0m\u001b[0mkey\u001b[0m\u001b[1;33m)\u001b[0m\u001b[1;33m\u001b[0m\u001b[1;33m\u001b[0m\u001b[0m\n\u001b[0m\u001b[0;32m   2658\u001b[0m             \u001b[1;32mexcept\u001b[0m \u001b[0mKeyError\u001b[0m\u001b[1;33m:\u001b[0m\u001b[1;33m\u001b[0m\u001b[1;33m\u001b[0m\u001b[0m\n",
      "\u001b[1;32mpandas/_libs/index.pyx\u001b[0m in \u001b[0;36mpandas._libs.index.IndexEngine.get_loc\u001b[1;34m()\u001b[0m\n",
      "\u001b[1;32mpandas/_libs/index.pyx\u001b[0m in \u001b[0;36mpandas._libs.index.IndexEngine.get_loc\u001b[1;34m()\u001b[0m\n",
      "\u001b[1;32mpandas/_libs/index_class_helper.pxi\u001b[0m in \u001b[0;36mpandas._libs.index.Int64Engine._check_type\u001b[1;34m()\u001b[0m\n",
      "\u001b[1;31mKeyError\u001b[0m: '0'",
      "\nDuring handling of the above exception, another exception occurred:\n",
      "\u001b[1;31mKeyError\u001b[0m                                  Traceback (most recent call last)",
      "\u001b[1;32m<ipython-input-50-9992d347f38b>\u001b[0m in \u001b[0;36m<module>\u001b[1;34m\u001b[0m\n\u001b[1;32m----> 1\u001b[1;33m \u001b[0mprint\u001b[0m\u001b[1;33m(\u001b[0m\u001b[1;34m\"df: \"\u001b[0m\u001b[1;33m,\u001b[0m\u001b[0mdf\u001b[0m\u001b[1;33m[\u001b[0m\u001b[1;34m'0'\u001b[0m\u001b[1;33m]\u001b[0m\u001b[1;33m.\u001b[0m\u001b[0midxmax\u001b[0m\u001b[1;33m(\u001b[0m\u001b[1;33m)\u001b[0m\u001b[1;33m)\u001b[0m\u001b[1;33m\u001b[0m\u001b[1;33m\u001b[0m\u001b[0m\n\u001b[0m\u001b[0;32m      2\u001b[0m \u001b[0mprint\u001b[0m\u001b[1;33m(\u001b[0m\u001b[1;34m\"series: \"\u001b[0m\u001b[1;33m,\u001b[0m\u001b[0mmySeries\u001b[0m\u001b[1;33m.\u001b[0m\u001b[0midxmax\u001b[0m\u001b[1;33m(\u001b[0m\u001b[1;33m)\u001b[0m\u001b[1;33m)\u001b[0m\u001b[1;33m\u001b[0m\u001b[1;33m\u001b[0m\u001b[0m\n",
      "\u001b[1;32m~\\Anaconda3\\lib\\site-packages\\pandas\\core\\frame.py\u001b[0m in \u001b[0;36m__getitem__\u001b[1;34m(self, key)\u001b[0m\n\u001b[0;32m   2925\u001b[0m             \u001b[1;32mif\u001b[0m \u001b[0mself\u001b[0m\u001b[1;33m.\u001b[0m\u001b[0mcolumns\u001b[0m\u001b[1;33m.\u001b[0m\u001b[0mnlevels\u001b[0m \u001b[1;33m>\u001b[0m \u001b[1;36m1\u001b[0m\u001b[1;33m:\u001b[0m\u001b[1;33m\u001b[0m\u001b[1;33m\u001b[0m\u001b[0m\n\u001b[0;32m   2926\u001b[0m                 \u001b[1;32mreturn\u001b[0m \u001b[0mself\u001b[0m\u001b[1;33m.\u001b[0m\u001b[0m_getitem_multilevel\u001b[0m\u001b[1;33m(\u001b[0m\u001b[0mkey\u001b[0m\u001b[1;33m)\u001b[0m\u001b[1;33m\u001b[0m\u001b[1;33m\u001b[0m\u001b[0m\n\u001b[1;32m-> 2927\u001b[1;33m             \u001b[0mindexer\u001b[0m \u001b[1;33m=\u001b[0m \u001b[0mself\u001b[0m\u001b[1;33m.\u001b[0m\u001b[0mcolumns\u001b[0m\u001b[1;33m.\u001b[0m\u001b[0mget_loc\u001b[0m\u001b[1;33m(\u001b[0m\u001b[0mkey\u001b[0m\u001b[1;33m)\u001b[0m\u001b[1;33m\u001b[0m\u001b[1;33m\u001b[0m\u001b[0m\n\u001b[0m\u001b[0;32m   2928\u001b[0m             \u001b[1;32mif\u001b[0m \u001b[0mis_integer\u001b[0m\u001b[1;33m(\u001b[0m\u001b[0mindexer\u001b[0m\u001b[1;33m)\u001b[0m\u001b[1;33m:\u001b[0m\u001b[1;33m\u001b[0m\u001b[1;33m\u001b[0m\u001b[0m\n\u001b[0;32m   2929\u001b[0m                 \u001b[0mindexer\u001b[0m \u001b[1;33m=\u001b[0m \u001b[1;33m[\u001b[0m\u001b[0mindexer\u001b[0m\u001b[1;33m]\u001b[0m\u001b[1;33m\u001b[0m\u001b[1;33m\u001b[0m\u001b[0m\n",
      "\u001b[1;32m~\\Anaconda3\\lib\\site-packages\\pandas\\core\\indexes\\base.py\u001b[0m in \u001b[0;36mget_loc\u001b[1;34m(self, key, method, tolerance)\u001b[0m\n\u001b[0;32m   2657\u001b[0m                 \u001b[1;32mreturn\u001b[0m \u001b[0mself\u001b[0m\u001b[1;33m.\u001b[0m\u001b[0m_engine\u001b[0m\u001b[1;33m.\u001b[0m\u001b[0mget_loc\u001b[0m\u001b[1;33m(\u001b[0m\u001b[0mkey\u001b[0m\u001b[1;33m)\u001b[0m\u001b[1;33m\u001b[0m\u001b[1;33m\u001b[0m\u001b[0m\n\u001b[0;32m   2658\u001b[0m             \u001b[1;32mexcept\u001b[0m \u001b[0mKeyError\u001b[0m\u001b[1;33m:\u001b[0m\u001b[1;33m\u001b[0m\u001b[1;33m\u001b[0m\u001b[0m\n\u001b[1;32m-> 2659\u001b[1;33m                 \u001b[1;32mreturn\u001b[0m \u001b[0mself\u001b[0m\u001b[1;33m.\u001b[0m\u001b[0m_engine\u001b[0m\u001b[1;33m.\u001b[0m\u001b[0mget_loc\u001b[0m\u001b[1;33m(\u001b[0m\u001b[0mself\u001b[0m\u001b[1;33m.\u001b[0m\u001b[0m_maybe_cast_indexer\u001b[0m\u001b[1;33m(\u001b[0m\u001b[0mkey\u001b[0m\u001b[1;33m)\u001b[0m\u001b[1;33m)\u001b[0m\u001b[1;33m\u001b[0m\u001b[1;33m\u001b[0m\u001b[0m\n\u001b[0m\u001b[0;32m   2660\u001b[0m         \u001b[0mindexer\u001b[0m \u001b[1;33m=\u001b[0m \u001b[0mself\u001b[0m\u001b[1;33m.\u001b[0m\u001b[0mget_indexer\u001b[0m\u001b[1;33m(\u001b[0m\u001b[1;33m[\u001b[0m\u001b[0mkey\u001b[0m\u001b[1;33m]\u001b[0m\u001b[1;33m,\u001b[0m \u001b[0mmethod\u001b[0m\u001b[1;33m=\u001b[0m\u001b[0mmethod\u001b[0m\u001b[1;33m,\u001b[0m \u001b[0mtolerance\u001b[0m\u001b[1;33m=\u001b[0m\u001b[0mtolerance\u001b[0m\u001b[1;33m)\u001b[0m\u001b[1;33m\u001b[0m\u001b[1;33m\u001b[0m\u001b[0m\n\u001b[0;32m   2661\u001b[0m         \u001b[1;32mif\u001b[0m \u001b[0mindexer\u001b[0m\u001b[1;33m.\u001b[0m\u001b[0mndim\u001b[0m \u001b[1;33m>\u001b[0m \u001b[1;36m1\u001b[0m \u001b[1;32mor\u001b[0m \u001b[0mindexer\u001b[0m\u001b[1;33m.\u001b[0m\u001b[0msize\u001b[0m \u001b[1;33m>\u001b[0m \u001b[1;36m1\u001b[0m\u001b[1;33m:\u001b[0m\u001b[1;33m\u001b[0m\u001b[1;33m\u001b[0m\u001b[0m\n",
      "\u001b[1;32mpandas/_libs/index.pyx\u001b[0m in \u001b[0;36mpandas._libs.index.IndexEngine.get_loc\u001b[1;34m()\u001b[0m\n",
      "\u001b[1;32mpandas/_libs/index.pyx\u001b[0m in \u001b[0;36mpandas._libs.index.IndexEngine.get_loc\u001b[1;34m()\u001b[0m\n",
      "\u001b[1;32mpandas/_libs/index_class_helper.pxi\u001b[0m in \u001b[0;36mpandas._libs.index.Int64Engine._check_type\u001b[1;34m()\u001b[0m\n",
      "\u001b[1;31mKeyError\u001b[0m: '0'"
     ]
    }
   ],
   "source": [
    "print(\"df: \",df['0'].idxmax())\n",
    "print(\"series: \",mySeries.idxmax())"
   ]
  },
  {
   "cell_type": "markdown",
   "metadata": {
    "_uuid": "97f89c5cc2ca00c8a9848ac77066fee54f935ec3"
   },
   "source": [
    "### **df.describe()**  <a id=\"25\"></a>\n",
    "This Code provides basic statistical information about the data. The numerical column is based.\n",
    "\n",
    "* **count:** vnumber of entries\n",
    "* **mean: **average of entries\n",
    "* **std:** standart deviation\n",
    "* **min:** minimum entry\n",
    "* **25%:** first quantile\n",
    "* **50%:** median or second quantile\n",
    "* **75%:** third quantile\n",
    "* **max:** maximum entry\n",
    "\n",
    "<mark>[Return Contents](#0)\n",
    "<hr>"
   ]
  },
  {
   "cell_type": "code",
   "execution_count": 24,
   "metadata": {
    "_uuid": "f75c57e9f16adc167f8148b2225111056ebbf432"
   },
   "outputs": [
    {
     "data": {
      "text/html": [
       "<div>\n",
       "<style scoped>\n",
       "    .dataframe tbody tr th:only-of-type {\n",
       "        vertical-align: middle;\n",
       "    }\n",
       "\n",
       "    .dataframe tbody tr th {\n",
       "        vertical-align: top;\n",
       "    }\n",
       "\n",
       "    .dataframe thead th {\n",
       "        text-align: right;\n",
       "    }\n",
       "</style>\n",
       "<table border=\"1\" class=\"dataframe\">\n",
       "  <thead>\n",
       "    <tr style=\"text-align: right;\">\n",
       "      <th></th>\n",
       "      <th>0</th>\n",
       "      <th>1</th>\n",
       "      <th>2</th>\n",
       "      <th>3</th>\n",
       "      <th>4</th>\n",
       "    </tr>\n",
       "  </thead>\n",
       "  <tbody>\n",
       "    <tr>\n",
       "      <th>count</th>\n",
       "      <td>20.000000</td>\n",
       "      <td>20.000000</td>\n",
       "      <td>20.000000</td>\n",
       "      <td>20.000000</td>\n",
       "      <td>20.000000</td>\n",
       "    </tr>\n",
       "    <tr>\n",
       "      <th>mean</th>\n",
       "      <td>0.518769</td>\n",
       "      <td>0.596048</td>\n",
       "      <td>0.541130</td>\n",
       "      <td>0.376351</td>\n",
       "      <td>0.515851</td>\n",
       "    </tr>\n",
       "    <tr>\n",
       "      <th>std</th>\n",
       "      <td>0.307316</td>\n",
       "      <td>0.278529</td>\n",
       "      <td>0.257919</td>\n",
       "      <td>0.254903</td>\n",
       "      <td>0.266376</td>\n",
       "    </tr>\n",
       "    <tr>\n",
       "      <th>min</th>\n",
       "      <td>0.054443</td>\n",
       "      <td>0.103213</td>\n",
       "      <td>0.084790</td>\n",
       "      <td>0.007781</td>\n",
       "      <td>0.046855</td>\n",
       "    </tr>\n",
       "    <tr>\n",
       "      <th>25%</th>\n",
       "      <td>0.263131</td>\n",
       "      <td>0.330394</td>\n",
       "      <td>0.361330</td>\n",
       "      <td>0.233666</td>\n",
       "      <td>0.313809</td>\n",
       "    </tr>\n",
       "    <tr>\n",
       "      <th>50%</th>\n",
       "      <td>0.493809</td>\n",
       "      <td>0.706563</td>\n",
       "      <td>0.484909</td>\n",
       "      <td>0.330506</td>\n",
       "      <td>0.544930</td>\n",
       "    </tr>\n",
       "    <tr>\n",
       "      <th>75%</th>\n",
       "      <td>0.777118</td>\n",
       "      <td>0.792740</td>\n",
       "      <td>0.757928</td>\n",
       "      <td>0.438708</td>\n",
       "      <td>0.764449</td>\n",
       "    </tr>\n",
       "    <tr>\n",
       "      <th>max</th>\n",
       "      <td>0.986693</td>\n",
       "      <td>0.994958</td>\n",
       "      <td>0.934208</td>\n",
       "      <td>0.879101</td>\n",
       "      <td>0.855962</td>\n",
       "    </tr>\n",
       "  </tbody>\n",
       "</table>\n",
       "</div>"
      ],
      "text/plain": [
       "               0          1          2          3          4\n",
       "count  20.000000  20.000000  20.000000  20.000000  20.000000\n",
       "mean    0.518769   0.596048   0.541130   0.376351   0.515851\n",
       "std     0.307316   0.278529   0.257919   0.254903   0.266376\n",
       "min     0.054443   0.103213   0.084790   0.007781   0.046855\n",
       "25%     0.263131   0.330394   0.361330   0.233666   0.313809\n",
       "50%     0.493809   0.706563   0.484909   0.330506   0.544930\n",
       "75%     0.777118   0.792740   0.757928   0.438708   0.764449\n",
       "max     0.986693   0.994958   0.934208   0.879101   0.855962"
      ]
     },
     "execution_count": 24,
     "metadata": {},
     "output_type": "execute_result"
    }
   ],
   "source": [
    "df.describe()"
   ]
  },
  {
   "cell_type": "markdown",
   "metadata": {
    "_uuid": "ee81ed576d22d6e350d59e961697231de83dbd6c"
   },
   "source": [
    "### **df.mean()**  <a id=\"26\"></a>\n",
    "This code returns the mean value for the numeric column.\n",
    "\n",
    "<mark>[Return Contents](#0)\n",
    "<hr>"
   ]
  },
  {
   "cell_type": "code",
   "execution_count": 25,
   "metadata": {
    "_uuid": "a48fe07b2e9edf425eea43ee8efc7208451053b8"
   },
   "outputs": [
    {
     "data": {
      "text/plain": [
       "0    0.518769\n",
       "1    0.596048\n",
       "2    0.541130\n",
       "3    0.376351\n",
       "4    0.515851\n",
       "dtype: float64"
      ]
     },
     "execution_count": 25,
     "metadata": {},
     "output_type": "execute_result"
    }
   ],
   "source": [
    "df.mean()"
   ]
  },
  {
   "cell_type": "markdown",
   "metadata": {
    "_uuid": "9505e713279ca2d4f9ee8e9e8f493fc6fc1dffaf"
   },
   "source": [
    "### **df.median()**  <a id=\"27\"></a>\n",
    "This code returns median for columns with numeric values.\n",
    "\n",
    "<mark>[Return Contents](#0)\n",
    "<hr>"
   ]
  },
  {
   "cell_type": "code",
   "execution_count": 26,
   "metadata": {
    "_uuid": "e8f946be9ec391af5cf4cdc720bd86f08b1e11f8"
   },
   "outputs": [
    {
     "data": {
      "text/plain": [
       "0    0.493809\n",
       "1    0.706563\n",
       "2    0.484909\n",
       "3    0.330506\n",
       "4    0.544930\n",
       "dtype: float64"
      ]
     },
     "execution_count": 26,
     "metadata": {},
     "output_type": "execute_result"
    }
   ],
   "source": [
    "df.median()"
   ]
  },
  {
   "cell_type": "markdown",
   "metadata": {
    "_uuid": "e6ef1d3c59446abef4af4e9a8f9e4c7091268d07"
   },
   "source": [
    "### **df.quantile([0.25,0.75])**  <a id=\"28\"></a>\n",
    "This code calculates the values 0.25 and 0.75 of the columns for each column.\n",
    "\n",
    "<mark>[Return Contents](#0)\n",
    "<hr>"
   ]
  },
  {
   "cell_type": "code",
   "execution_count": 27,
   "metadata": {
    "_uuid": "8145c67dde8b9aba6803436d28cc7225445343a3"
   },
   "outputs": [
    {
     "data": {
      "text/html": [
       "<div>\n",
       "<style scoped>\n",
       "    .dataframe tbody tr th:only-of-type {\n",
       "        vertical-align: middle;\n",
       "    }\n",
       "\n",
       "    .dataframe tbody tr th {\n",
       "        vertical-align: top;\n",
       "    }\n",
       "\n",
       "    .dataframe thead th {\n",
       "        text-align: right;\n",
       "    }\n",
       "</style>\n",
       "<table border=\"1\" class=\"dataframe\">\n",
       "  <thead>\n",
       "    <tr style=\"text-align: right;\">\n",
       "      <th></th>\n",
       "      <th>0</th>\n",
       "      <th>1</th>\n",
       "      <th>2</th>\n",
       "      <th>3</th>\n",
       "      <th>4</th>\n",
       "    </tr>\n",
       "  </thead>\n",
       "  <tbody>\n",
       "    <tr>\n",
       "      <th>0.25</th>\n",
       "      <td>0.263131</td>\n",
       "      <td>0.330394</td>\n",
       "      <td>0.361330</td>\n",
       "      <td>0.233666</td>\n",
       "      <td>0.313809</td>\n",
       "    </tr>\n",
       "    <tr>\n",
       "      <th>0.75</th>\n",
       "      <td>0.777118</td>\n",
       "      <td>0.792740</td>\n",
       "      <td>0.757928</td>\n",
       "      <td>0.438708</td>\n",
       "      <td>0.764449</td>\n",
       "    </tr>\n",
       "  </tbody>\n",
       "</table>\n",
       "</div>"
      ],
      "text/plain": [
       "             0         1         2         3         4\n",
       "0.25  0.263131  0.330394  0.361330  0.233666  0.313809\n",
       "0.75  0.777118  0.792740  0.757928  0.438708  0.764449"
      ]
     },
     "execution_count": 27,
     "metadata": {},
     "output_type": "execute_result"
    }
   ],
   "source": [
    "df.quantile([0.25,0.75])"
   ]
  },
  {
   "cell_type": "markdown",
   "metadata": {
    "_uuid": "aac3a79b56277361df222d188abf5916e158287c"
   },
   "source": [
    "### **df.var()**  <a id=\"29\"></a>\n",
    "This code calculates the variance value for each column with a numeric value.\n",
    "\n",
    "<mark>[Return Contents](#0)\n",
    "<hr>"
   ]
  },
  {
   "cell_type": "code",
   "execution_count": 28,
   "metadata": {
    "_uuid": "4d6dc0723b2a02b1a30eba32aee013e618a8c777"
   },
   "outputs": [
    {
     "data": {
      "text/plain": [
       "0    0.094443\n",
       "1    0.077578\n",
       "2    0.066522\n",
       "3    0.064975\n",
       "4    0.070956\n",
       "dtype: float64"
      ]
     },
     "execution_count": 28,
     "metadata": {},
     "output_type": "execute_result"
    }
   ],
   "source": [
    "df.var()"
   ]
  },
  {
   "cell_type": "markdown",
   "metadata": {
    "_uuid": "9dadcadc50fa2f35d0be27c491706ae64ddb5879"
   },
   "source": [
    "### **df.std()** <a id=\"30\"></a>\n",
    "This code calculates the standard deviation value for each column with numeric value.\n",
    "Ecart type\n",
    "<mark>[Return Contents](#0)\n",
    "<hr>"
   ]
  },
  {
   "cell_type": "code",
   "execution_count": 29,
   "metadata": {
    "_uuid": "dc29b13723a50b444d0892194aa9c131a6969217",
    "collapsed": true
   },
   "outputs": [
    {
     "data": {
      "text/plain": [
       "0    0.307316\n",
       "1    0.278529\n",
       "2    0.257919\n",
       "3    0.254903\n",
       "4    0.266376\n",
       "dtype: float64"
      ]
     },
     "execution_count": 29,
     "metadata": {},
     "output_type": "execute_result"
    }
   ],
   "source": [
    "df.std()"
   ]
  },
  {
   "cell_type": "markdown",
   "metadata": {
    "_uuid": "9143f758fa6d821ece2efd8389b09b045bf486c2"
   },
   "source": [
    "### **df.cummax()** <a id=\"31\"></a>\n",
    "This code calculates the cumulative max value between the data.\n",
    "\n",
    "<mark>[Return Contents](#0)\n",
    "<hr>"
   ]
  },
  {
   "cell_type": "code",
   "execution_count": 38,
   "metadata": {
    "_uuid": "beac65acb14480ea7c2a3b1db839bda1b700aed8"
   },
   "outputs": [
    {
     "data": {
      "text/html": [
       "<div>\n",
       "<style scoped>\n",
       "    .dataframe tbody tr th:only-of-type {\n",
       "        vertical-align: middle;\n",
       "    }\n",
       "\n",
       "    .dataframe tbody tr th {\n",
       "        vertical-align: top;\n",
       "    }\n",
       "\n",
       "    .dataframe thead th {\n",
       "        text-align: right;\n",
       "    }\n",
       "</style>\n",
       "<table border=\"1\" class=\"dataframe\">\n",
       "  <thead>\n",
       "    <tr style=\"text-align: right;\">\n",
       "      <th></th>\n",
       "      <th>0</th>\n",
       "      <th>1</th>\n",
       "      <th>2</th>\n",
       "      <th>3</th>\n",
       "      <th>4</th>\n",
       "    </tr>\n",
       "  </thead>\n",
       "  <tbody>\n",
       "    <tr>\n",
       "      <th>0</th>\n",
       "      <td>0.903277</td>\n",
       "      <td>0.249365</td>\n",
       "      <td>0.292620</td>\n",
       "      <td>0.841302</td>\n",
       "      <td>0.839731</td>\n",
       "    </tr>\n",
       "    <tr>\n",
       "      <th>1</th>\n",
       "      <td>0.903277</td>\n",
       "      <td>0.939915</td>\n",
       "      <td>0.306765</td>\n",
       "      <td>0.841302</td>\n",
       "      <td>0.839731</td>\n",
       "    </tr>\n",
       "    <tr>\n",
       "      <th>2</th>\n",
       "      <td>0.903277</td>\n",
       "      <td>0.939915</td>\n",
       "      <td>0.420761</td>\n",
       "      <td>0.841302</td>\n",
       "      <td>0.855962</td>\n",
       "    </tr>\n",
       "    <tr>\n",
       "      <th>3</th>\n",
       "      <td>0.903277</td>\n",
       "      <td>0.939915</td>\n",
       "      <td>0.420761</td>\n",
       "      <td>0.841302</td>\n",
       "      <td>0.855962</td>\n",
       "    </tr>\n",
       "    <tr>\n",
       "      <th>4</th>\n",
       "      <td>0.903277</td>\n",
       "      <td>0.939915</td>\n",
       "      <td>0.549056</td>\n",
       "      <td>0.841302</td>\n",
       "      <td>0.855962</td>\n",
       "    </tr>\n",
       "    <tr>\n",
       "      <th>5</th>\n",
       "      <td>0.903277</td>\n",
       "      <td>0.939915</td>\n",
       "      <td>0.549056</td>\n",
       "      <td>0.841302</td>\n",
       "      <td>0.855962</td>\n",
       "    </tr>\n",
       "    <tr>\n",
       "      <th>6</th>\n",
       "      <td>0.903277</td>\n",
       "      <td>0.994958</td>\n",
       "      <td>0.549056</td>\n",
       "      <td>0.841302</td>\n",
       "      <td>0.855962</td>\n",
       "    </tr>\n",
       "    <tr>\n",
       "      <th>7</th>\n",
       "      <td>0.903277</td>\n",
       "      <td>0.994958</td>\n",
       "      <td>0.673528</td>\n",
       "      <td>0.841302</td>\n",
       "      <td>0.855962</td>\n",
       "    </tr>\n",
       "    <tr>\n",
       "      <th>8</th>\n",
       "      <td>0.903277</td>\n",
       "      <td>0.994958</td>\n",
       "      <td>0.673528</td>\n",
       "      <td>0.841302</td>\n",
       "      <td>0.855962</td>\n",
       "    </tr>\n",
       "    <tr>\n",
       "      <th>9</th>\n",
       "      <td>0.923076</td>\n",
       "      <td>0.994958</td>\n",
       "      <td>0.673528</td>\n",
       "      <td>0.841302</td>\n",
       "      <td>0.855962</td>\n",
       "    </tr>\n",
       "    <tr>\n",
       "      <th>10</th>\n",
       "      <td>0.986693</td>\n",
       "      <td>0.994958</td>\n",
       "      <td>0.842982</td>\n",
       "      <td>0.841302</td>\n",
       "      <td>0.855962</td>\n",
       "    </tr>\n",
       "    <tr>\n",
       "      <th>11</th>\n",
       "      <td>0.986693</td>\n",
       "      <td>0.994958</td>\n",
       "      <td>0.842982</td>\n",
       "      <td>0.841302</td>\n",
       "      <td>0.855962</td>\n",
       "    </tr>\n",
       "    <tr>\n",
       "      <th>12</th>\n",
       "      <td>0.986693</td>\n",
       "      <td>0.994958</td>\n",
       "      <td>0.934208</td>\n",
       "      <td>0.841302</td>\n",
       "      <td>0.855962</td>\n",
       "    </tr>\n",
       "    <tr>\n",
       "      <th>13</th>\n",
       "      <td>0.986693</td>\n",
       "      <td>0.994958</td>\n",
       "      <td>0.934208</td>\n",
       "      <td>0.841302</td>\n",
       "      <td>0.855962</td>\n",
       "    </tr>\n",
       "    <tr>\n",
       "      <th>14</th>\n",
       "      <td>0.986693</td>\n",
       "      <td>0.994958</td>\n",
       "      <td>0.934208</td>\n",
       "      <td>0.841302</td>\n",
       "      <td>0.855962</td>\n",
       "    </tr>\n",
       "    <tr>\n",
       "      <th>15</th>\n",
       "      <td>0.986693</td>\n",
       "      <td>0.994958</td>\n",
       "      <td>0.934208</td>\n",
       "      <td>0.841302</td>\n",
       "      <td>0.855962</td>\n",
       "    </tr>\n",
       "    <tr>\n",
       "      <th>16</th>\n",
       "      <td>0.986693</td>\n",
       "      <td>0.994958</td>\n",
       "      <td>0.934208</td>\n",
       "      <td>0.879101</td>\n",
       "      <td>0.855962</td>\n",
       "    </tr>\n",
       "    <tr>\n",
       "      <th>17</th>\n",
       "      <td>0.986693</td>\n",
       "      <td>0.994958</td>\n",
       "      <td>0.934208</td>\n",
       "      <td>0.879101</td>\n",
       "      <td>0.855962</td>\n",
       "    </tr>\n",
       "    <tr>\n",
       "      <th>18</th>\n",
       "      <td>0.986693</td>\n",
       "      <td>0.994958</td>\n",
       "      <td>0.934208</td>\n",
       "      <td>0.879101</td>\n",
       "      <td>0.855962</td>\n",
       "    </tr>\n",
       "    <tr>\n",
       "      <th>19</th>\n",
       "      <td>0.986693</td>\n",
       "      <td>0.994958</td>\n",
       "      <td>0.934208</td>\n",
       "      <td>0.879101</td>\n",
       "      <td>0.855962</td>\n",
       "    </tr>\n",
       "  </tbody>\n",
       "</table>\n",
       "</div>"
      ],
      "text/plain": [
       "           0         1         2         3         4\n",
       "0   0.903277  0.249365  0.292620  0.841302  0.839731\n",
       "1   0.903277  0.939915  0.306765  0.841302  0.839731\n",
       "2   0.903277  0.939915  0.420761  0.841302  0.855962\n",
       "3   0.903277  0.939915  0.420761  0.841302  0.855962\n",
       "4   0.903277  0.939915  0.549056  0.841302  0.855962\n",
       "5   0.903277  0.939915  0.549056  0.841302  0.855962\n",
       "6   0.903277  0.994958  0.549056  0.841302  0.855962\n",
       "7   0.903277  0.994958  0.673528  0.841302  0.855962\n",
       "8   0.903277  0.994958  0.673528  0.841302  0.855962\n",
       "9   0.923076  0.994958  0.673528  0.841302  0.855962\n",
       "10  0.986693  0.994958  0.842982  0.841302  0.855962\n",
       "11  0.986693  0.994958  0.842982  0.841302  0.855962\n",
       "12  0.986693  0.994958  0.934208  0.841302  0.855962\n",
       "13  0.986693  0.994958  0.934208  0.841302  0.855962\n",
       "14  0.986693  0.994958  0.934208  0.841302  0.855962\n",
       "15  0.986693  0.994958  0.934208  0.841302  0.855962\n",
       "16  0.986693  0.994958  0.934208  0.879101  0.855962\n",
       "17  0.986693  0.994958  0.934208  0.879101  0.855962\n",
       "18  0.986693  0.994958  0.934208  0.879101  0.855962\n",
       "19  0.986693  0.994958  0.934208  0.879101  0.855962"
      ]
     },
     "execution_count": 38,
     "metadata": {},
     "output_type": "execute_result"
    }
   ],
   "source": [
    "df.cummax()"
   ]
  },
  {
   "cell_type": "markdown",
   "metadata": {
    "_uuid": "3fcc12a897018a10be30af61dd962ce55783ced6"
   },
   "source": [
    "### **df.cummin()** <a id=\"32\"></a>\n",
    "This code returns the cumulative min value of the data.\n",
    "\n",
    "<mark>[Return Contents](#0)\n",
    "<hr>"
   ]
  },
  {
   "cell_type": "code",
   "execution_count": 35,
   "metadata": {
    "_uuid": "1f338476139eeea15cb87f2df4b7f6958daa1e14"
   },
   "outputs": [
    {
     "data": {
      "text/html": [
       "<div>\n",
       "<style scoped>\n",
       "    .dataframe tbody tr th:only-of-type {\n",
       "        vertical-align: middle;\n",
       "    }\n",
       "\n",
       "    .dataframe tbody tr th {\n",
       "        vertical-align: top;\n",
       "    }\n",
       "\n",
       "    .dataframe thead th {\n",
       "        text-align: right;\n",
       "    }\n",
       "</style>\n",
       "<table border=\"1\" class=\"dataframe\">\n",
       "  <thead>\n",
       "    <tr style=\"text-align: right;\">\n",
       "      <th></th>\n",
       "      <th>0</th>\n",
       "      <th>1</th>\n",
       "      <th>2</th>\n",
       "      <th>3</th>\n",
       "      <th>4</th>\n",
       "    </tr>\n",
       "  </thead>\n",
       "  <tbody>\n",
       "    <tr>\n",
       "      <th>0</th>\n",
       "      <td>0.903277</td>\n",
       "      <td>0.249365</td>\n",
       "      <td>0.292620</td>\n",
       "      <td>0.841302</td>\n",
       "      <td>0.839731</td>\n",
       "    </tr>\n",
       "    <tr>\n",
       "      <th>1</th>\n",
       "      <td>0.483048</td>\n",
       "      <td>0.249365</td>\n",
       "      <td>0.292620</td>\n",
       "      <td>0.047191</td>\n",
       "      <td>0.404030</td>\n",
       "    </tr>\n",
       "    <tr>\n",
       "      <th>2</th>\n",
       "      <td>0.153219</td>\n",
       "      <td>0.249365</td>\n",
       "      <td>0.292620</td>\n",
       "      <td>0.047191</td>\n",
       "      <td>0.404030</td>\n",
       "    </tr>\n",
       "    <tr>\n",
       "      <th>3</th>\n",
       "      <td>0.153219</td>\n",
       "      <td>0.249365</td>\n",
       "      <td>0.292620</td>\n",
       "      <td>0.007781</td>\n",
       "      <td>0.404030</td>\n",
       "    </tr>\n",
       "    <tr>\n",
       "      <th>4</th>\n",
       "      <td>0.153219</td>\n",
       "      <td>0.249365</td>\n",
       "      <td>0.292620</td>\n",
       "      <td>0.007781</td>\n",
       "      <td>0.404030</td>\n",
       "    </tr>\n",
       "    <tr>\n",
       "      <th>5</th>\n",
       "      <td>0.153219</td>\n",
       "      <td>0.249365</td>\n",
       "      <td>0.169271</td>\n",
       "      <td>0.007781</td>\n",
       "      <td>0.404030</td>\n",
       "    </tr>\n",
       "    <tr>\n",
       "      <th>6</th>\n",
       "      <td>0.153219</td>\n",
       "      <td>0.249365</td>\n",
       "      <td>0.169271</td>\n",
       "      <td>0.007781</td>\n",
       "      <td>0.404030</td>\n",
       "    </tr>\n",
       "    <tr>\n",
       "      <th>7</th>\n",
       "      <td>0.153219</td>\n",
       "      <td>0.249365</td>\n",
       "      <td>0.169271</td>\n",
       "      <td>0.007781</td>\n",
       "      <td>0.046855</td>\n",
       "    </tr>\n",
       "    <tr>\n",
       "      <th>8</th>\n",
       "      <td>0.153219</td>\n",
       "      <td>0.249365</td>\n",
       "      <td>0.084790</td>\n",
       "      <td>0.007781</td>\n",
       "      <td>0.046855</td>\n",
       "    </tr>\n",
       "    <tr>\n",
       "      <th>9</th>\n",
       "      <td>0.153219</td>\n",
       "      <td>0.103213</td>\n",
       "      <td>0.084790</td>\n",
       "      <td>0.007781</td>\n",
       "      <td>0.046855</td>\n",
       "    </tr>\n",
       "    <tr>\n",
       "      <th>10</th>\n",
       "      <td>0.153219</td>\n",
       "      <td>0.103213</td>\n",
       "      <td>0.084790</td>\n",
       "      <td>0.007781</td>\n",
       "      <td>0.046855</td>\n",
       "    </tr>\n",
       "    <tr>\n",
       "      <th>11</th>\n",
       "      <td>0.153219</td>\n",
       "      <td>0.103213</td>\n",
       "      <td>0.084790</td>\n",
       "      <td>0.007781</td>\n",
       "      <td>0.046855</td>\n",
       "    </tr>\n",
       "    <tr>\n",
       "      <th>12</th>\n",
       "      <td>0.153219</td>\n",
       "      <td>0.103213</td>\n",
       "      <td>0.084790</td>\n",
       "      <td>0.007781</td>\n",
       "      <td>0.046855</td>\n",
       "    </tr>\n",
       "    <tr>\n",
       "      <th>13</th>\n",
       "      <td>0.153219</td>\n",
       "      <td>0.103213</td>\n",
       "      <td>0.084790</td>\n",
       "      <td>0.007781</td>\n",
       "      <td>0.046855</td>\n",
       "    </tr>\n",
       "    <tr>\n",
       "      <th>14</th>\n",
       "      <td>0.153219</td>\n",
       "      <td>0.103213</td>\n",
       "      <td>0.084790</td>\n",
       "      <td>0.007781</td>\n",
       "      <td>0.046855</td>\n",
       "    </tr>\n",
       "    <tr>\n",
       "      <th>15</th>\n",
       "      <td>0.153219</td>\n",
       "      <td>0.103213</td>\n",
       "      <td>0.084790</td>\n",
       "      <td>0.007781</td>\n",
       "      <td>0.046855</td>\n",
       "    </tr>\n",
       "    <tr>\n",
       "      <th>16</th>\n",
       "      <td>0.153219</td>\n",
       "      <td>0.103213</td>\n",
       "      <td>0.084790</td>\n",
       "      <td>0.007781</td>\n",
       "      <td>0.046855</td>\n",
       "    </tr>\n",
       "    <tr>\n",
       "      <th>17</th>\n",
       "      <td>0.054443</td>\n",
       "      <td>0.103213</td>\n",
       "      <td>0.084790</td>\n",
       "      <td>0.007781</td>\n",
       "      <td>0.046855</td>\n",
       "    </tr>\n",
       "    <tr>\n",
       "      <th>18</th>\n",
       "      <td>0.054443</td>\n",
       "      <td>0.103213</td>\n",
       "      <td>0.084790</td>\n",
       "      <td>0.007781</td>\n",
       "      <td>0.046855</td>\n",
       "    </tr>\n",
       "    <tr>\n",
       "      <th>19</th>\n",
       "      <td>0.054443</td>\n",
       "      <td>0.103213</td>\n",
       "      <td>0.084790</td>\n",
       "      <td>0.007781</td>\n",
       "      <td>0.046855</td>\n",
       "    </tr>\n",
       "  </tbody>\n",
       "</table>\n",
       "</div>"
      ],
      "text/plain": [
       "           0         1         2         3         4\n",
       "0   0.903277  0.249365  0.292620  0.841302  0.839731\n",
       "1   0.483048  0.249365  0.292620  0.047191  0.404030\n",
       "2   0.153219  0.249365  0.292620  0.047191  0.404030\n",
       "3   0.153219  0.249365  0.292620  0.007781  0.404030\n",
       "4   0.153219  0.249365  0.292620  0.007781  0.404030\n",
       "5   0.153219  0.249365  0.169271  0.007781  0.404030\n",
       "6   0.153219  0.249365  0.169271  0.007781  0.404030\n",
       "7   0.153219  0.249365  0.169271  0.007781  0.046855\n",
       "8   0.153219  0.249365  0.084790  0.007781  0.046855\n",
       "9   0.153219  0.103213  0.084790  0.007781  0.046855\n",
       "10  0.153219  0.103213  0.084790  0.007781  0.046855\n",
       "11  0.153219  0.103213  0.084790  0.007781  0.046855\n",
       "12  0.153219  0.103213  0.084790  0.007781  0.046855\n",
       "13  0.153219  0.103213  0.084790  0.007781  0.046855\n",
       "14  0.153219  0.103213  0.084790  0.007781  0.046855\n",
       "15  0.153219  0.103213  0.084790  0.007781  0.046855\n",
       "16  0.153219  0.103213  0.084790  0.007781  0.046855\n",
       "17  0.054443  0.103213  0.084790  0.007781  0.046855\n",
       "18  0.054443  0.103213  0.084790  0.007781  0.046855\n",
       "19  0.054443  0.103213  0.084790  0.007781  0.046855"
      ]
     },
     "execution_count": 35,
     "metadata": {},
     "output_type": "execute_result"
    }
   ],
   "source": [
    "df.cummin()"
   ]
  },
  {
   "cell_type": "markdown",
   "metadata": {
    "_uuid": "0cd60da3b32d18ebbee2e5c4af63880694ec546a"
   },
   "source": [
    "### **df['columnName'].cumproad()** <a id=\"33\"></a>\n",
    "This code returns the cumulative production of the data.\n",
    "\n",
    "<mark>[Return Contents](#0)\n",
    "<hr>"
   ]
  },
  {
   "cell_type": "code",
   "execution_count": 56,
   "metadata": {
    "_uuid": "b1ada72f4fa74e8caf4962f0901b301b110c4ef0"
   },
   "outputs": [
    {
     "data": {
      "text/plain": [
       "0    1.792424e+04\n",
       "1    3.174878e+08\n",
       "2    5.542073e+12\n",
       "3    9.527105e+16\n",
       "4    1.653449e+21\n",
       "Name: Open, dtype: float64"
      ]
     },
     "execution_count": 56,
     "metadata": {},
     "output_type": "execute_result"
    }
   ],
   "source": [
    "df_table = pd.read_csv('./input/upload_DJIA_table.csv')\n",
    "df_table['Open'].cumprod().head()\n"
   ]
  },
  {
   "cell_type": "markdown",
   "metadata": {
    "_uuid": "dbbb7f7547fa7499cd81ef2e2ceb6e62e353f193"
   },
   "source": [
    "### **len(df)** <a id=\"34\"></a>\n",
    "This code gives you how many data there is.\n",
    "\n",
    "<mark>[Return Contents](#0)\n",
    "<hr>"
   ]
  },
  {
   "cell_type": "code",
   "execution_count": 58,
   "metadata": {
    "_uuid": "e773df58aa59556aea40bbd379b47cb99bfc5629"
   },
   "outputs": [
    {
     "data": {
      "text/plain": [
       "1989"
      ]
     },
     "execution_count": 58,
     "metadata": {},
     "output_type": "execute_result"
    }
   ],
   "source": [
    "len(df_table)"
   ]
  },
  {
   "cell_type": "markdown",
   "metadata": {
    "_uuid": "14ff3ff54a24aa3ad8996f3ef68e119a7b03f8f9"
   },
   "source": [
    "### **df.isnull()** <a id=\"35\"></a>\n",
    "Checks for null values, returns boolean.\n",
    "\n",
    "<mark>[Return Contents](#0)\n",
    "<hr>"
   ]
  },
  {
   "cell_type": "code",
   "execution_count": 59,
   "metadata": {
    "_uuid": "d6c4c3ed8f7bd639db1eb3487a5e61aff1651847"
   },
   "outputs": [
    {
     "data": {
      "text/html": [
       "<div>\n",
       "<style scoped>\n",
       "    .dataframe tbody tr th:only-of-type {\n",
       "        vertical-align: middle;\n",
       "    }\n",
       "\n",
       "    .dataframe tbody tr th {\n",
       "        vertical-align: top;\n",
       "    }\n",
       "\n",
       "    .dataframe thead th {\n",
       "        text-align: right;\n",
       "    }\n",
       "</style>\n",
       "<table border=\"1\" class=\"dataframe\">\n",
       "  <thead>\n",
       "    <tr style=\"text-align: right;\">\n",
       "      <th></th>\n",
       "      <th>0</th>\n",
       "      <th>1</th>\n",
       "      <th>2</th>\n",
       "      <th>3</th>\n",
       "      <th>4</th>\n",
       "    </tr>\n",
       "  </thead>\n",
       "  <tbody>\n",
       "    <tr>\n",
       "      <th>0</th>\n",
       "      <td>False</td>\n",
       "      <td>False</td>\n",
       "      <td>False</td>\n",
       "      <td>False</td>\n",
       "      <td>False</td>\n",
       "    </tr>\n",
       "    <tr>\n",
       "      <th>1</th>\n",
       "      <td>False</td>\n",
       "      <td>False</td>\n",
       "      <td>False</td>\n",
       "      <td>False</td>\n",
       "      <td>False</td>\n",
       "    </tr>\n",
       "    <tr>\n",
       "      <th>2</th>\n",
       "      <td>False</td>\n",
       "      <td>False</td>\n",
       "      <td>False</td>\n",
       "      <td>False</td>\n",
       "      <td>False</td>\n",
       "    </tr>\n",
       "    <tr>\n",
       "      <th>3</th>\n",
       "      <td>False</td>\n",
       "      <td>False</td>\n",
       "      <td>False</td>\n",
       "      <td>False</td>\n",
       "      <td>False</td>\n",
       "    </tr>\n",
       "    <tr>\n",
       "      <th>4</th>\n",
       "      <td>False</td>\n",
       "      <td>False</td>\n",
       "      <td>False</td>\n",
       "      <td>False</td>\n",
       "      <td>False</td>\n",
       "    </tr>\n",
       "  </tbody>\n",
       "</table>\n",
       "</div>"
      ],
      "text/plain": [
       "       0      1      2      3      4\n",
       "0  False  False  False  False  False\n",
       "1  False  False  False  False  False\n",
       "2  False  False  False  False  False\n",
       "3  False  False  False  False  False\n",
       "4  False  False  False  False  False"
      ]
     },
     "execution_count": 59,
     "metadata": {},
     "output_type": "execute_result"
    }
   ],
   "source": [
    "df.isnull().head()"
   ]
  },
  {
   "cell_type": "markdown",
   "metadata": {
    "_uuid": "9c2242ccb54b0cccecd0f5ebdfda70f454cb35d7"
   },
   "source": [
    "### **df.corr()** <a id=\"81\"></a>\n",
    "it gives information about the correlation between the data.\n",
    "\n",
    "<mark>[Return Contents](#0)\n",
    "<hr>"
   ]
  },
  {
   "cell_type": "code",
   "execution_count": 60,
   "metadata": {
    "_uuid": "7ad15ffbc630aa1ffbeebe5270844112e1c88b18"
   },
   "outputs": [
    {
     "data": {
      "text/html": [
       "<div>\n",
       "<style scoped>\n",
       "    .dataframe tbody tr th:only-of-type {\n",
       "        vertical-align: middle;\n",
       "    }\n",
       "\n",
       "    .dataframe tbody tr th {\n",
       "        vertical-align: top;\n",
       "    }\n",
       "\n",
       "    .dataframe thead th {\n",
       "        text-align: right;\n",
       "    }\n",
       "</style>\n",
       "<table border=\"1\" class=\"dataframe\">\n",
       "  <thead>\n",
       "    <tr style=\"text-align: right;\">\n",
       "      <th></th>\n",
       "      <th>0</th>\n",
       "      <th>1</th>\n",
       "      <th>2</th>\n",
       "      <th>3</th>\n",
       "      <th>4</th>\n",
       "    </tr>\n",
       "  </thead>\n",
       "  <tbody>\n",
       "    <tr>\n",
       "      <th>0</th>\n",
       "      <td>1.000000</td>\n",
       "      <td>-0.285092</td>\n",
       "      <td>-0.008100</td>\n",
       "      <td>0.099058</td>\n",
       "      <td>0.244387</td>\n",
       "    </tr>\n",
       "    <tr>\n",
       "      <th>1</th>\n",
       "      <td>-0.285092</td>\n",
       "      <td>1.000000</td>\n",
       "      <td>0.146022</td>\n",
       "      <td>-0.402114</td>\n",
       "      <td>-0.062963</td>\n",
       "    </tr>\n",
       "    <tr>\n",
       "      <th>2</th>\n",
       "      <td>-0.008100</td>\n",
       "      <td>0.146022</td>\n",
       "      <td>1.000000</td>\n",
       "      <td>-0.053648</td>\n",
       "      <td>-0.525534</td>\n",
       "    </tr>\n",
       "    <tr>\n",
       "      <th>3</th>\n",
       "      <td>0.099058</td>\n",
       "      <td>-0.402114</td>\n",
       "      <td>-0.053648</td>\n",
       "      <td>1.000000</td>\n",
       "      <td>0.226519</td>\n",
       "    </tr>\n",
       "    <tr>\n",
       "      <th>4</th>\n",
       "      <td>0.244387</td>\n",
       "      <td>-0.062963</td>\n",
       "      <td>-0.525534</td>\n",
       "      <td>0.226519</td>\n",
       "      <td>1.000000</td>\n",
       "    </tr>\n",
       "  </tbody>\n",
       "</table>\n",
       "</div>"
      ],
      "text/plain": [
       "          0         1         2         3         4\n",
       "0  1.000000 -0.285092 -0.008100  0.099058  0.244387\n",
       "1 -0.285092  1.000000  0.146022 -0.402114 -0.062963\n",
       "2 -0.008100  0.146022  1.000000 -0.053648 -0.525534\n",
       "3  0.099058 -0.402114 -0.053648  1.000000  0.226519\n",
       "4  0.244387 -0.062963 -0.525534  0.226519  1.000000"
      ]
     },
     "execution_count": 60,
     "metadata": {},
     "output_type": "execute_result"
    }
   ],
   "source": [
    "df.corr()"
   ]
  },
  {
   "cell_type": "markdown",
   "metadata": {
    "_uuid": "37ec533a2bdbadc4271c1eabe3956ca7f112bf11"
   },
   "source": [
    "# **Selection & Filtering** <a id=\"36\"></a>\n",
    "<mark>[Return Contents](#0)\n",
    "<hr>\n",
    "\n",
    "This is how we can choose the data we want with pandas, how we can bring unique data."
   ]
  },
  {
   "cell_type": "markdown",
   "metadata": {
    "_uuid": "cd86aed11ba3388bee1c7038fa653bdd0c40b88c"
   },
   "source": [
    "### **mySeries['b']** <a id=\"37\"></a>\n",
    "This code returns data with a value of B in series.\n",
    "\n",
    "<mark>[Return Contents](#0)\n",
    "<hr>"
   ]
  },
  {
   "cell_type": "code",
   "execution_count": 61,
   "metadata": {
    "_uuid": "d296ecf3432c28312feb0784abb4967686f7e0bc"
   },
   "outputs": [
    {
     "data": {
      "text/plain": [
       "-5"
      ]
     },
     "execution_count": 61,
     "metadata": {},
     "output_type": "execute_result"
    }
   ],
   "source": [
    "mySeries['b']"
   ]
  },
  {
   "cell_type": "markdown",
   "metadata": {
    "_uuid": "b0276f695b6ee645cf6c65fc15198973b1bf1b2f"
   },
   "source": [
    "### **df[n:n]** <a id=\"38\"></a>\n",
    "This code fetches data from N to N.\n",
    "\n",
    "<mark>[Return Contents](#0)\n",
    "<hr>"
   ]
  },
  {
   "cell_type": "code",
   "execution_count": 62,
   "metadata": {
    "_uuid": "68fc73b45d10fbba5dbf09ebcf87621885bf1787"
   },
   "outputs": [
    {
     "data": {
      "text/html": [
       "<div>\n",
       "<style scoped>\n",
       "    .dataframe tbody tr th:only-of-type {\n",
       "        vertical-align: middle;\n",
       "    }\n",
       "\n",
       "    .dataframe tbody tr th {\n",
       "        vertical-align: top;\n",
       "    }\n",
       "\n",
       "    .dataframe thead th {\n",
       "        text-align: right;\n",
       "    }\n",
       "</style>\n",
       "<table border=\"1\" class=\"dataframe\">\n",
       "  <thead>\n",
       "    <tr style=\"text-align: right;\">\n",
       "      <th></th>\n",
       "      <th>0</th>\n",
       "      <th>1</th>\n",
       "      <th>2</th>\n",
       "      <th>3</th>\n",
       "      <th>4</th>\n",
       "    </tr>\n",
       "  </thead>\n",
       "  <tbody>\n",
       "  </tbody>\n",
       "</table>\n",
       "</div>"
      ],
      "text/plain": [
       "Empty DataFrame\n",
       "Columns: [0, 1, 2, 3, 4]\n",
       "Index: []"
      ]
     },
     "execution_count": 62,
     "metadata": {},
     "output_type": "execute_result"
    }
   ],
   "source": [
    "df[1982:]\n",
    "#Or\n",
    "#df[5:7]"
   ]
  },
  {
   "cell_type": "markdown",
   "metadata": {
    "_uuid": "0d16f5649598feb417b990ac8d6e1571a193ef35"
   },
   "source": [
    "### **df.iloc[[n],[n]]** <a id=\"39\"></a>\n",
    "This code brings the data in the N row and N column in the DataFrame.\n",
    "\n",
    "<mark>[Return Contents](#0)\n",
    "<hr>"
   ]
  },
  {
   "cell_type": "code",
   "execution_count": 63,
   "metadata": {
    "_uuid": "de6796a0684aac7f6c37c9c9ff3e67308ba20adb"
   },
   "outputs": [
    {
     "data": {
      "text/html": [
       "<div>\n",
       "<style scoped>\n",
       "    .dataframe tbody tr th:only-of-type {\n",
       "        vertical-align: middle;\n",
       "    }\n",
       "\n",
       "    .dataframe tbody tr th {\n",
       "        vertical-align: top;\n",
       "    }\n",
       "\n",
       "    .dataframe thead th {\n",
       "        text-align: right;\n",
       "    }\n",
       "</style>\n",
       "<table border=\"1\" class=\"dataframe\">\n",
       "  <thead>\n",
       "    <tr style=\"text-align: right;\">\n",
       "      <th></th>\n",
       "      <th>3</th>\n",
       "    </tr>\n",
       "  </thead>\n",
       "  <tbody>\n",
       "    <tr>\n",
       "      <th>0</th>\n",
       "      <td>0.841302</td>\n",
       "    </tr>\n",
       "  </tbody>\n",
       "</table>\n",
       "</div>"
      ],
      "text/plain": [
       "          3\n",
       "0  0.841302"
      ]
     },
     "execution_count": 63,
     "metadata": {},
     "output_type": "execute_result"
    }
   ],
   "source": [
    "df.iloc[[0],[3]]"
   ]
  },
  {
   "cell_type": "markdown",
   "metadata": {
    "_uuid": "bb3b27a4c73fa3bccaf3457e8a6a8bacdb7f8b88"
   },
   "source": [
    "### **df.loc[n:n]** <a id=\"40\"></a>\n",
    "This code allows us to fetch the data in the range we specify.\n",
    "\n",
    "<mark>[Return Contents](#0)\n",
    "<hr>"
   ]
  },
  {
   "cell_type": "code",
   "execution_count": 64,
   "metadata": {
    "_uuid": "e0791dc5f7012b248d6216bc3edfc5af591c50ea"
   },
   "outputs": [
    {
     "data": {
      "text/html": [
       "<div>\n",
       "<style scoped>\n",
       "    .dataframe tbody tr th:only-of-type {\n",
       "        vertical-align: middle;\n",
       "    }\n",
       "\n",
       "    .dataframe tbody tr th {\n",
       "        vertical-align: top;\n",
       "    }\n",
       "\n",
       "    .dataframe thead th {\n",
       "        text-align: right;\n",
       "    }\n",
       "</style>\n",
       "<table border=\"1\" class=\"dataframe\">\n",
       "  <thead>\n",
       "    <tr style=\"text-align: right;\">\n",
       "      <th></th>\n",
       "      <th>0</th>\n",
       "      <th>1</th>\n",
       "      <th>2</th>\n",
       "      <th>3</th>\n",
       "      <th>4</th>\n",
       "    </tr>\n",
       "  </thead>\n",
       "  <tbody>\n",
       "    <tr>\n",
       "      <th>5</th>\n",
       "      <td>0.894192</td>\n",
       "      <td>0.380425</td>\n",
       "      <td>0.169271</td>\n",
       "      <td>0.772660</td>\n",
       "      <td>0.846253</td>\n",
       "    </tr>\n",
       "    <tr>\n",
       "      <th>6</th>\n",
       "      <td>0.191670</td>\n",
       "      <td>0.994958</td>\n",
       "      <td>0.418455</td>\n",
       "      <td>0.453797</td>\n",
       "      <td>0.792212</td>\n",
       "    </tr>\n",
       "    <tr>\n",
       "      <th>7</th>\n",
       "      <td>0.372298</td>\n",
       "      <td>0.292011</td>\n",
       "      <td>0.673528</td>\n",
       "      <td>0.306446</td>\n",
       "      <td>0.046855</td>\n",
       "    </tr>\n",
       "  </tbody>\n",
       "</table>\n",
       "</div>"
      ],
      "text/plain": [
       "          0         1         2         3         4\n",
       "5  0.894192  0.380425  0.169271  0.772660  0.846253\n",
       "6  0.191670  0.994958  0.418455  0.453797  0.792212\n",
       "7  0.372298  0.292011  0.673528  0.306446  0.046855"
      ]
     },
     "execution_count": 64,
     "metadata": {},
     "output_type": "execute_result"
    }
   ],
   "source": [
    "#df.loc[n:]\n",
    "# OR\n",
    "df.loc[5:7]"
   ]
  },
  {
   "cell_type": "markdown",
   "metadata": {
    "_uuid": "5d7dfc275348d58e53436938e96d3233b4d6753e"
   },
   "source": [
    "### **df['columnName']** <a id=\"41\"></a>\n",
    "With this code, we can select and bring any column we want.\n",
    "\n",
    "<mark>[Return Contents](#0)\n",
    "<hr>"
   ]
  },
  {
   "cell_type": "code",
   "execution_count": 66,
   "metadata": {
    "_uuid": "da3167e40f0419054bde6e6d168bb22bce24973b"
   },
   "outputs": [
    {
     "data": {
      "text/plain": [
       "0    17924.240234\n",
       "1    17712.759766\n",
       "2    17456.019531\n",
       "3    17190.509766\n",
       "4    17355.210938\n",
       "Name: Open, dtype: float64"
      ]
     },
     "execution_count": 66,
     "metadata": {},
     "output_type": "execute_result"
    }
   ],
   "source": [
    "df_table['Open'].head()\n",
    "# OR\n",
    "# df.Open"
   ]
  },
  {
   "cell_type": "markdown",
   "metadata": {
    "_uuid": "394d9e7a7b3bd7077a490a264ef4d308e035771f"
   },
   "source": [
    "### **df['columnName'][n]** <a id=\"42\"></a>\n",
    "With this code, we can select and return any value of the column we want.\n",
    "\n",
    "<mark>[Return Contents](#0)\n",
    "<hr>"
   ]
  },
  {
   "cell_type": "code",
   "execution_count": 68,
   "metadata": {
    "_uuid": "40f514f220034b9d27c8390147c577f69a5c5dac"
   },
   "outputs": [
    {
     "data": {
      "text/plain": [
       "17924.240234"
      ]
     },
     "execution_count": 68,
     "metadata": {},
     "output_type": "execute_result"
    }
   ],
   "source": [
    "df_table['Open'][0]\n",
    "# OR\n",
    "# df.Open[0]\n",
    "# df[\"Open\"][1]\n",
    "# df.loc[1,[\"Open\"]]"
   ]
  },
  {
   "cell_type": "markdown",
   "metadata": {
    "_uuid": "714c9cc591916b1bd88f2bc164a76aa37092ab3e"
   },
   "source": [
    "### **df['columnName'].nunique()** <a id=\"43\"></a>\n",
    "This code shows how many of the data that is in the selected column and does not repeat.\n",
    "\n",
    "<mark>[Return Contents](#0)\n",
    "<hr>"
   ]
  },
  {
   "cell_type": "code",
   "execution_count": 73,
   "metadata": {},
   "outputs": [
    {
     "data": {
      "text/plain": [
       "1989"
      ]
     },
     "execution_count": 73,
     "metadata": {},
     "output_type": "execute_result"
    }
   ],
   "source": [
    "len(df_table)"
   ]
  },
  {
   "cell_type": "code",
   "execution_count": 69,
   "metadata": {
    "_uuid": "7e5559e6f63e2d975e99666574f110b87a58e74a"
   },
   "outputs": [
    {
     "data": {
      "text/plain": [
       "1980"
      ]
     },
     "execution_count": 69,
     "metadata": {},
     "output_type": "execute_result"
    }
   ],
   "source": [
    "df_table['Open'].nunique()"
   ]
  },
  {
   "cell_type": "markdown",
   "metadata": {
    "_uuid": "1326f2c62207fd3345f16bfc5728b8ddf3988257"
   },
   "source": [
    "### **df['columnName'].unique()** <a id=\"44\"></a>\n",
    "This code shows which of the data in the selected column repeats.\n",
    "\n",
    "<mark>[Return Contents](#0)\n",
    "<hr>"
   ]
  },
  {
   "cell_type": "code",
   "execution_count": 77,
   "metadata": {
    "_uuid": "88ffb43d255ad0a471be3a27732e3c5158ba8fd7"
   },
   "outputs": [
    {
     "data": {
      "text/plain": [
       "array([17924.240234, 17712.759766, 17456.019531, ..., 11781.700195,\n",
       "       11729.669922, 11432.089844])"
      ]
     },
     "execution_count": 77,
     "metadata": {},
     "output_type": "execute_result"
    }
   ],
   "source": [
    "df_table['Open'].unique()\n",
    "# We can write the above code as follows:: df.Open.unique()"
   ]
  },
  {
   "cell_type": "markdown",
   "metadata": {
    "_uuid": "a394405d4c8055ace028e2b360af9a495e3aca79"
   },
   "source": [
    "### **df.columnName** <a id=\"45\"></a>\n",
    "This code is another way to select the column we want.\n",
    "\n",
    "<mark>[Return Contents](#0)\n",
    "<hr>"
   ]
  },
  {
   "cell_type": "code",
   "execution_count": 79,
   "metadata": {
    "_uuid": "5fb80a8a47528d73d77d0369d27ad02855a675e6"
   },
   "outputs": [
    {
     "data": {
      "text/plain": [
       "0    17924.240234\n",
       "1    17712.759766\n",
       "2    17456.019531\n",
       "3    17190.509766\n",
       "4    17355.210938\n",
       "Name: Open, dtype: float64"
      ]
     },
     "execution_count": 79,
     "metadata": {},
     "output_type": "execute_result"
    }
   ],
   "source": [
    "df_table.Open.head()"
   ]
  },
  {
   "cell_type": "markdown",
   "metadata": {
    "_uuid": "260398cf0a5fd7774021f5b85aa651d76869fe61"
   },
   "source": [
    "### **df['columnName'].value_counts(dropna =False)** <a id=\"46\"></a>\n",
    "This code counts all of the data in the column we have specified, but does not count the null/none values.\n",
    "\n",
    "<mark>[Return Contents](#0)\n",
    "<hr>"
   ]
  },
  {
   "cell_type": "code",
   "execution_count": 80,
   "metadata": {
    "_uuid": "6bed66e2f74a1f00e10fad7cf874b962cb3bdfc8"
   },
   "outputs": [
    {
     "name": "stdout",
     "output_type": "stream",
     "text": [
      "17374.779297    2\n",
      "18033.330078    2\n",
      "10309.389648    2\n",
      "17711.119141    2\n",
      "17812.250000    2\n",
      "Name: Open, dtype: int64\n"
     ]
    }
   ],
   "source": [
    "print(df_table.Open.value_counts(dropna =True).head())\n",
    "# OR\n",
    "# print(df['Item'].value_counts(dropna =False))"
   ]
  },
  {
   "cell_type": "markdown",
   "metadata": {
    "_uuid": "f9b78c632be9052e8713a529fd74dd59ae769b71"
   },
   "source": [
    "### **df.head(n)** <a id=\"47\"></a>\n",
    "This code optionally brings in the first 5 data. returns the number of data that you type instead of N.\n",
    "\n",
    "<mark>[Return Contents](#0)\n",
    "<hr>"
   ]
  },
  {
   "cell_type": "code",
   "execution_count": 81,
   "metadata": {
    "_uuid": "e9751b0512899f2d84eb07d8bd24b45351f564a3"
   },
   "outputs": [
    {
     "data": {
      "text/html": [
       "<div>\n",
       "<style scoped>\n",
       "    .dataframe tbody tr th:only-of-type {\n",
       "        vertical-align: middle;\n",
       "    }\n",
       "\n",
       "    .dataframe tbody tr th {\n",
       "        vertical-align: top;\n",
       "    }\n",
       "\n",
       "    .dataframe thead th {\n",
       "        text-align: right;\n",
       "    }\n",
       "</style>\n",
       "<table border=\"1\" class=\"dataframe\">\n",
       "  <thead>\n",
       "    <tr style=\"text-align: right;\">\n",
       "      <th></th>\n",
       "      <th>Date</th>\n",
       "      <th>Open</th>\n",
       "      <th>High</th>\n",
       "      <th>Low</th>\n",
       "      <th>Close</th>\n",
       "      <th>Volume</th>\n",
       "      <th>Adj Close</th>\n",
       "    </tr>\n",
       "  </thead>\n",
       "  <tbody>\n",
       "    <tr>\n",
       "      <th>0</th>\n",
       "      <td>2016-07-01</td>\n",
       "      <td>17924.240234</td>\n",
       "      <td>18002.380859</td>\n",
       "      <td>17916.910156</td>\n",
       "      <td>17949.369141</td>\n",
       "      <td>82160000</td>\n",
       "      <td>17949.369141</td>\n",
       "    </tr>\n",
       "    <tr>\n",
       "      <th>1</th>\n",
       "      <td>2016-06-30</td>\n",
       "      <td>17712.759766</td>\n",
       "      <td>17930.609375</td>\n",
       "      <td>17711.800781</td>\n",
       "      <td>17929.990234</td>\n",
       "      <td>133030000</td>\n",
       "      <td>17929.990234</td>\n",
       "    </tr>\n",
       "    <tr>\n",
       "      <th>2</th>\n",
       "      <td>2016-06-29</td>\n",
       "      <td>17456.019531</td>\n",
       "      <td>17704.509766</td>\n",
       "      <td>17456.019531</td>\n",
       "      <td>17694.679688</td>\n",
       "      <td>106380000</td>\n",
       "      <td>17694.679688</td>\n",
       "    </tr>\n",
       "    <tr>\n",
       "      <th>3</th>\n",
       "      <td>2016-06-28</td>\n",
       "      <td>17190.509766</td>\n",
       "      <td>17409.720703</td>\n",
       "      <td>17190.509766</td>\n",
       "      <td>17409.720703</td>\n",
       "      <td>112190000</td>\n",
       "      <td>17409.720703</td>\n",
       "    </tr>\n",
       "    <tr>\n",
       "      <th>4</th>\n",
       "      <td>2016-06-27</td>\n",
       "      <td>17355.210938</td>\n",
       "      <td>17355.210938</td>\n",
       "      <td>17063.080078</td>\n",
       "      <td>17140.240234</td>\n",
       "      <td>138740000</td>\n",
       "      <td>17140.240234</td>\n",
       "    </tr>\n",
       "  </tbody>\n",
       "</table>\n",
       "</div>"
      ],
      "text/plain": [
       "         Date          Open          High           Low         Close  \\\n",
       "0  2016-07-01  17924.240234  18002.380859  17916.910156  17949.369141   \n",
       "1  2016-06-30  17712.759766  17930.609375  17711.800781  17929.990234   \n",
       "2  2016-06-29  17456.019531  17704.509766  17456.019531  17694.679688   \n",
       "3  2016-06-28  17190.509766  17409.720703  17190.509766  17409.720703   \n",
       "4  2016-06-27  17355.210938  17355.210938  17063.080078  17140.240234   \n",
       "\n",
       "      Volume     Adj Close  \n",
       "0   82160000  17949.369141  \n",
       "1  133030000  17929.990234  \n",
       "2  106380000  17694.679688  \n",
       "3  112190000  17409.720703  \n",
       "4  138740000  17140.240234  "
      ]
     },
     "execution_count": 81,
     "metadata": {},
     "output_type": "execute_result"
    }
   ],
   "source": [
    "df_table.head()\n",
    "# OR\n",
    "# df.head(15)"
   ]
  },
  {
   "cell_type": "markdown",
   "metadata": {
    "_uuid": "be2de7201deaea863247067fe5432746c0d04cba"
   },
   "source": [
    "### **df.tail(n)** <a id=\"48\"></a>\n",
    "This code optionally brings 5 data at the end. returns the number of data that you type instead of N.\n",
    "\n",
    "<mark>[Return Contents](#0)\n",
    "<hr>"
   ]
  },
  {
   "cell_type": "code",
   "execution_count": 90,
   "metadata": {
    "_uuid": "318f20d9624d31dc6a3f8150523b266da9acfcc5"
   },
   "outputs": [
    {
     "data": {
      "text/html": [
       "<div>\n",
       "<style scoped>\n",
       "    .dataframe tbody tr th:only-of-type {\n",
       "        vertical-align: middle;\n",
       "    }\n",
       "\n",
       "    .dataframe tbody tr th {\n",
       "        vertical-align: top;\n",
       "    }\n",
       "\n",
       "    .dataframe thead th {\n",
       "        text-align: right;\n",
       "    }\n",
       "</style>\n",
       "<table border=\"1\" class=\"dataframe\">\n",
       "  <thead>\n",
       "    <tr style=\"text-align: right;\">\n",
       "      <th></th>\n",
       "      <th>Date</th>\n",
       "      <th>Open</th>\n",
       "      <th>High</th>\n",
       "      <th>Low</th>\n",
       "      <th>Close</th>\n",
       "      <th>Volume</th>\n",
       "      <th>Adj Close</th>\n",
       "    </tr>\n",
       "  </thead>\n",
       "  <tbody>\n",
       "    <tr>\n",
       "      <th>1979</th>\n",
       "      <td>2008-08-21</td>\n",
       "      <td>11415.230469</td>\n",
       "      <td>11476.209961</td>\n",
       "      <td>11315.570312</td>\n",
       "      <td>11430.209961</td>\n",
       "      <td>130020000</td>\n",
       "      <td>11430.209961</td>\n",
       "    </tr>\n",
       "    <tr>\n",
       "      <th>1980</th>\n",
       "      <td>2008-08-20</td>\n",
       "      <td>11345.940430</td>\n",
       "      <td>11454.150391</td>\n",
       "      <td>11290.580078</td>\n",
       "      <td>11417.429688</td>\n",
       "      <td>144880000</td>\n",
       "      <td>11417.429688</td>\n",
       "    </tr>\n",
       "    <tr>\n",
       "      <th>1981</th>\n",
       "      <td>2008-08-19</td>\n",
       "      <td>11478.089844</td>\n",
       "      <td>11478.169922</td>\n",
       "      <td>11318.500000</td>\n",
       "      <td>11348.549805</td>\n",
       "      <td>171580000</td>\n",
       "      <td>11348.549805</td>\n",
       "    </tr>\n",
       "    <tr>\n",
       "      <th>1982</th>\n",
       "      <td>2008-08-18</td>\n",
       "      <td>11659.650391</td>\n",
       "      <td>11690.429688</td>\n",
       "      <td>11434.120117</td>\n",
       "      <td>11479.389648</td>\n",
       "      <td>156290000</td>\n",
       "      <td>11479.389648</td>\n",
       "    </tr>\n",
       "    <tr>\n",
       "      <th>1983</th>\n",
       "      <td>2008-08-15</td>\n",
       "      <td>11611.209961</td>\n",
       "      <td>11709.889648</td>\n",
       "      <td>11599.730469</td>\n",
       "      <td>11659.900391</td>\n",
       "      <td>215040000</td>\n",
       "      <td>11659.900391</td>\n",
       "    </tr>\n",
       "    <tr>\n",
       "      <th>1984</th>\n",
       "      <td>2008-08-14</td>\n",
       "      <td>11532.070312</td>\n",
       "      <td>11718.280273</td>\n",
       "      <td>11450.889648</td>\n",
       "      <td>11615.929688</td>\n",
       "      <td>159790000</td>\n",
       "      <td>11615.929688</td>\n",
       "    </tr>\n",
       "    <tr>\n",
       "      <th>1985</th>\n",
       "      <td>2008-08-13</td>\n",
       "      <td>11632.809570</td>\n",
       "      <td>11633.780273</td>\n",
       "      <td>11453.339844</td>\n",
       "      <td>11532.959961</td>\n",
       "      <td>182550000</td>\n",
       "      <td>11532.959961</td>\n",
       "    </tr>\n",
       "    <tr>\n",
       "      <th>1986</th>\n",
       "      <td>2008-08-12</td>\n",
       "      <td>11781.700195</td>\n",
       "      <td>11782.349609</td>\n",
       "      <td>11601.519531</td>\n",
       "      <td>11642.469727</td>\n",
       "      <td>173590000</td>\n",
       "      <td>11642.469727</td>\n",
       "    </tr>\n",
       "    <tr>\n",
       "      <th>1987</th>\n",
       "      <td>2008-08-11</td>\n",
       "      <td>11729.669922</td>\n",
       "      <td>11867.110352</td>\n",
       "      <td>11675.530273</td>\n",
       "      <td>11782.349609</td>\n",
       "      <td>183190000</td>\n",
       "      <td>11782.349609</td>\n",
       "    </tr>\n",
       "    <tr>\n",
       "      <th>1988</th>\n",
       "      <td>2008-08-08</td>\n",
       "      <td>11432.089844</td>\n",
       "      <td>11759.959961</td>\n",
       "      <td>11388.040039</td>\n",
       "      <td>11734.320312</td>\n",
       "      <td>212830000</td>\n",
       "      <td>11734.320312</td>\n",
       "    </tr>\n",
       "  </tbody>\n",
       "</table>\n",
       "</div>"
      ],
      "text/plain": [
       "            Date          Open          High           Low         Close  \\\n",
       "1979  2008-08-21  11415.230469  11476.209961  11315.570312  11430.209961   \n",
       "1980  2008-08-20  11345.940430  11454.150391  11290.580078  11417.429688   \n",
       "1981  2008-08-19  11478.089844  11478.169922  11318.500000  11348.549805   \n",
       "1982  2008-08-18  11659.650391  11690.429688  11434.120117  11479.389648   \n",
       "1983  2008-08-15  11611.209961  11709.889648  11599.730469  11659.900391   \n",
       "1984  2008-08-14  11532.070312  11718.280273  11450.889648  11615.929688   \n",
       "1985  2008-08-13  11632.809570  11633.780273  11453.339844  11532.959961   \n",
       "1986  2008-08-12  11781.700195  11782.349609  11601.519531  11642.469727   \n",
       "1987  2008-08-11  11729.669922  11867.110352  11675.530273  11782.349609   \n",
       "1988  2008-08-08  11432.089844  11759.959961  11388.040039  11734.320312   \n",
       "\n",
       "         Volume     Adj Close  \n",
       "1979  130020000  11430.209961  \n",
       "1980  144880000  11417.429688  \n",
       "1981  171580000  11348.549805  \n",
       "1982  156290000  11479.389648  \n",
       "1983  215040000  11659.900391  \n",
       "1984  159790000  11615.929688  \n",
       "1985  182550000  11532.959961  \n",
       "1986  173590000  11642.469727  \n",
       "1987  183190000  11782.349609  \n",
       "1988  212830000  11734.320312  "
      ]
     },
     "execution_count": 90,
     "metadata": {},
     "output_type": "execute_result"
    }
   ],
   "source": [
    "df_table.tail(10)\n",
    "# OR\n",
    "# df.tail(20)"
   ]
  },
  {
   "cell_type": "markdown",
   "metadata": {
    "_uuid": "fb84fc0ec1005c386ca34948dbc31a2f78482524"
   },
   "source": [
    "### **df.sample(n)** <a id=\"49\"></a>\n",
    "This code fetches random n data from the data.\n",
    "\n",
    "<mark>[Return Contents](#0)\n",
    "<hr>"
   ]
  },
  {
   "cell_type": "code",
   "execution_count": 92,
   "metadata": {
    "_uuid": "9b7035347af1daf7a0ad44800c58655ec290a5ad"
   },
   "outputs": [
    {
     "data": {
      "text/html": [
       "<div>\n",
       "<style scoped>\n",
       "    .dataframe tbody tr th:only-of-type {\n",
       "        vertical-align: middle;\n",
       "    }\n",
       "\n",
       "    .dataframe tbody tr th {\n",
       "        vertical-align: top;\n",
       "    }\n",
       "\n",
       "    .dataframe thead th {\n",
       "        text-align: right;\n",
       "    }\n",
       "</style>\n",
       "<table border=\"1\" class=\"dataframe\">\n",
       "  <thead>\n",
       "    <tr style=\"text-align: right;\">\n",
       "      <th></th>\n",
       "      <th>Date</th>\n",
       "      <th>Open</th>\n",
       "      <th>High</th>\n",
       "      <th>Low</th>\n",
       "      <th>Close</th>\n",
       "      <th>Volume</th>\n",
       "      <th>Adj Close</th>\n",
       "    </tr>\n",
       "  </thead>\n",
       "  <tbody>\n",
       "    <tr>\n",
       "      <th>101</th>\n",
       "      <td>2016-02-08</td>\n",
       "      <td>16147.509766</td>\n",
       "      <td>16147.509766</td>\n",
       "      <td>15803.549805</td>\n",
       "      <td>16027.049805</td>\n",
       "      <td>165880000</td>\n",
       "      <td>16027.049805</td>\n",
       "    </tr>\n",
       "    <tr>\n",
       "      <th>658</th>\n",
       "      <td>2013-11-19</td>\n",
       "      <td>15974.059570</td>\n",
       "      <td>16025.849609</td>\n",
       "      <td>15943.780273</td>\n",
       "      <td>15967.030273</td>\n",
       "      <td>84570000</td>\n",
       "      <td>15967.030273</td>\n",
       "    </tr>\n",
       "    <tr>\n",
       "      <th>1770</th>\n",
       "      <td>2009-06-22</td>\n",
       "      <td>8538.519531</td>\n",
       "      <td>8538.830078</td>\n",
       "      <td>8334.549805</td>\n",
       "      <td>8339.009766</td>\n",
       "      <td>291240000</td>\n",
       "      <td>8339.009766</td>\n",
       "    </tr>\n",
       "    <tr>\n",
       "      <th>613</th>\n",
       "      <td>2014-01-27</td>\n",
       "      <td>15879.049805</td>\n",
       "      <td>15942.769531</td>\n",
       "      <td>15783.549805</td>\n",
       "      <td>15837.879883</td>\n",
       "      <td>127540000</td>\n",
       "      <td>15837.879883</td>\n",
       "    </tr>\n",
       "    <tr>\n",
       "      <th>102</th>\n",
       "      <td>2016-02-05</td>\n",
       "      <td>16417.949219</td>\n",
       "      <td>16423.630859</td>\n",
       "      <td>16129.809570</td>\n",
       "      <td>16204.969727</td>\n",
       "      <td>139010000</td>\n",
       "      <td>16204.969727</td>\n",
       "    </tr>\n",
       "  </tbody>\n",
       "</table>\n",
       "</div>"
      ],
      "text/plain": [
       "            Date          Open          High           Low         Close  \\\n",
       "101   2016-02-08  16147.509766  16147.509766  15803.549805  16027.049805   \n",
       "658   2013-11-19  15974.059570  16025.849609  15943.780273  15967.030273   \n",
       "1770  2009-06-22   8538.519531   8538.830078   8334.549805   8339.009766   \n",
       "613   2014-01-27  15879.049805  15942.769531  15783.549805  15837.879883   \n",
       "102   2016-02-05  16417.949219  16423.630859  16129.809570  16204.969727   \n",
       "\n",
       "         Volume     Adj Close  \n",
       "101   165880000  16027.049805  \n",
       "658    84570000  15967.030273  \n",
       "1770  291240000   8339.009766  \n",
       "613   127540000  15837.879883  \n",
       "102   139010000  16204.969727  "
      ]
     },
     "execution_count": 92,
     "metadata": {},
     "output_type": "execute_result"
    }
   ],
   "source": [
    "df_table.sample(5)"
   ]
  },
  {
   "cell_type": "markdown",
   "metadata": {
    "_uuid": "5fc0c9e236247779b6f929004ba980bf2bb3487a"
   },
   "source": [
    "### **df.sample(frac=0.5)** <a id=\"50\"></a>\n",
    "This code selects the fractions of random rows and fetches the data to that extent.\n",
    "\n",
    "<mark>[Return Contents](#0)\n",
    "<hr>"
   ]
  },
  {
   "cell_type": "code",
   "execution_count": 93,
   "metadata": {
    "_uuid": "501b38a9b6abe3f5fed9da98a0d4d0fb095fe2c5"
   },
   "outputs": [
    {
     "data": {
      "text/html": [
       "<div>\n",
       "<style scoped>\n",
       "    .dataframe tbody tr th:only-of-type {\n",
       "        vertical-align: middle;\n",
       "    }\n",
       "\n",
       "    .dataframe tbody tr th {\n",
       "        vertical-align: top;\n",
       "    }\n",
       "\n",
       "    .dataframe thead th {\n",
       "        text-align: right;\n",
       "    }\n",
       "</style>\n",
       "<table border=\"1\" class=\"dataframe\">\n",
       "  <thead>\n",
       "    <tr style=\"text-align: right;\">\n",
       "      <th></th>\n",
       "      <th>Date</th>\n",
       "      <th>Open</th>\n",
       "      <th>High</th>\n",
       "      <th>Low</th>\n",
       "      <th>Close</th>\n",
       "      <th>Volume</th>\n",
       "      <th>Adj Close</th>\n",
       "    </tr>\n",
       "  </thead>\n",
       "  <tbody>\n",
       "    <tr>\n",
       "      <th>917</th>\n",
       "      <td>2012-11-08</td>\n",
       "      <td>12932.809570</td>\n",
       "      <td>12980.230469</td>\n",
       "      <td>12811.240234</td>\n",
       "      <td>12811.320312</td>\n",
       "      <td>138350000</td>\n",
       "      <td>12811.320312</td>\n",
       "    </tr>\n",
       "    <tr>\n",
       "      <th>835</th>\n",
       "      <td>2013-03-11</td>\n",
       "      <td>14397.070312</td>\n",
       "      <td>14448.059570</td>\n",
       "      <td>14373.320312</td>\n",
       "      <td>14447.290039</td>\n",
       "      <td>94880000</td>\n",
       "      <td>14447.290039</td>\n",
       "    </tr>\n",
       "    <tr>\n",
       "      <th>29</th>\n",
       "      <td>2016-05-20</td>\n",
       "      <td>17437.320312</td>\n",
       "      <td>17571.750000</td>\n",
       "      <td>17437.320312</td>\n",
       "      <td>17500.939453</td>\n",
       "      <td>111990000</td>\n",
       "      <td>17500.939453</td>\n",
       "    </tr>\n",
       "    <tr>\n",
       "      <th>594</th>\n",
       "      <td>2014-02-24</td>\n",
       "      <td>16102.269531</td>\n",
       "      <td>16300.040039</td>\n",
       "      <td>16102.269531</td>\n",
       "      <td>16207.139648</td>\n",
       "      <td>244580000</td>\n",
       "      <td>16207.139648</td>\n",
       "    </tr>\n",
       "    <tr>\n",
       "      <th>1298</th>\n",
       "      <td>2011-05-05</td>\n",
       "      <td>12723.650391</td>\n",
       "      <td>12724.559570</td>\n",
       "      <td>12521.280273</td>\n",
       "      <td>12584.169922</td>\n",
       "      <td>176950000</td>\n",
       "      <td>12584.169922</td>\n",
       "    </tr>\n",
       "  </tbody>\n",
       "</table>\n",
       "</div>"
      ],
      "text/plain": [
       "            Date          Open          High           Low         Close  \\\n",
       "917   2012-11-08  12932.809570  12980.230469  12811.240234  12811.320312   \n",
       "835   2013-03-11  14397.070312  14448.059570  14373.320312  14447.290039   \n",
       "29    2016-05-20  17437.320312  17571.750000  17437.320312  17500.939453   \n",
       "594   2014-02-24  16102.269531  16300.040039  16102.269531  16207.139648   \n",
       "1298  2011-05-05  12723.650391  12724.559570  12521.280273  12584.169922   \n",
       "\n",
       "         Volume     Adj Close  \n",
       "917   138350000  12811.320312  \n",
       "835    94880000  14447.290039  \n",
       "29    111990000  17500.939453  \n",
       "594   244580000  16207.139648  \n",
       "1298  176950000  12584.169922  "
      ]
     },
     "execution_count": 93,
     "metadata": {},
     "output_type": "execute_result"
    }
   ],
   "source": [
    "df_table.sample(frac=0.5).head()"
   ]
  },
  {
   "cell_type": "markdown",
   "metadata": {
    "_uuid": "f900885737988b1cb56df881fda6920eaa07381c"
   },
   "source": [
    "### **df.nlargest(n,'columnName')** <a id=\"51\"></a>\n",
    "This code brings N from the column where we have specified the largest data.\n",
    "\n",
    "<mark>[Return Contents](#0)\n",
    "<hr>"
   ]
  },
  {
   "cell_type": "code",
   "execution_count": 94,
   "metadata": {
    "_uuid": "2d61d5cb304bf17ef3ec00395152afece27eea42"
   },
   "outputs": [
    {
     "data": {
      "text/html": [
       "<div>\n",
       "<style scoped>\n",
       "    .dataframe tbody tr th:only-of-type {\n",
       "        vertical-align: middle;\n",
       "    }\n",
       "\n",
       "    .dataframe tbody tr th {\n",
       "        vertical-align: top;\n",
       "    }\n",
       "\n",
       "    .dataframe thead th {\n",
       "        text-align: right;\n",
       "    }\n",
       "</style>\n",
       "<table border=\"1\" class=\"dataframe\">\n",
       "  <thead>\n",
       "    <tr style=\"text-align: right;\">\n",
       "      <th></th>\n",
       "      <th>Date</th>\n",
       "      <th>Open</th>\n",
       "      <th>High</th>\n",
       "      <th>Low</th>\n",
       "      <th>Close</th>\n",
       "      <th>Volume</th>\n",
       "      <th>Adj Close</th>\n",
       "    </tr>\n",
       "  </thead>\n",
       "  <tbody>\n",
       "    <tr>\n",
       "      <th>282</th>\n",
       "      <td>2015-05-20</td>\n",
       "      <td>18315.060547</td>\n",
       "      <td>18350.130859</td>\n",
       "      <td>18272.560547</td>\n",
       "      <td>18285.400391</td>\n",
       "      <td>80190000</td>\n",
       "      <td>18285.400391</td>\n",
       "    </tr>\n",
       "    <tr>\n",
       "      <th>283</th>\n",
       "      <td>2015-05-19</td>\n",
       "      <td>18300.480469</td>\n",
       "      <td>18351.359375</td>\n",
       "      <td>18261.349609</td>\n",
       "      <td>18312.390625</td>\n",
       "      <td>87200000</td>\n",
       "      <td>18312.390625</td>\n",
       "    </tr>\n",
       "    <tr>\n",
       "      <th>280</th>\n",
       "      <td>2015-05-22</td>\n",
       "      <td>18286.869141</td>\n",
       "      <td>18286.869141</td>\n",
       "      <td>18217.140625</td>\n",
       "      <td>18232.019531</td>\n",
       "      <td>78890000</td>\n",
       "      <td>18232.019531</td>\n",
       "    </tr>\n",
       "    <tr>\n",
       "      <th>281</th>\n",
       "      <td>2015-05-21</td>\n",
       "      <td>18285.869141</td>\n",
       "      <td>18314.890625</td>\n",
       "      <td>18249.900391</td>\n",
       "      <td>18285.740234</td>\n",
       "      <td>84270000</td>\n",
       "      <td>18285.740234</td>\n",
       "    </tr>\n",
       "    <tr>\n",
       "      <th>337</th>\n",
       "      <td>2015-03-03</td>\n",
       "      <td>18281.949219</td>\n",
       "      <td>18281.949219</td>\n",
       "      <td>18136.880859</td>\n",
       "      <td>18203.369141</td>\n",
       "      <td>83830000</td>\n",
       "      <td>18203.369141</td>\n",
       "    </tr>\n",
       "  </tbody>\n",
       "</table>\n",
       "</div>"
      ],
      "text/plain": [
       "           Date          Open          High           Low         Close  \\\n",
       "282  2015-05-20  18315.060547  18350.130859  18272.560547  18285.400391   \n",
       "283  2015-05-19  18300.480469  18351.359375  18261.349609  18312.390625   \n",
       "280  2015-05-22  18286.869141  18286.869141  18217.140625  18232.019531   \n",
       "281  2015-05-21  18285.869141  18314.890625  18249.900391  18285.740234   \n",
       "337  2015-03-03  18281.949219  18281.949219  18136.880859  18203.369141   \n",
       "\n",
       "       Volume     Adj Close  \n",
       "282  80190000  18285.400391  \n",
       "283  87200000  18312.390625  \n",
       "280  78890000  18232.019531  \n",
       "281  84270000  18285.740234  \n",
       "337  83830000  18203.369141  "
      ]
     },
     "execution_count": 94,
     "metadata": {},
     "output_type": "execute_result"
    }
   ],
   "source": [
    "df_table.nlargest(5,'Open')"
   ]
  },
  {
   "cell_type": "markdown",
   "metadata": {
    "_uuid": "e925e067c524cabf599b4b4cc36c55332590a4b0"
   },
   "source": [
    "### **df.nsmallest(n,'columnName')** <a id=\"52\"></a>\n",
    "This code brings N from the column where we have specified the smallest data.\n",
    "\n",
    "<mark>[Return Contents](#0)\n",
    "<hr>"
   ]
  },
  {
   "cell_type": "code",
   "execution_count": 95,
   "metadata": {
    "_uuid": "1cb8e5e34abb9f9cbdc2963d9b8fdb0c0109c17d"
   },
   "outputs": [
    {
     "data": {
      "text/html": [
       "<div>\n",
       "<style scoped>\n",
       "    .dataframe tbody tr th:only-of-type {\n",
       "        vertical-align: middle;\n",
       "    }\n",
       "\n",
       "    .dataframe tbody tr th {\n",
       "        vertical-align: top;\n",
       "    }\n",
       "\n",
       "    .dataframe thead th {\n",
       "        text-align: right;\n",
       "    }\n",
       "</style>\n",
       "<table border=\"1\" class=\"dataframe\">\n",
       "  <thead>\n",
       "    <tr style=\"text-align: right;\">\n",
       "      <th></th>\n",
       "      <th>Date</th>\n",
       "      <th>Open</th>\n",
       "      <th>High</th>\n",
       "      <th>Low</th>\n",
       "      <th>Close</th>\n",
       "      <th>Volume</th>\n",
       "      <th>Adj Close</th>\n",
       "    </tr>\n",
       "  </thead>\n",
       "  <tbody>\n",
       "    <tr>\n",
       "      <th>1842</th>\n",
       "      <td>2009-03-10</td>\n",
       "      <td>6547.009766</td>\n",
       "      <td>6926.490234</td>\n",
       "      <td>6546.609863</td>\n",
       "      <td>6926.490234</td>\n",
       "      <td>640020000</td>\n",
       "      <td>6926.490234</td>\n",
       "    </tr>\n",
       "    <tr>\n",
       "      <th>1844</th>\n",
       "      <td>2009-03-06</td>\n",
       "      <td>6595.160156</td>\n",
       "      <td>6755.169922</td>\n",
       "      <td>6469.950195</td>\n",
       "      <td>6626.939941</td>\n",
       "      <td>425170000</td>\n",
       "      <td>6626.939941</td>\n",
       "    </tr>\n",
       "    <tr>\n",
       "      <th>1843</th>\n",
       "      <td>2009-03-09</td>\n",
       "      <td>6625.740234</td>\n",
       "      <td>6709.609863</td>\n",
       "      <td>6516.859863</td>\n",
       "      <td>6547.049805</td>\n",
       "      <td>365990000</td>\n",
       "      <td>6547.049805</td>\n",
       "    </tr>\n",
       "  </tbody>\n",
       "</table>\n",
       "</div>"
      ],
      "text/plain": [
       "            Date         Open         High          Low        Close  \\\n",
       "1842  2009-03-10  6547.009766  6926.490234  6546.609863  6926.490234   \n",
       "1844  2009-03-06  6595.160156  6755.169922  6469.950195  6626.939941   \n",
       "1843  2009-03-09  6625.740234  6709.609863  6516.859863  6547.049805   \n",
       "\n",
       "         Volume    Adj Close  \n",
       "1842  640020000  6926.490234  \n",
       "1844  425170000  6626.939941  \n",
       "1843  365990000  6547.049805  "
      ]
     },
     "execution_count": 95,
     "metadata": {},
     "output_type": "execute_result"
    }
   ],
   "source": [
    "df_table.nsmallest(3,'Open')"
   ]
  },
  {
   "cell_type": "markdown",
   "metadata": {
    "_uuid": "a51ee840ca8cd0400f2c4d95221158b25133d12f"
   },
   "source": [
    "### **df[df.columnName < 5]** <a id=\"53\"></a>\n",
    "This code returns the column name we have specified, which is less than 5.\n",
    "\n",
    "<mark>[Return Contents](#0)\n",
    "<hr>"
   ]
  },
  {
   "cell_type": "code",
   "execution_count": 96,
   "metadata": {
    "_uuid": "52be41ac78b67ca5c95a18199fa7f09f2d2efc4c"
   },
   "outputs": [
    {
     "data": {
      "text/html": [
       "<div>\n",
       "<style scoped>\n",
       "    .dataframe tbody tr th:only-of-type {\n",
       "        vertical-align: middle;\n",
       "    }\n",
       "\n",
       "    .dataframe tbody tr th {\n",
       "        vertical-align: top;\n",
       "    }\n",
       "\n",
       "    .dataframe thead th {\n",
       "        text-align: right;\n",
       "    }\n",
       "</style>\n",
       "<table border=\"1\" class=\"dataframe\">\n",
       "  <thead>\n",
       "    <tr style=\"text-align: right;\">\n",
       "      <th></th>\n",
       "      <th>Date</th>\n",
       "      <th>Open</th>\n",
       "      <th>High</th>\n",
       "      <th>Low</th>\n",
       "      <th>Close</th>\n",
       "      <th>Volume</th>\n",
       "      <th>Adj Close</th>\n",
       "    </tr>\n",
       "  </thead>\n",
       "  <tbody>\n",
       "    <tr>\n",
       "      <th>280</th>\n",
       "      <td>2015-05-22</td>\n",
       "      <td>18286.869141</td>\n",
       "      <td>18286.869141</td>\n",
       "      <td>18217.140625</td>\n",
       "      <td>18232.019531</td>\n",
       "      <td>78890000</td>\n",
       "      <td>18232.019531</td>\n",
       "    </tr>\n",
       "    <tr>\n",
       "      <th>281</th>\n",
       "      <td>2015-05-21</td>\n",
       "      <td>18285.869141</td>\n",
       "      <td>18314.890625</td>\n",
       "      <td>18249.900391</td>\n",
       "      <td>18285.740234</td>\n",
       "      <td>84270000</td>\n",
       "      <td>18285.740234</td>\n",
       "    </tr>\n",
       "    <tr>\n",
       "      <th>282</th>\n",
       "      <td>2015-05-20</td>\n",
       "      <td>18315.060547</td>\n",
       "      <td>18350.130859</td>\n",
       "      <td>18272.560547</td>\n",
       "      <td>18285.400391</td>\n",
       "      <td>80190000</td>\n",
       "      <td>18285.400391</td>\n",
       "    </tr>\n",
       "    <tr>\n",
       "      <th>283</th>\n",
       "      <td>2015-05-19</td>\n",
       "      <td>18300.480469</td>\n",
       "      <td>18351.359375</td>\n",
       "      <td>18261.349609</td>\n",
       "      <td>18312.390625</td>\n",
       "      <td>87200000</td>\n",
       "      <td>18312.390625</td>\n",
       "    </tr>\n",
       "  </tbody>\n",
       "</table>\n",
       "</div>"
      ],
      "text/plain": [
       "           Date          Open          High           Low         Close  \\\n",
       "280  2015-05-22  18286.869141  18286.869141  18217.140625  18232.019531   \n",
       "281  2015-05-21  18285.869141  18314.890625  18249.900391  18285.740234   \n",
       "282  2015-05-20  18315.060547  18350.130859  18272.560547  18285.400391   \n",
       "283  2015-05-19  18300.480469  18351.359375  18261.349609  18312.390625   \n",
       "\n",
       "       Volume     Adj Close  \n",
       "280  78890000  18232.019531  \n",
       "281  84270000  18285.740234  \n",
       "282  80190000  18285.400391  \n",
       "283  87200000  18312.390625  "
      ]
     },
     "execution_count": 96,
     "metadata": {},
     "output_type": "execute_result"
    }
   ],
   "source": [
    "df_table[df_table.Open > 18281.949219]"
   ]
  },
  {
   "cell_type": "markdown",
   "metadata": {
    "_uuid": "b0ff118b7df06756d55ce9196aa558325e214b23"
   },
   "source": [
    "### **df[['columnName','columnName']]** <a id=\"54\"></a>\n",
    "This code helps us pick and bring any columns we want.\n",
    "\n",
    "<mark>[Return Contents](#0)\n",
    "<hr>"
   ]
  },
  {
   "cell_type": "code",
   "execution_count": 97,
   "metadata": {
    "_uuid": "979f91158aaba4a2c287c70096c4f63f289da3e5"
   },
   "outputs": [
    {
     "data": {
      "text/html": [
       "<div>\n",
       "<style scoped>\n",
       "    .dataframe tbody tr th:only-of-type {\n",
       "        vertical-align: middle;\n",
       "    }\n",
       "\n",
       "    .dataframe tbody tr th {\n",
       "        vertical-align: top;\n",
       "    }\n",
       "\n",
       "    .dataframe thead th {\n",
       "        text-align: right;\n",
       "    }\n",
       "</style>\n",
       "<table border=\"1\" class=\"dataframe\">\n",
       "  <thead>\n",
       "    <tr style=\"text-align: right;\">\n",
       "      <th></th>\n",
       "      <th>High</th>\n",
       "      <th>Low</th>\n",
       "    </tr>\n",
       "  </thead>\n",
       "  <tbody>\n",
       "    <tr>\n",
       "      <th>0</th>\n",
       "      <td>18002.380859</td>\n",
       "      <td>17916.910156</td>\n",
       "    </tr>\n",
       "    <tr>\n",
       "      <th>1</th>\n",
       "      <td>17930.609375</td>\n",
       "      <td>17711.800781</td>\n",
       "    </tr>\n",
       "    <tr>\n",
       "      <th>2</th>\n",
       "      <td>17704.509766</td>\n",
       "      <td>17456.019531</td>\n",
       "    </tr>\n",
       "    <tr>\n",
       "      <th>3</th>\n",
       "      <td>17409.720703</td>\n",
       "      <td>17190.509766</td>\n",
       "    </tr>\n",
       "    <tr>\n",
       "      <th>4</th>\n",
       "      <td>17355.210938</td>\n",
       "      <td>17063.080078</td>\n",
       "    </tr>\n",
       "  </tbody>\n",
       "</table>\n",
       "</div>"
      ],
      "text/plain": [
       "           High           Low\n",
       "0  18002.380859  17916.910156\n",
       "1  17930.609375  17711.800781\n",
       "2  17704.509766  17456.019531\n",
       "3  17409.720703  17190.509766\n",
       "4  17355.210938  17063.080078"
      ]
     },
     "execution_count": 97,
     "metadata": {},
     "output_type": "execute_result"
    }
   ],
   "source": [
    "df_table[['High','Low']].head()\n",
    "# df.loc[:,[\"High\",\"Low\"]]"
   ]
  },
  {
   "cell_type": "markdown",
   "metadata": {
    "_uuid": "33045814a6e5e2735bedffbfe5c69184e7e2a68a"
   },
   "source": [
    "### **df.loc[:,\"columnName1\":\"columnName2\"]** <a id=\"55\"></a>\n",
    "This code returns columns from columnname1 to columnname2.\n",
    "\n",
    "<mark>[Return Contents](#0)\n",
    "<hr>"
   ]
  },
  {
   "cell_type": "code",
   "execution_count": 102,
   "metadata": {
    "_uuid": "3fef8f90c9972582f593a0af3dae462146bc871d"
   },
   "outputs": [
    {
     "data": {
      "text/html": [
       "<div>\n",
       "<style scoped>\n",
       "    .dataframe tbody tr th:only-of-type {\n",
       "        vertical-align: middle;\n",
       "    }\n",
       "\n",
       "    .dataframe tbody tr th {\n",
       "        vertical-align: top;\n",
       "    }\n",
       "\n",
       "    .dataframe thead th {\n",
       "        text-align: right;\n",
       "    }\n",
       "</style>\n",
       "<table border=\"1\" class=\"dataframe\">\n",
       "  <thead>\n",
       "    <tr style=\"text-align: right;\">\n",
       "      <th></th>\n",
       "      <th>Date</th>\n",
       "      <th>Open</th>\n",
       "      <th>High</th>\n",
       "      <th>Low</th>\n",
       "      <th>Close</th>\n",
       "    </tr>\n",
       "  </thead>\n",
       "  <tbody>\n",
       "    <tr>\n",
       "      <th>2</th>\n",
       "      <td>2016-06-29</td>\n",
       "      <td>17456.019531</td>\n",
       "      <td>17704.509766</td>\n",
       "      <td>17456.019531</td>\n",
       "      <td>17694.679688</td>\n",
       "    </tr>\n",
       "    <tr>\n",
       "      <th>3</th>\n",
       "      <td>2016-06-28</td>\n",
       "      <td>17190.509766</td>\n",
       "      <td>17409.720703</td>\n",
       "      <td>17190.509766</td>\n",
       "      <td>17409.720703</td>\n",
       "    </tr>\n",
       "  </tbody>\n",
       "</table>\n",
       "</div>"
      ],
      "text/plain": [
       "         Date          Open          High           Low         Close\n",
       "2  2016-06-29  17456.019531  17704.509766  17456.019531  17694.679688\n",
       "3  2016-06-28  17190.509766  17409.720703  17190.509766  17409.720703"
      ]
     },
     "execution_count": 102,
     "metadata": {},
     "output_type": "execute_result"
    }
   ],
   "source": [
    "df_table.loc[2:3,\"Date\":\"Close\"].head()\n",
    "# OR\n",
    "# data.loc[:3,\"Date\":\"Close\"]"
   ]
  },
  {
   "cell_type": "markdown",
   "metadata": {
    "_uuid": "09d20f2795a29736a8a444f1f7bd1bdf3bb607d0"
   },
   "source": [
    "### **Create Filter** <a id=\"56\"></a>\n",
    "<mark>[Return Contents](#0)\n",
    "<hr>"
   ]
  },
  {
   "cell_type": "code",
   "execution_count": 103,
   "metadata": {
    "_uuid": "920f513014e6ef5a46f13a71c24a0114e3fb9c44"
   },
   "outputs": [
    {
     "data": {
      "text/html": [
       "<div>\n",
       "<style scoped>\n",
       "    .dataframe tbody tr th:only-of-type {\n",
       "        vertical-align: middle;\n",
       "    }\n",
       "\n",
       "    .dataframe tbody tr th {\n",
       "        vertical-align: top;\n",
       "    }\n",
       "\n",
       "    .dataframe thead th {\n",
       "        text-align: right;\n",
       "    }\n",
       "</style>\n",
       "<table border=\"1\" class=\"dataframe\">\n",
       "  <thead>\n",
       "    <tr style=\"text-align: right;\">\n",
       "      <th></th>\n",
       "      <th>Date</th>\n",
       "      <th>Open</th>\n",
       "      <th>High</th>\n",
       "      <th>Low</th>\n",
       "      <th>Close</th>\n",
       "      <th>Volume</th>\n",
       "      <th>Adj Close</th>\n",
       "    </tr>\n",
       "  </thead>\n",
       "  <tbody>\n",
       "    <tr>\n",
       "      <th>0</th>\n",
       "      <td>2016-07-01</td>\n",
       "      <td>17924.240234</td>\n",
       "      <td>18002.380859</td>\n",
       "      <td>17916.910156</td>\n",
       "      <td>17949.369141</td>\n",
       "      <td>82160000</td>\n",
       "      <td>17949.369141</td>\n",
       "    </tr>\n",
       "    <tr>\n",
       "      <th>1</th>\n",
       "      <td>2016-06-30</td>\n",
       "      <td>17712.759766</td>\n",
       "      <td>17930.609375</td>\n",
       "      <td>17711.800781</td>\n",
       "      <td>17929.990234</td>\n",
       "      <td>133030000</td>\n",
       "      <td>17929.990234</td>\n",
       "    </tr>\n",
       "    <tr>\n",
       "      <th>2</th>\n",
       "      <td>2016-06-29</td>\n",
       "      <td>17456.019531</td>\n",
       "      <td>17704.509766</td>\n",
       "      <td>17456.019531</td>\n",
       "      <td>17694.679688</td>\n",
       "      <td>106380000</td>\n",
       "      <td>17694.679688</td>\n",
       "    </tr>\n",
       "    <tr>\n",
       "      <th>3</th>\n",
       "      <td>2016-06-28</td>\n",
       "      <td>17190.509766</td>\n",
       "      <td>17409.720703</td>\n",
       "      <td>17190.509766</td>\n",
       "      <td>17409.720703</td>\n",
       "      <td>112190000</td>\n",
       "      <td>17409.720703</td>\n",
       "    </tr>\n",
       "  </tbody>\n",
       "</table>\n",
       "</div>"
      ],
      "text/plain": [
       "         Date          Open          High           Low         Close  \\\n",
       "0  2016-07-01  17924.240234  18002.380859  17916.910156  17949.369141   \n",
       "1  2016-06-30  17712.759766  17930.609375  17711.800781  17929.990234   \n",
       "2  2016-06-29  17456.019531  17704.509766  17456.019531  17694.679688   \n",
       "3  2016-06-28  17190.509766  17409.720703  17190.509766  17409.720703   \n",
       "\n",
       "      Volume     Adj Close  \n",
       "0   82160000  17949.369141  \n",
       "1  133030000  17929.990234  \n",
       "2  106380000  17694.679688  \n",
       "3  112190000  17409.720703  "
      ]
     },
     "execution_count": 103,
     "metadata": {},
     "output_type": "execute_result"
    }
   ],
   "source": [
    "filters = df_table.Date > '2016-06-27'\n",
    "df_table[filters]"
   ]
  },
  {
   "cell_type": "markdown",
   "metadata": {
    "_uuid": "efa55b8fad561c2fa5b23cf16ada80388ffb1d89"
   },
   "source": [
    "### **df.filter(regex = 'code')** <a id=\"57\"></a>\n",
    "This code allows regex to filter any data we want.\n",
    "\n",
    "<mark>[Return Contents](#0)\n",
    "<hr>"
   ]
  },
  {
   "cell_type": "code",
   "execution_count": 104,
   "metadata": {
    "_uuid": "391f736af8220b16ffe4dd371e7d1701b22af190"
   },
   "outputs": [
    {
     "data": {
      "text/html": [
       "<div>\n",
       "<style scoped>\n",
       "    .dataframe tbody tr th:only-of-type {\n",
       "        vertical-align: middle;\n",
       "    }\n",
       "\n",
       "    .dataframe tbody tr th {\n",
       "        vertical-align: top;\n",
       "    }\n",
       "\n",
       "    .dataframe thead th {\n",
       "        text-align: right;\n",
       "    }\n",
       "</style>\n",
       "<table border=\"1\" class=\"dataframe\">\n",
       "  <thead>\n",
       "    <tr style=\"text-align: right;\">\n",
       "      <th></th>\n",
       "      <th>Low</th>\n",
       "    </tr>\n",
       "  </thead>\n",
       "  <tbody>\n",
       "    <tr>\n",
       "      <th>0</th>\n",
       "      <td>17916.910156</td>\n",
       "    </tr>\n",
       "    <tr>\n",
       "      <th>1</th>\n",
       "      <td>17711.800781</td>\n",
       "    </tr>\n",
       "    <tr>\n",
       "      <th>2</th>\n",
       "      <td>17456.019531</td>\n",
       "    </tr>\n",
       "    <tr>\n",
       "      <th>3</th>\n",
       "      <td>17190.509766</td>\n",
       "    </tr>\n",
       "    <tr>\n",
       "      <th>4</th>\n",
       "      <td>17063.080078</td>\n",
       "    </tr>\n",
       "  </tbody>\n",
       "</table>\n",
       "</div>"
      ],
      "text/plain": [
       "            Low\n",
       "0  17916.910156\n",
       "1  17711.800781\n",
       "2  17456.019531\n",
       "3  17190.509766\n",
       "4  17063.080078"
      ]
     },
     "execution_count": 104,
     "metadata": {},
     "output_type": "execute_result"
    }
   ],
   "source": [
    "df_table.filter(regex='^L').head()"
   ]
  },
  {
   "cell_type": "markdown",
   "metadata": {
    "_uuid": "98565ee61d70ee8c2684209457d341afd009cd52"
   },
   "source": [
    "### **np.logical_and** <a id=\"58\"></a>\n",
    "Filtering with logical_and. Lets look at the example.\n",
    "\n",
    "<mark>[Return Contents](#0)\n",
    "<hr>"
   ]
  },
  {
   "cell_type": "code",
   "execution_count": 106,
   "metadata": {
    "_uuid": "502a7a68ee0e0901db77c9ef66b2b41946936396"
   },
   "outputs": [
    {
     "data": {
      "text/html": [
       "<div>\n",
       "<style scoped>\n",
       "    .dataframe tbody tr th:only-of-type {\n",
       "        vertical-align: middle;\n",
       "    }\n",
       "\n",
       "    .dataframe tbody tr th {\n",
       "        vertical-align: top;\n",
       "    }\n",
       "\n",
       "    .dataframe thead th {\n",
       "        text-align: right;\n",
       "    }\n",
       "</style>\n",
       "<table border=\"1\" class=\"dataframe\">\n",
       "  <thead>\n",
       "    <tr style=\"text-align: right;\">\n",
       "      <th></th>\n",
       "      <th>Date</th>\n",
       "      <th>Open</th>\n",
       "      <th>High</th>\n",
       "      <th>Low</th>\n",
       "      <th>Close</th>\n",
       "      <th>Volume</th>\n",
       "      <th>Adj Close</th>\n",
       "    </tr>\n",
       "  </thead>\n",
       "  <tbody>\n",
       "    <tr>\n",
       "      <th>280</th>\n",
       "      <td>2015-05-22</td>\n",
       "      <td>18286.869141</td>\n",
       "      <td>18286.869141</td>\n",
       "      <td>18217.140625</td>\n",
       "      <td>18232.019531</td>\n",
       "      <td>78890000</td>\n",
       "      <td>18232.019531</td>\n",
       "    </tr>\n",
       "    <tr>\n",
       "      <th>281</th>\n",
       "      <td>2015-05-21</td>\n",
       "      <td>18285.869141</td>\n",
       "      <td>18314.890625</td>\n",
       "      <td>18249.900391</td>\n",
       "      <td>18285.740234</td>\n",
       "      <td>84270000</td>\n",
       "      <td>18285.740234</td>\n",
       "    </tr>\n",
       "  </tbody>\n",
       "</table>\n",
       "</div>"
      ],
      "text/plain": [
       "           Date          Open          High           Low         Close  \\\n",
       "280  2015-05-22  18286.869141  18286.869141  18217.140625  18232.019531   \n",
       "281  2015-05-21  18285.869141  18314.890625  18249.900391  18285.740234   \n",
       "\n",
       "       Volume     Adj Close  \n",
       "280  78890000  18232.019531  \n",
       "281  84270000  18285.740234  "
      ]
     },
     "execution_count": 106,
     "metadata": {},
     "output_type": "execute_result"
    }
   ],
   "source": [
    "df_table[np.logical_and(df_table['Open']>18281.949219, df_table['Date']>'2015-05-20' )]"
   ]
  },
  {
   "cell_type": "markdown",
   "metadata": {
    "_uuid": "be8cc807047dd7037f0013d573c58573649c3097"
   },
   "source": [
    "### **Filtering with &** <a id=\"59\"></a>\n",
    "<mark>[Return Contents](#0)\n",
    "<hr>"
   ]
  },
  {
   "cell_type": "code",
   "execution_count": 107,
   "metadata": {
    "_uuid": "48930d97ce2d7aebf9fc44d41ef9a21b21ece804"
   },
   "outputs": [
    {
     "data": {
      "text/html": [
       "<div>\n",
       "<style scoped>\n",
       "    .dataframe tbody tr th:only-of-type {\n",
       "        vertical-align: middle;\n",
       "    }\n",
       "\n",
       "    .dataframe tbody tr th {\n",
       "        vertical-align: top;\n",
       "    }\n",
       "\n",
       "    .dataframe thead th {\n",
       "        text-align: right;\n",
       "    }\n",
       "</style>\n",
       "<table border=\"1\" class=\"dataframe\">\n",
       "  <thead>\n",
       "    <tr style=\"text-align: right;\">\n",
       "      <th></th>\n",
       "      <th>Date</th>\n",
       "      <th>Open</th>\n",
       "      <th>High</th>\n",
       "      <th>Low</th>\n",
       "      <th>Close</th>\n",
       "      <th>Volume</th>\n",
       "      <th>Adj Close</th>\n",
       "    </tr>\n",
       "  </thead>\n",
       "  <tbody>\n",
       "    <tr>\n",
       "      <th>280</th>\n",
       "      <td>2015-05-22</td>\n",
       "      <td>18286.869141</td>\n",
       "      <td>18286.869141</td>\n",
       "      <td>18217.140625</td>\n",
       "      <td>18232.019531</td>\n",
       "      <td>78890000</td>\n",
       "      <td>18232.019531</td>\n",
       "    </tr>\n",
       "    <tr>\n",
       "      <th>281</th>\n",
       "      <td>2015-05-21</td>\n",
       "      <td>18285.869141</td>\n",
       "      <td>18314.890625</td>\n",
       "      <td>18249.900391</td>\n",
       "      <td>18285.740234</td>\n",
       "      <td>84270000</td>\n",
       "      <td>18285.740234</td>\n",
       "    </tr>\n",
       "  </tbody>\n",
       "</table>\n",
       "</div>"
      ],
      "text/plain": [
       "           Date          Open          High           Low         Close  \\\n",
       "280  2015-05-22  18286.869141  18286.869141  18217.140625  18232.019531   \n",
       "281  2015-05-21  18285.869141  18314.890625  18249.900391  18285.740234   \n",
       "\n",
       "       Volume     Adj Close  \n",
       "280  78890000  18232.019531  \n",
       "281  84270000  18285.740234  "
      ]
     },
     "execution_count": 107,
     "metadata": {},
     "output_type": "execute_result"
    }
   ],
   "source": [
    "df_table[(df_table['Open']>18281.949219) & (df_table['Date']>'2015-05-20')]"
   ]
  },
  {
   "cell_type": "markdown",
   "metadata": {
    "_uuid": "9bb0b4f8e2b1b4e5c4d1d54404078201fe64b774"
   },
   "source": [
    "# **Sort Data** <a id=\"60\"></a>\n",
    "\n",
    "<mark>[Return Contents](#0)\n",
    "<hr>\n",
    "\n",
    "### **df.sort_values('columnName')** <a id=\"61\"></a>\n",
    "This code sorts the column we specify in the form of low to high."
   ]
  },
  {
   "cell_type": "code",
   "execution_count": 108,
   "metadata": {
    "_uuid": "f15141d1d55decedc9682157f4f02be6ece75be2"
   },
   "outputs": [
    {
     "data": {
      "text/html": [
       "<div>\n",
       "<style scoped>\n",
       "    .dataframe tbody tr th:only-of-type {\n",
       "        vertical-align: middle;\n",
       "    }\n",
       "\n",
       "    .dataframe tbody tr th {\n",
       "        vertical-align: top;\n",
       "    }\n",
       "\n",
       "    .dataframe thead th {\n",
       "        text-align: right;\n",
       "    }\n",
       "</style>\n",
       "<table border=\"1\" class=\"dataframe\">\n",
       "  <thead>\n",
       "    <tr style=\"text-align: right;\">\n",
       "      <th></th>\n",
       "      <th>Date</th>\n",
       "      <th>Open</th>\n",
       "      <th>High</th>\n",
       "      <th>Low</th>\n",
       "      <th>Close</th>\n",
       "      <th>Volume</th>\n",
       "      <th>Adj Close</th>\n",
       "    </tr>\n",
       "  </thead>\n",
       "  <tbody>\n",
       "    <tr>\n",
       "      <th>1842</th>\n",
       "      <td>2009-03-10</td>\n",
       "      <td>6547.009766</td>\n",
       "      <td>6926.490234</td>\n",
       "      <td>6546.609863</td>\n",
       "      <td>6926.490234</td>\n",
       "      <td>640020000</td>\n",
       "      <td>6926.490234</td>\n",
       "    </tr>\n",
       "    <tr>\n",
       "      <th>1844</th>\n",
       "      <td>2009-03-06</td>\n",
       "      <td>6595.160156</td>\n",
       "      <td>6755.169922</td>\n",
       "      <td>6469.950195</td>\n",
       "      <td>6626.939941</td>\n",
       "      <td>425170000</td>\n",
       "      <td>6626.939941</td>\n",
       "    </tr>\n",
       "    <tr>\n",
       "      <th>1843</th>\n",
       "      <td>2009-03-09</td>\n",
       "      <td>6625.740234</td>\n",
       "      <td>6709.609863</td>\n",
       "      <td>6516.859863</td>\n",
       "      <td>6547.049805</td>\n",
       "      <td>365990000</td>\n",
       "      <td>6547.049805</td>\n",
       "    </tr>\n",
       "    <tr>\n",
       "      <th>1846</th>\n",
       "      <td>2009-03-04</td>\n",
       "      <td>6726.500000</td>\n",
       "      <td>6979.220215</td>\n",
       "      <td>6726.419922</td>\n",
       "      <td>6875.839844</td>\n",
       "      <td>464830000</td>\n",
       "      <td>6875.839844</td>\n",
       "    </tr>\n",
       "    <tr>\n",
       "      <th>1847</th>\n",
       "      <td>2009-03-03</td>\n",
       "      <td>6764.810059</td>\n",
       "      <td>6855.290039</td>\n",
       "      <td>6705.629883</td>\n",
       "      <td>6726.020020</td>\n",
       "      <td>445280000</td>\n",
       "      <td>6726.020020</td>\n",
       "    </tr>\n",
       "  </tbody>\n",
       "</table>\n",
       "</div>"
      ],
      "text/plain": [
       "            Date         Open         High          Low        Close  \\\n",
       "1842  2009-03-10  6547.009766  6926.490234  6546.609863  6926.490234   \n",
       "1844  2009-03-06  6595.160156  6755.169922  6469.950195  6626.939941   \n",
       "1843  2009-03-09  6625.740234  6709.609863  6516.859863  6547.049805   \n",
       "1846  2009-03-04  6726.500000  6979.220215  6726.419922  6875.839844   \n",
       "1847  2009-03-03  6764.810059  6855.290039  6705.629883  6726.020020   \n",
       "\n",
       "         Volume    Adj Close  \n",
       "1842  640020000  6926.490234  \n",
       "1844  425170000  6626.939941  \n",
       "1843  365990000  6547.049805  \n",
       "1846  464830000  6875.839844  \n",
       "1847  445280000  6726.020020  "
      ]
     },
     "execution_count": 108,
     "metadata": {},
     "output_type": "execute_result"
    }
   ],
   "source": [
    "df_table.sort_values('Open').head()"
   ]
  },
  {
   "cell_type": "markdown",
   "metadata": {
    "_uuid": "8816e0ceab950045905c67d7782733690001908c"
   },
   "source": [
    "### **df.sort_values('columnName', ascending=False)** <a id=\"62\"></a>\n",
    "This code is the column we specify in the form of high to low.\n",
    "\n",
    "<mark>[Return Contents](#0)\n",
    "<hr>"
   ]
  },
  {
   "cell_type": "code",
   "execution_count": 109,
   "metadata": {
    "_uuid": "13f2b3ac2b4c80f75acdcbdfa08fbcd5c61fd710"
   },
   "outputs": [
    {
     "data": {
      "text/html": [
       "<div>\n",
       "<style scoped>\n",
       "    .dataframe tbody tr th:only-of-type {\n",
       "        vertical-align: middle;\n",
       "    }\n",
       "\n",
       "    .dataframe tbody tr th {\n",
       "        vertical-align: top;\n",
       "    }\n",
       "\n",
       "    .dataframe thead th {\n",
       "        text-align: right;\n",
       "    }\n",
       "</style>\n",
       "<table border=\"1\" class=\"dataframe\">\n",
       "  <thead>\n",
       "    <tr style=\"text-align: right;\">\n",
       "      <th></th>\n",
       "      <th>Date</th>\n",
       "      <th>Open</th>\n",
       "      <th>High</th>\n",
       "      <th>Low</th>\n",
       "      <th>Close</th>\n",
       "      <th>Volume</th>\n",
       "      <th>Adj Close</th>\n",
       "    </tr>\n",
       "  </thead>\n",
       "  <tbody>\n",
       "    <tr>\n",
       "      <th>0</th>\n",
       "      <td>2016-07-01</td>\n",
       "      <td>17924.240234</td>\n",
       "      <td>18002.380859</td>\n",
       "      <td>17916.910156</td>\n",
       "      <td>17949.369141</td>\n",
       "      <td>82160000</td>\n",
       "      <td>17949.369141</td>\n",
       "    </tr>\n",
       "    <tr>\n",
       "      <th>1</th>\n",
       "      <td>2016-06-30</td>\n",
       "      <td>17712.759766</td>\n",
       "      <td>17930.609375</td>\n",
       "      <td>17711.800781</td>\n",
       "      <td>17929.990234</td>\n",
       "      <td>133030000</td>\n",
       "      <td>17929.990234</td>\n",
       "    </tr>\n",
       "    <tr>\n",
       "      <th>2</th>\n",
       "      <td>2016-06-29</td>\n",
       "      <td>17456.019531</td>\n",
       "      <td>17704.509766</td>\n",
       "      <td>17456.019531</td>\n",
       "      <td>17694.679688</td>\n",
       "      <td>106380000</td>\n",
       "      <td>17694.679688</td>\n",
       "    </tr>\n",
       "    <tr>\n",
       "      <th>3</th>\n",
       "      <td>2016-06-28</td>\n",
       "      <td>17190.509766</td>\n",
       "      <td>17409.720703</td>\n",
       "      <td>17190.509766</td>\n",
       "      <td>17409.720703</td>\n",
       "      <td>112190000</td>\n",
       "      <td>17409.720703</td>\n",
       "    </tr>\n",
       "    <tr>\n",
       "      <th>4</th>\n",
       "      <td>2016-06-27</td>\n",
       "      <td>17355.210938</td>\n",
       "      <td>17355.210938</td>\n",
       "      <td>17063.080078</td>\n",
       "      <td>17140.240234</td>\n",
       "      <td>138740000</td>\n",
       "      <td>17140.240234</td>\n",
       "    </tr>\n",
       "  </tbody>\n",
       "</table>\n",
       "</div>"
      ],
      "text/plain": [
       "         Date          Open          High           Low         Close  \\\n",
       "0  2016-07-01  17924.240234  18002.380859  17916.910156  17949.369141   \n",
       "1  2016-06-30  17712.759766  17930.609375  17711.800781  17929.990234   \n",
       "2  2016-06-29  17456.019531  17704.509766  17456.019531  17694.679688   \n",
       "3  2016-06-28  17190.509766  17409.720703  17190.509766  17409.720703   \n",
       "4  2016-06-27  17355.210938  17355.210938  17063.080078  17140.240234   \n",
       "\n",
       "      Volume     Adj Close  \n",
       "0   82160000  17949.369141  \n",
       "1  133030000  17929.990234  \n",
       "2  106380000  17694.679688  \n",
       "3  112190000  17409.720703  \n",
       "4  138740000  17140.240234  "
      ]
     },
     "execution_count": 109,
     "metadata": {},
     "output_type": "execute_result"
    }
   ],
   "source": [
    "df_table.sort_values('Date', ascending=False).head()"
   ]
  },
  {
   "cell_type": "markdown",
   "metadata": {
    "_uuid": "8cba417bec9ee6ac67ed1e37c2132842e4cfefb9"
   },
   "source": [
    "### **df.sort_index()** <a id=\"63\"></a>\n",
    "This code sorts from small to large according to the DataFrame index.\n",
    "\n",
    "<mark>[Return Contents](#0)\n",
    "<hr>"
   ]
  },
  {
   "cell_type": "code",
   "execution_count": 110,
   "metadata": {
    "_uuid": "0317290f54888b03bf983a84382c6f78494a2a25"
   },
   "outputs": [
    {
     "data": {
      "text/html": [
       "<div>\n",
       "<style scoped>\n",
       "    .dataframe tbody tr th:only-of-type {\n",
       "        vertical-align: middle;\n",
       "    }\n",
       "\n",
       "    .dataframe tbody tr th {\n",
       "        vertical-align: top;\n",
       "    }\n",
       "\n",
       "    .dataframe thead th {\n",
       "        text-align: right;\n",
       "    }\n",
       "</style>\n",
       "<table border=\"1\" class=\"dataframe\">\n",
       "  <thead>\n",
       "    <tr style=\"text-align: right;\">\n",
       "      <th></th>\n",
       "      <th>Date</th>\n",
       "      <th>Open</th>\n",
       "      <th>High</th>\n",
       "      <th>Low</th>\n",
       "      <th>Close</th>\n",
       "      <th>Volume</th>\n",
       "      <th>Adj Close</th>\n",
       "    </tr>\n",
       "  </thead>\n",
       "  <tbody>\n",
       "    <tr>\n",
       "      <th>0</th>\n",
       "      <td>2016-07-01</td>\n",
       "      <td>17924.240234</td>\n",
       "      <td>18002.380859</td>\n",
       "      <td>17916.910156</td>\n",
       "      <td>17949.369141</td>\n",
       "      <td>82160000</td>\n",
       "      <td>17949.369141</td>\n",
       "    </tr>\n",
       "    <tr>\n",
       "      <th>1</th>\n",
       "      <td>2016-06-30</td>\n",
       "      <td>17712.759766</td>\n",
       "      <td>17930.609375</td>\n",
       "      <td>17711.800781</td>\n",
       "      <td>17929.990234</td>\n",
       "      <td>133030000</td>\n",
       "      <td>17929.990234</td>\n",
       "    </tr>\n",
       "    <tr>\n",
       "      <th>2</th>\n",
       "      <td>2016-06-29</td>\n",
       "      <td>17456.019531</td>\n",
       "      <td>17704.509766</td>\n",
       "      <td>17456.019531</td>\n",
       "      <td>17694.679688</td>\n",
       "      <td>106380000</td>\n",
       "      <td>17694.679688</td>\n",
       "    </tr>\n",
       "    <tr>\n",
       "      <th>3</th>\n",
       "      <td>2016-06-28</td>\n",
       "      <td>17190.509766</td>\n",
       "      <td>17409.720703</td>\n",
       "      <td>17190.509766</td>\n",
       "      <td>17409.720703</td>\n",
       "      <td>112190000</td>\n",
       "      <td>17409.720703</td>\n",
       "    </tr>\n",
       "    <tr>\n",
       "      <th>4</th>\n",
       "      <td>2016-06-27</td>\n",
       "      <td>17355.210938</td>\n",
       "      <td>17355.210938</td>\n",
       "      <td>17063.080078</td>\n",
       "      <td>17140.240234</td>\n",
       "      <td>138740000</td>\n",
       "      <td>17140.240234</td>\n",
       "    </tr>\n",
       "  </tbody>\n",
       "</table>\n",
       "</div>"
      ],
      "text/plain": [
       "         Date          Open          High           Low         Close  \\\n",
       "0  2016-07-01  17924.240234  18002.380859  17916.910156  17949.369141   \n",
       "1  2016-06-30  17712.759766  17930.609375  17711.800781  17929.990234   \n",
       "2  2016-06-29  17456.019531  17704.509766  17456.019531  17694.679688   \n",
       "3  2016-06-28  17190.509766  17409.720703  17190.509766  17409.720703   \n",
       "4  2016-06-27  17355.210938  17355.210938  17063.080078  17140.240234   \n",
       "\n",
       "      Volume     Adj Close  \n",
       "0   82160000  17949.369141  \n",
       "1  133030000  17929.990234  \n",
       "2  106380000  17694.679688  \n",
       "3  112190000  17409.720703  \n",
       "4  138740000  17140.240234  "
      ]
     },
     "execution_count": 110,
     "metadata": {},
     "output_type": "execute_result"
    }
   ],
   "source": [
    "df_table.sort_index().head()"
   ]
  },
  {
   "cell_type": "markdown",
   "metadata": {
    "_uuid": "1e10d8a4929a0bd2587d0826dc863d35784bcd68"
   },
   "source": [
    "# **Rename & Defining New & Change Columns** <a id=\"64\"></a>\n",
    "<mark>[Return Contents](#0)\n",
    "<hr>"
   ]
  },
  {
   "cell_type": "markdown",
   "metadata": {
    "_uuid": "e6d2f6146eee2aec07942640be832e6f465f8b13"
   },
   "source": [
    "### **df.rename(columns= {'columnName' : 'newColumnName'})** <a id=\"65\"></a>\n",
    "This code helps us change the column name. The code I wrote below changes the ID value, but as we did not assign the change to the variable DF, it seems to be unchanged as you see below."
   ]
  },
  {
   "cell_type": "code",
   "execution_count": 111,
   "metadata": {
    "_uuid": "f9629a7d893e2d06b28cd894755960b330abc5f1"
   },
   "outputs": [
    {
     "data": {
      "text/html": [
       "<div>\n",
       "<style scoped>\n",
       "    .dataframe tbody tr th:only-of-type {\n",
       "        vertical-align: middle;\n",
       "    }\n",
       "\n",
       "    .dataframe tbody tr th {\n",
       "        vertical-align: top;\n",
       "    }\n",
       "\n",
       "    .dataframe thead th {\n",
       "        text-align: right;\n",
       "    }\n",
       "</style>\n",
       "<table border=\"1\" class=\"dataframe\">\n",
       "  <thead>\n",
       "    <tr style=\"text-align: right;\">\n",
       "      <th></th>\n",
       "      <th>Date</th>\n",
       "      <th>Open</th>\n",
       "      <th>High</th>\n",
       "      <th>Low</th>\n",
       "      <th>Close</th>\n",
       "      <th>Volume</th>\n",
       "      <th>Adjclose</th>\n",
       "    </tr>\n",
       "  </thead>\n",
       "  <tbody>\n",
       "    <tr>\n",
       "      <th>0</th>\n",
       "      <td>2016-07-01</td>\n",
       "      <td>17924.240234</td>\n",
       "      <td>18002.380859</td>\n",
       "      <td>17916.910156</td>\n",
       "      <td>17949.369141</td>\n",
       "      <td>82160000</td>\n",
       "      <td>17949.369141</td>\n",
       "    </tr>\n",
       "    <tr>\n",
       "      <th>1</th>\n",
       "      <td>2016-06-30</td>\n",
       "      <td>17712.759766</td>\n",
       "      <td>17930.609375</td>\n",
       "      <td>17711.800781</td>\n",
       "      <td>17929.990234</td>\n",
       "      <td>133030000</td>\n",
       "      <td>17929.990234</td>\n",
       "    </tr>\n",
       "    <tr>\n",
       "      <th>2</th>\n",
       "      <td>2016-06-29</td>\n",
       "      <td>17456.019531</td>\n",
       "      <td>17704.509766</td>\n",
       "      <td>17456.019531</td>\n",
       "      <td>17694.679688</td>\n",
       "      <td>106380000</td>\n",
       "      <td>17694.679688</td>\n",
       "    </tr>\n",
       "    <tr>\n",
       "      <th>3</th>\n",
       "      <td>2016-06-28</td>\n",
       "      <td>17190.509766</td>\n",
       "      <td>17409.720703</td>\n",
       "      <td>17190.509766</td>\n",
       "      <td>17409.720703</td>\n",
       "      <td>112190000</td>\n",
       "      <td>17409.720703</td>\n",
       "    </tr>\n",
       "    <tr>\n",
       "      <th>4</th>\n",
       "      <td>2016-06-27</td>\n",
       "      <td>17355.210938</td>\n",
       "      <td>17355.210938</td>\n",
       "      <td>17063.080078</td>\n",
       "      <td>17140.240234</td>\n",
       "      <td>138740000</td>\n",
       "      <td>17140.240234</td>\n",
       "    </tr>\n",
       "  </tbody>\n",
       "</table>\n",
       "</div>"
      ],
      "text/plain": [
       "         Date          Open          High           Low         Close  \\\n",
       "0  2016-07-01  17924.240234  18002.380859  17916.910156  17949.369141   \n",
       "1  2016-06-30  17712.759766  17930.609375  17711.800781  17929.990234   \n",
       "2  2016-06-29  17456.019531  17704.509766  17456.019531  17694.679688   \n",
       "3  2016-06-28  17190.509766  17409.720703  17190.509766  17409.720703   \n",
       "4  2016-06-27  17355.210938  17355.210938  17063.080078  17140.240234   \n",
       "\n",
       "      Volume      Adjclose  \n",
       "0   82160000  17949.369141  \n",
       "1  133030000  17929.990234  \n",
       "2  106380000  17694.679688  \n",
       "3  112190000  17409.720703  \n",
       "4  138740000  17140.240234  "
      ]
     },
     "execution_count": 111,
     "metadata": {},
     "output_type": "execute_result"
    }
   ],
   "source": [
    "df_table.rename(columns= {'Adj Close' : 'Adjclose'}).head()\n",
    "# df = df.rename(columns= {'Id' : 'Identif'}, inplace=True) -> True way\n",
    "# inplace= True or False; This meaning, overwrite the data set.\n",
    "# Other Way\n",
    "# df.columns = ['date', 'open', 'high', 'low', 'close', 'volume', 'adjclose']"
   ]
  },
  {
   "cell_type": "markdown",
   "metadata": {
    "_uuid": "589a1f14eb9a14430b16fe7bdbb7f8f75739a672"
   },
   "source": [
    "###  **Defining New Column** <a id=\"66\"></a>\n",
    "Create a new column\n",
    "\n",
    "<mark>[Return Contents](#0)\n",
    "<hr>"
   ]
  },
  {
   "cell_type": "code",
   "execution_count": 112,
   "metadata": {
    "_uuid": "6056aa5ff4fbfa729cf28f13fe12693bc2baad24"
   },
   "outputs": [
    {
     "data": {
      "text/html": [
       "<div>\n",
       "<style scoped>\n",
       "    .dataframe tbody tr th:only-of-type {\n",
       "        vertical-align: middle;\n",
       "    }\n",
       "\n",
       "    .dataframe tbody tr th {\n",
       "        vertical-align: top;\n",
       "    }\n",
       "\n",
       "    .dataframe thead th {\n",
       "        text-align: right;\n",
       "    }\n",
       "</style>\n",
       "<table border=\"1\" class=\"dataframe\">\n",
       "  <thead>\n",
       "    <tr style=\"text-align: right;\">\n",
       "      <th></th>\n",
       "      <th>Date</th>\n",
       "      <th>Open</th>\n",
       "      <th>High</th>\n",
       "      <th>Low</th>\n",
       "      <th>Close</th>\n",
       "      <th>Volume</th>\n",
       "      <th>Adj Close</th>\n",
       "      <th>Difference</th>\n",
       "    </tr>\n",
       "  </thead>\n",
       "  <tbody>\n",
       "    <tr>\n",
       "      <th>0</th>\n",
       "      <td>2016-07-01</td>\n",
       "      <td>17924.240234</td>\n",
       "      <td>18002.380859</td>\n",
       "      <td>17916.910156</td>\n",
       "      <td>17949.369141</td>\n",
       "      <td>82160000</td>\n",
       "      <td>17949.369141</td>\n",
       "      <td>85.470703</td>\n",
       "    </tr>\n",
       "    <tr>\n",
       "      <th>1</th>\n",
       "      <td>2016-06-30</td>\n",
       "      <td>17712.759766</td>\n",
       "      <td>17930.609375</td>\n",
       "      <td>17711.800781</td>\n",
       "      <td>17929.990234</td>\n",
       "      <td>133030000</td>\n",
       "      <td>17929.990234</td>\n",
       "      <td>218.808594</td>\n",
       "    </tr>\n",
       "    <tr>\n",
       "      <th>2</th>\n",
       "      <td>2016-06-29</td>\n",
       "      <td>17456.019531</td>\n",
       "      <td>17704.509766</td>\n",
       "      <td>17456.019531</td>\n",
       "      <td>17694.679688</td>\n",
       "      <td>106380000</td>\n",
       "      <td>17694.679688</td>\n",
       "      <td>248.490235</td>\n",
       "    </tr>\n",
       "    <tr>\n",
       "      <th>3</th>\n",
       "      <td>2016-06-28</td>\n",
       "      <td>17190.509766</td>\n",
       "      <td>17409.720703</td>\n",
       "      <td>17190.509766</td>\n",
       "      <td>17409.720703</td>\n",
       "      <td>112190000</td>\n",
       "      <td>17409.720703</td>\n",
       "      <td>219.210937</td>\n",
       "    </tr>\n",
       "    <tr>\n",
       "      <th>4</th>\n",
       "      <td>2016-06-27</td>\n",
       "      <td>17355.210938</td>\n",
       "      <td>17355.210938</td>\n",
       "      <td>17063.080078</td>\n",
       "      <td>17140.240234</td>\n",
       "      <td>138740000</td>\n",
       "      <td>17140.240234</td>\n",
       "      <td>292.130860</td>\n",
       "    </tr>\n",
       "  </tbody>\n",
       "</table>\n",
       "</div>"
      ],
      "text/plain": [
       "         Date          Open          High           Low         Close  \\\n",
       "0  2016-07-01  17924.240234  18002.380859  17916.910156  17949.369141   \n",
       "1  2016-06-30  17712.759766  17930.609375  17711.800781  17929.990234   \n",
       "2  2016-06-29  17456.019531  17704.509766  17456.019531  17694.679688   \n",
       "3  2016-06-28  17190.509766  17409.720703  17190.509766  17409.720703   \n",
       "4  2016-06-27  17355.210938  17355.210938  17063.080078  17140.240234   \n",
       "\n",
       "      Volume     Adj Close  Difference  \n",
       "0   82160000  17949.369141   85.470703  \n",
       "1  133030000  17929.990234  218.808594  \n",
       "2  106380000  17694.679688  248.490235  \n",
       "3  112190000  17409.720703  219.210937  \n",
       "4  138740000  17140.240234  292.130860  "
      ]
     },
     "execution_count": 112,
     "metadata": {},
     "output_type": "execute_result"
    }
   ],
   "source": [
    "df_table[\"Difference\"] = df_table.High - df_table.Low\n",
    "df_table.head()"
   ]
  },
  {
   "cell_type": "markdown",
   "metadata": {
    "_uuid": "1964b6b7fc90407b51aa73cb742abf02880f65cc"
   },
   "source": [
    "### **Change Index Name** <a id=\"67\"></a>\n",
    "Change index name to new index name\n",
    "\n",
    "<mark>[Return Contents](#0)\n",
    "<hr>"
   ]
  },
  {
   "cell_type": "code",
   "execution_count": 113,
   "metadata": {
    "_uuid": "ada0dc263126bde102f32891d5a574136ea0796d"
   },
   "outputs": [
    {
     "name": "stdout",
     "output_type": "stream",
     "text": [
      "None\n"
     ]
    },
    {
     "data": {
      "text/html": [
       "<div>\n",
       "<style scoped>\n",
       "    .dataframe tbody tr th:only-of-type {\n",
       "        vertical-align: middle;\n",
       "    }\n",
       "\n",
       "    .dataframe tbody tr th {\n",
       "        vertical-align: top;\n",
       "    }\n",
       "\n",
       "    .dataframe thead th {\n",
       "        text-align: right;\n",
       "    }\n",
       "</style>\n",
       "<table border=\"1\" class=\"dataframe\">\n",
       "  <thead>\n",
       "    <tr style=\"text-align: right;\">\n",
       "      <th></th>\n",
       "      <th>Date</th>\n",
       "      <th>Open</th>\n",
       "      <th>High</th>\n",
       "      <th>Low</th>\n",
       "      <th>Close</th>\n",
       "      <th>Volume</th>\n",
       "      <th>Adj Close</th>\n",
       "      <th>Difference</th>\n",
       "    </tr>\n",
       "    <tr>\n",
       "      <th>index_name</th>\n",
       "      <th></th>\n",
       "      <th></th>\n",
       "      <th></th>\n",
       "      <th></th>\n",
       "      <th></th>\n",
       "      <th></th>\n",
       "      <th></th>\n",
       "      <th></th>\n",
       "    </tr>\n",
       "  </thead>\n",
       "  <tbody>\n",
       "    <tr>\n",
       "      <th>0</th>\n",
       "      <td>2016-07-01</td>\n",
       "      <td>17924.240234</td>\n",
       "      <td>18002.380859</td>\n",
       "      <td>17916.910156</td>\n",
       "      <td>17949.369141</td>\n",
       "      <td>82160000</td>\n",
       "      <td>17949.369141</td>\n",
       "      <td>85.470703</td>\n",
       "    </tr>\n",
       "    <tr>\n",
       "      <th>1</th>\n",
       "      <td>2016-06-30</td>\n",
       "      <td>17712.759766</td>\n",
       "      <td>17930.609375</td>\n",
       "      <td>17711.800781</td>\n",
       "      <td>17929.990234</td>\n",
       "      <td>133030000</td>\n",
       "      <td>17929.990234</td>\n",
       "      <td>218.808594</td>\n",
       "    </tr>\n",
       "    <tr>\n",
       "      <th>2</th>\n",
       "      <td>2016-06-29</td>\n",
       "      <td>17456.019531</td>\n",
       "      <td>17704.509766</td>\n",
       "      <td>17456.019531</td>\n",
       "      <td>17694.679688</td>\n",
       "      <td>106380000</td>\n",
       "      <td>17694.679688</td>\n",
       "      <td>248.490235</td>\n",
       "    </tr>\n",
       "    <tr>\n",
       "      <th>3</th>\n",
       "      <td>2016-06-28</td>\n",
       "      <td>17190.509766</td>\n",
       "      <td>17409.720703</td>\n",
       "      <td>17190.509766</td>\n",
       "      <td>17409.720703</td>\n",
       "      <td>112190000</td>\n",
       "      <td>17409.720703</td>\n",
       "      <td>219.210937</td>\n",
       "    </tr>\n",
       "    <tr>\n",
       "      <th>4</th>\n",
       "      <td>2016-06-27</td>\n",
       "      <td>17355.210938</td>\n",
       "      <td>17355.210938</td>\n",
       "      <td>17063.080078</td>\n",
       "      <td>17140.240234</td>\n",
       "      <td>138740000</td>\n",
       "      <td>17140.240234</td>\n",
       "      <td>292.130860</td>\n",
       "    </tr>\n",
       "  </tbody>\n",
       "</table>\n",
       "</div>"
      ],
      "text/plain": [
       "                  Date          Open          High           Low  \\\n",
       "index_name                                                         \n",
       "0           2016-07-01  17924.240234  18002.380859  17916.910156   \n",
       "1           2016-06-30  17712.759766  17930.609375  17711.800781   \n",
       "2           2016-06-29  17456.019531  17704.509766  17456.019531   \n",
       "3           2016-06-28  17190.509766  17409.720703  17190.509766   \n",
       "4           2016-06-27  17355.210938  17355.210938  17063.080078   \n",
       "\n",
       "                   Close     Volume     Adj Close  Difference  \n",
       "index_name                                                     \n",
       "0           17949.369141   82160000  17949.369141   85.470703  \n",
       "1           17929.990234  133030000  17929.990234  218.808594  \n",
       "2           17694.679688  106380000  17694.679688  248.490235  \n",
       "3           17409.720703  112190000  17409.720703  219.210937  \n",
       "4           17140.240234  138740000  17140.240234  292.130860  "
      ]
     },
     "execution_count": 113,
     "metadata": {},
     "output_type": "execute_result"
    }
   ],
   "source": [
    "print(df.index.name)\n",
    "df_table.index.name = \"index_name\"\n",
    "df_table.head()"
   ]
  },
  {
   "cell_type": "markdown",
   "metadata": {
    "_uuid": "15710f63a62ff12196912e9b41919b6157b90dff"
   },
   "source": [
    "### **Make all columns lowercase** <a id=\"68\"></a>\n",
    "<mark>[Return Contents](#0)\n",
    "<hr>"
   ]
  },
  {
   "cell_type": "code",
   "execution_count": null,
   "metadata": {
    "_uuid": "ae9b53e39babf6b99fae1ebc3746ccd41be813b3"
   },
   "outputs": [],
   "source": [
    "#df.columns = map(str.lower(), df.columns)"
   ]
  },
  {
   "cell_type": "markdown",
   "metadata": {
    "_uuid": "5e56335f86a4e3e463151a9e4470bdf71183b863"
   },
   "source": [
    "### **Make all columns uppercase** <a id=\"69\"></a>\n",
    "<mark>[Return Contents](#0)\n",
    "<hr>"
   ]
  },
  {
   "cell_type": "code",
   "execution_count": null,
   "metadata": {
    "_uuid": "7c1800e1b60aadffc1105b77dae3ae98f62b67fa"
   },
   "outputs": [],
   "source": [
    "#df.columns = map(str.upper(), df.columns)"
   ]
  },
  {
   "cell_type": "markdown",
   "metadata": {
    "_uuid": "6b289272d9dff6967d82110f9e71b8cf0754cf1f"
   },
   "source": [
    "# **Drop Data** <a id=\"70\"></a>\n",
    "\n",
    "<mark>[Return Contents](#0)\n",
    "<hr>"
   ]
  },
  {
   "cell_type": "markdown",
   "metadata": {
    "_uuid": "e9ac8aff9d77672a72d8460ccc00612d13fff631"
   },
   "source": [
    "### **df.drop(columns=['columnName'])** <a id=\"71\"></a>\n",
    "This code deletes the column we have specified. But as above, I have to reset the delete to the df variable again."
   ]
  },
  {
   "cell_type": "code",
   "execution_count": null,
   "metadata": {
    "_uuid": "41d2d8fff5ad5d5e1175ec4bc985169bf3872f23"
   },
   "outputs": [],
   "source": [
    "df.drop(columns=['Adj Close']).head()\n",
    "# df = df.drop(columns=['Id']) -> True way\n",
    "# OR\n",
    "# df = df.drop('col', axis=1)\n",
    "# axis = 1 is meaning delete columns\n",
    "# axis = 0 is meaning delete rows"
   ]
  },
  {
   "cell_type": "markdown",
   "metadata": {
    "_uuid": "f80fb6f28d3b1ca5c0e30ebbb40e3c56ba19581c"
   },
   "source": [
    "### **mySeries.drop(['a'])** <a id=\"72\"></a>\n",
    "This code allows us to delete the value specified in the series.\n",
    "\n",
    "<mark>[Return Contents](#0)\n",
    "<hr>"
   ]
  },
  {
   "cell_type": "code",
   "execution_count": null,
   "metadata": {
    "_uuid": "77930a8a0369518c8c5bfcf4c8594adb14ca028c"
   },
   "outputs": [],
   "source": [
    "mySeries.drop(['a'])"
   ]
  },
  {
   "cell_type": "markdown",
   "metadata": {
    "_uuid": "6a472c27b3703d89606949b355c5008ff8981908"
   },
   "source": [
    "### **Drop an observation (row)** <a id=\"82\"></a>\n",
    "\n",
    "<mark>[Return Contents](#0)\n",
    "<hr>"
   ]
  },
  {
   "cell_type": "code",
   "execution_count": null,
   "metadata": {
    "_uuid": "3fb937803e52af8a17314cfd0ccb24e0d87f7423"
   },
   "outputs": [],
   "source": [
    "# df.drop(['2016-07-01', '2016-06-27'])"
   ]
  },
  {
   "cell_type": "markdown",
   "metadata": {
    "_uuid": "24773e44d98f5c9bcb97c7aa8b7109919f8c8d91"
   },
   "source": [
    "### **Drop a variable (column)** <a id=\"83\"></a>\n",
    "\n",
    "<mark>[Return Contents](#0)\n",
    "<hr>\n",
    "Note: axis=1 denotes that we are referring to a column, not a row"
   ]
  },
  {
   "cell_type": "code",
   "execution_count": null,
   "metadata": {
    "_uuid": "3b341838cde86e0bf29cf10acd86c89fd5e3dae9"
   },
   "outputs": [],
   "source": [
    "# df.drop('Volume', axis=1)"
   ]
  },
  {
   "cell_type": "markdown",
   "metadata": {
    "_uuid": "257734e1e5181e1a7983b246b96fd9d48e82c383"
   },
   "source": [
    "# **Convert Data Types** <a id=\"73\"></a>\n",
    "\n",
    "<mark>[Return Contents](#0)\n",
    "<hr>\n",
    "\n",
    "### **df.dtypes** <a id=\"74\"></a>\n",
    "This code shows what data type of columns are. Boolean, int, float, object(String), date and categorical."
   ]
  },
  {
   "cell_type": "code",
   "execution_count": null,
   "metadata": {
    "_uuid": "d02e7c7f166080e52b16976bbf2e823bc341f6c9"
   },
   "outputs": [],
   "source": [
    "df.dtypes"
   ]
  },
  {
   "cell_type": "markdown",
   "metadata": {
    "_uuid": "ca2aa5c9ab554e05194f2d615b951e7bd0dd53a5"
   },
   "source": [
    "### **df['columnName'] = df['columnName'].astype('dataType')** <a id=\"75\"></a>\n",
    "This code convert the column we specify into the data type we specify.\n",
    "\n",
    "<mark>[Return Contents](#0)\n",
    "<hr>"
   ]
  },
  {
   "cell_type": "code",
   "execution_count": null,
   "metadata": {
    "_uuid": "ab77df3bc11b833c288e65de5b14942623323141"
   },
   "outputs": [],
   "source": [
    "df.Date.astype('category').dtypes\n",
    "# OR Convert Datetime\n",
    "# df.Date= pd.to_datetime(df.Date)"
   ]
  },
  {
   "cell_type": "markdown",
   "metadata": {
    "_uuid": "5f6a908930f020091d29630525dea48a6b5047ee"
   },
   "source": [
    "### **pd.melt(frame=dataFrameName,id_vars = 'columnName', value_vars= ['columnName'])** <a id=\"76\"></a>\n",
    "This code is confusing, so lets look at the example.\n",
    "\n",
    "<mark>[Return Contents](#0)\n",
    "<hr>"
   ]
  },
  {
   "cell_type": "code",
   "execution_count": null,
   "metadata": {
    "_uuid": "2a461f5a7096f6c3047c37f77a21a302a4724be3"
   },
   "outputs": [],
   "source": [
    "df_new = df.head()\n",
    "melted = pd.melt(frame=df_new,id_vars = 'Date', value_vars= ['Low'])\n",
    "melted"
   ]
  },
  {
   "cell_type": "markdown",
   "metadata": {
    "_uuid": "019d675c8328676e2a53c936359a83530f2fccf8"
   },
   "source": [
    "# **Apply Function** <a id=\"77\"></a>\n",
    "\n",
    "<mark>[Return Contents](#0)\n",
    "<hr>\n",
    "\n",
    "### **Method 1** <a id=\"78\"></a>"
   ]
  },
  {
   "cell_type": "code",
   "execution_count": null,
   "metadata": {
    "_uuid": "f3d0a47f7f60f42ab74031960962dca9f5c51a90"
   },
   "outputs": [],
   "source": [
    "def examples(x):   #create a function\n",
    "    return x*2\n",
    "\n",
    "df.Open.apply(examples).head()  #use the function with apply() "
   ]
  },
  {
   "cell_type": "markdown",
   "metadata": {
    "_uuid": "45734ddf89edf8ad9075a2222c78448b0e455214"
   },
   "source": [
    "### **Method 2** <a id=\"79\"></a>"
   ]
  },
  {
   "cell_type": "code",
   "execution_count": null,
   "metadata": {
    "_uuid": "6447848a7f2fd2c7a0100317e1c4869260f4c11e"
   },
   "outputs": [],
   "source": [
    "df.Open.apply(lambda x: x*2).head()"
   ]
  },
  {
   "cell_type": "markdown",
   "metadata": {
    "_uuid": "e80845b38f09a29a6b486e8c692c32b4e32b8267"
   },
   "source": [
    "# **Utilities Code** <a id=\"80\"></a>\n",
    "\n",
    "<mark>[Return Contents](#0)\n",
    "<hr>"
   ]
  },
  {
   "cell_type": "code",
   "execution_count": null,
   "metadata": {
    "_uuid": "5319d80d0d27b4aa0065de122ec43d1715fc9264"
   },
   "outputs": [],
   "source": [
    "# pd.get_option OR pd.set_option\n",
    "# pd.reset_option(\"^display\")\n",
    "\n",
    "# pd.reset_option(\"display.max_rows\")\n",
    "# pd.get_option(\"display.max_rows\")\n",
    "# pd.set_option(\"max_r\",102)                 -> specifies the maximum number of rows to display.\n",
    "# pd.options.display.max_rows = 999          -> specifies the maximum number of rows to display.\n",
    "\n",
    "# pd.get_option(\"display.max_columns\")\n",
    "# pd.options.display.max_columns = 999       -> specifies the maximum number of columns to display.\n",
    "\n",
    "# pd.set_option('display.width', 300)\n",
    "\n",
    "# pd.set_option('display.max_columns', 300)  -> specifies the maximum number of rows to display.\n",
    "# pd.set_option('display.max_colwidth', 500) -> specifies the maximum number of columns to display. \n",
    "\n",
    "# pd.get_option('max_colwidth')\n",
    "# pd.set_option('max_colwidth',40)\n",
    "# pd.reset_option('max_colwidth')\n",
    "\n",
    "# pd.get_option('max_info_columns')\n",
    "# pd.set_option('max_info_columns', 11)\n",
    "# pd.reset_option('max_info_columns')\n",
    "\n",
    "# pd.get_option('max_info_rows')\n",
    "# pd.set_option('max_info_rows', 11)\n",
    "# pd.reset_option('max_info_rows')\n",
    "\n",
    "# pd.set_option('precision',7) -> sets the output display precision in terms of decimal places. This is only a suggestion.\n",
    "# OR\n",
    "# pd.set_option('display.precision',3)\n",
    "\n",
    "# pd.set_option('chop_threshold', 0) -> sets at what level pandas rounds to zero when it displays a Series of DataFrame. This setting does not change the precision at which the number is stored.\n",
    "# pd.reset_option('chop_threshold') "
   ]
  }
 ],
 "metadata": {
  "kernelspec": {
   "display_name": "Python 3",
   "language": "python",
   "name": "python3"
  },
  "language_info": {
   "codemirror_mode": {
    "name": "ipython",
    "version": 3
   },
   "file_extension": ".py",
   "mimetype": "text/x-python",
   "name": "python",
   "nbconvert_exporter": "python",
   "pygments_lexer": "ipython3",
   "version": "3.7.3"
  }
 },
 "nbformat": 4,
 "nbformat_minor": 1
}
